{
 "cells": [
  {
   "cell_type": "markdown",
   "metadata": {},
   "source": [
    "<h1> Preprocessing using Dataflow </h1>\n",
    "\n",
    "This notebook illustrates:\n",
    "<ol>\n",
    "<li> Creating datasets for Machine Learning using Dataflow\n",
    "</ol>\n",
    "<p>\n",
    "While Pandas is fine for experimenting, for operationalization of your workflow, it is better to do preprocessing in Apache Beam. This will also help if you need to preprocess data in flight, since Apache Beam also allows for streaming."
   ]
  },
  {
   "attachments": {
    "image.png": {
     "image/png": "[encoded data removed]"
    }
   },
   "cell_type": "markdown",
   "metadata": {},
   "source": [
    "Apache Beam only works in Python 2 at the moment, so we're going to switch to the Python 2 kernel. In the above menu, click the dropdown arrow and select `python2`. ![image.png](attachment:image.png)"
   ]
  },
  {
   "cell_type": "markdown",
   "metadata": {},
   "source": [
    "Then activate a Python 2 environment and install Apache Beam."
   ]
  },
  {
   "cell_type": "code",
   "execution_count": 1,
   "metadata": {},
   "outputs": [
    {
     "name": "stdout",
     "output_type": "stream",
     "text": [
      "Solving environment: ...working... done\n",
      "\n",
      "## Package Plan ##\n",
      "\n",
      "  environment location: /usr/local/envs/py2env\n",
      "\n",
      "  added / updated specs: \n",
      "    - pytz\n",
      "\n",
      "\n",
      "The following packages will be downloaded:\n",
      "\n",
      "    package                    |            build\n",
      "    ---------------------------|-----------------\n",
      "    sqlite-3.25.3              |       h7b6447c_0         1.9 MB  defaults\n",
      "    cryptography-2.4.1         |   py27h1ba5d50_0         606 KB  defaults\n",
      "    certifi-2018.10.15         |           py27_0         139 KB  defaults\n",
      "    sip-4.18                   |           py27_0         264 KB  defaults\n",
      "    pyqt-4.11.4                |           py27_4         3.3 MB  defaults\n",
      "    tk-8.6.8                   |       hbc83047_0         3.1 MB  defaults\n",
      "    pytz-2018.7                |           py27_0         248 KB  defaults\n",
      "    qt-4.8.7                   |                2        34.1 MB  defaults\n",
      "    python-2.7.15              |       h9bab390_4        12.8 MB  defaults\n",
      "    openssl-1.1.1a             |       h7b6447c_0         5.0 MB  defaults\n",
      "    ------------------------------------------------------------\n",
      "                                           Total:        61.5 MB\n",
      "\n",
      "The following packages will be UPDATED:\n",
      "\n",
      "    certifi:      2018.8.13-py27_0      defaults --> 2018.10.15-py27_0    defaults\n",
      "    cryptography: 2.3-py27hb7f436b_0    defaults --> 2.4.1-py27h1ba5d50_0 defaults\n",
      "    openssl:      1.0.2p-h14c3975_0     defaults --> 1.1.1a-h7b6447c_0    defaults\n",
      "    python:       2.7.15-h1571d57_0     defaults --> 2.7.15-h9bab390_4    defaults\n",
      "    pytz:         2016.7-py27_0         defaults --> 2018.7-py27_0        defaults\n",
      "    sqlite:       3.24.0-h84994c4_0     defaults --> 3.25.3-h7b6447c_0    defaults\n",
      "    tk:           8.6.7-hc745277_3      defaults --> 8.6.8-hbc83047_0     defaults\n",
      "\n",
      "The following packages will be DOWNGRADED:\n",
      "\n",
      "    pyqt:         5.6.0-py27h22d08a2_6  defaults --> 4.11.4-py27_4        defaults\n",
      "    qt:           5.6.2-hd25b39d_14     defaults --> 4.8.7-2              defaults\n",
      "    sip:          4.18.1-py27hf484d3e_2 defaults --> 4.18-py27_0          defaults\n",
      "\n",
      "\n",
      "Downloading and Extracting Packages\n",
      "Preparing transaction: ...working... done\n",
      "Verifying transaction: ...working... done\n",
      "Executing transaction: ...working... done\n",
      "Uninstalling google-cloud-dataflow-2.0.0:\n",
      "  Successfully uninstalled google-cloud-dataflow-2.0.0\n",
      "Collecting apache-beam[gcp]\n",
      "  Downloading https://files.pythonhosted.org/packages/0f/63/ea5453ba656d060936acf41d2ec057f23aafd69649e2129ac66fdda67d48/apache_beam-2.8.0-cp27-cp27mu-manylinux1_x86_64.whl (2.3MB)\n",
      "Requirement already satisfied, skipping upgrade: dill<=0.2.8.2,>=0.2.6 in /usr/local/envs/py2env/lib/python2.7/site-packages (from apache-beam[gcp]) (0.2.6)\n",
      "Requirement already satisfied, skipping upgrade: oauth2client<5,>=2.0.1 in /usr/local/envs/py2env/lib/python2.7/site-packages (from apache-beam[gcp]) (2.2.0)\n",
      "Requirement already satisfied, skipping upgrade: httplib2<=0.11.3,>=0.8 in /usr/local/envs/py2env/lib/python2.7/site-packages (from apache-beam[gcp]) (0.11.3)\n",
      "Requirement already satisfied, skipping upgrade: avro<2.0.0,>=1.8.1 in /usr/local/envs/py2env/lib/python2.7/site-packages (from apache-beam[gcp]) (1.8.2)\n",
      "Requirement already satisfied, skipping upgrade: pyyaml<4.0.0,>=3.12 in /usr/local/envs/py2env/lib/python2.7/site-packages (from apache-beam[gcp]) (3.13)\n",
      "Collecting typing<3.7.0,>=3.6.0; python_version < \"3.5.0\" (from apache-beam[gcp])\n",
      "  Downloading https://files.pythonhosted.org/packages/cc/3e/29f92b7aeda5b078c86d14f550bf85cff809042e3429ace7af6193c3bc9f/typing-3.6.6-py2-none-any.whl\n",
      "Requirement already satisfied, skipping upgrade: protobuf<4,>=3.5.0.post1 in /usr/local/envs/py2env/lib/python2.7/site-packages (from apache-beam[gcp]) (3.5.2)\n",
      "Requirement already satisfied, skipping upgrade: future<1.0.0,>=0.16.0 in /usr/local/envs/py2env/lib/python2.7/site-packages (from apache-beam[gcp]) (0.16.0)\n",
      "Collecting pydot<1.3,>=1.2.0 (from apache-beam[gcp])\n",
      "  Downloading https://files.pythonhosted.org/packages/c3/f1/e61d6dfe6c1768ed2529761a68f70939e2569da043e9f15a8d84bf56cadf/pydot-1.2.4.tar.gz (132kB)\n",
      "Requirement already satisfied, skipping upgrade: crcmod<2.0,>=1.7 in /usr/local/envs/py2env/lib/python2.7/site-packages (from apache-beam[gcp]) (1.7)\n",
      "Collecting fastavro<0.22,>=0.21.4 (from apache-beam[gcp])\n",
      "  Downloading https://files.pythonhosted.org/packages/4d/9f/0cc925af89b0762925a2ec681bb82f2a1d5105554850086744c3f4ba5136/fastavro-0.21.14.tar.gz (468kB)\n",
      "Requirement already satisfied, skipping upgrade: futures<4.0.0,>=3.1.1 in /usr/local/envs/py2env/lib/python2.7/site-packages (from apache-beam[gcp]) (3.2.0)\n",
      "Requirement already satisfied, skipping upgrade: grpcio<2,>=1.8 in /usr/local/envs/py2env/lib/python2.7/site-packages (from apache-beam[gcp]) (1.14.1)\n",
      "Collecting pyvcf<0.7.0,>=0.6.8 (from apache-beam[gcp])\n",
      "  Downloading https://files.pythonhosted.org/packages/20/b6/36bfb1760f6983788d916096193fc14c83cce512c7787c93380e09458c09/PyVCF-0.6.8.tar.gz\n",
      "Requirement already satisfied, skipping upgrade: mock<3.0.0,>=1.0.1 in /usr/local/envs/py2env/lib/python2.7/site-packages (from apache-beam[gcp]) (2.0.0)\n",
      "Collecting hdfs<3.0.0,>=2.1.0 (from apache-beam[gcp])\n",
      "  Downloading https://files.pythonhosted.org/packages/a9/d5/e5d0b21b4400adf80d69612a57afbb2cbee2e208da9a890f925921a41819/hdfs-2.2.1.tar.gz\n",
      "Collecting pytz<=2018.4,>=2018.3 (from apache-beam[gcp])\n",
      "  Downloading https://files.pythonhosted.org/packages/dc/83/15f7833b70d3e067ca91467ca245bae0f6fe56ddc7451aa0dc5606b120f2/pytz-2018.4-py2.py3-none-any.whl (510kB)\n",
      "Collecting google-apitools<=0.5.20,>=0.5.18; extra == \"gcp\" (from apache-beam[gcp])\n",
      "  Downloading https://files.pythonhosted.org/packages/1d/0c/64f84f91643f775fdb64c6c10f4a4f0d827f8b0d98a2ba2b4bb9dc2f8646/google_apitools-0.5.20-py2-none-any.whl (330kB)\n",
      "Collecting proto-google-cloud-pubsub-v1==0.15.4; extra == \"gcp\" (from apache-beam[gcp])\n",
      "  Downloading https://files.pythonhosted.org/packages/c0/a2/2eeffa0069830f00016196dfdd69491cf562372b5353f2e8e378b3c2cb0a/proto-google-cloud-pubsub-v1-0.15.4.tar.gz\n",
      "Requirement already satisfied, skipping upgrade: googledatastore==7.0.1; python_version < \"3.0\" and extra == \"gcp\" in /usr/local/envs/py2env/lib/python2.7/site-packages (from apache-beam[gcp]) (7.0.1)\n",
      "Collecting google-cloud-bigquery==0.25.0; extra == \"gcp\" (from apache-beam[gcp])\n",
      "  Downloading https://files.pythonhosted.org/packages/76/67/6165c516ff6ceaa62eb61f11d8451e1b0acc4d3775e181630aba9652babb/google_cloud_bigquery-0.25.0-py2.py3-none-any.whl (41kB)\n",
      "Collecting google-cloud-pubsub==0.26.0; extra == \"gcp\" (from apache-beam[gcp])\n",
      "  Downloading https://files.pythonhosted.org/packages/37/92/c74a643126d58505daec9addf872dfaffea3305981b90cc435f4b9213cdd/google_cloud_pubsub-0.26.0-py2.py3-none-any.whl\n",
      "Requirement already satisfied, skipping upgrade: proto-google-cloud-datastore-v1<=0.90.4,>=0.90.0; extra == \"gcp\" in /usr/local/envs/py2env/lib/python2.7/site-packages (from apache-beam[gcp]) (0.90.0)\n",
      "Requirement already satisfied, skipping upgrade: pyasn1>=0.1.7 in /usr/local/envs/py2env/lib/python2.7/site-packages (from oauth2client<5,>=2.0.1->apache-beam[gcp]) (0.4.4)\n",
      "Requirement already satisfied, skipping upgrade: pyasn1-modules>=0.0.5 in /usr/local/envs/py2env/lib/python2.7/site-packages (from oauth2client<5,>=2.0.1->apache-beam[gcp]) (0.2.2)\n",
      "Requirement already satisfied, skipping upgrade: rsa>=3.1.4 in /usr/local/envs/py2env/lib/python2.7/site-packages (from oauth2client<5,>=2.0.1->apache-beam[gcp]) (3.4.2)\n",
      "Requirement already satisfied, skipping upgrade: six>=1.6.1 in /usr/local/envs/py2env/lib/python2.7/site-packages (from oauth2client<5,>=2.0.1->apache-beam[gcp]) (1.10.0)\n",
      "Requirement already satisfied, skipping upgrade: setuptools in /usr/local/envs/py2env/lib/python2.7/site-packages (from protobuf<4,>=3.5.0.post1->apache-beam[gcp]) (40.0.0)\n",
      "Requirement already satisfied, skipping upgrade: pyparsing>=2.1.4 in /usr/local/envs/py2env/lib/python2.7/site-packages (from pydot<1.3,>=1.2.0->apache-beam[gcp]) (2.2.0)\n",
      "Requirement already satisfied, skipping upgrade: enum34>=1.0.4 in /usr/local/envs/py2env/lib/python2.7/site-packages (from grpcio<2,>=1.8->apache-beam[gcp]) (1.1.6)\n",
      "Requirement already satisfied, skipping upgrade: funcsigs>=1 in /usr/local/envs/py2env/lib/python2.7/site-packages (from mock<3.0.0,>=1.0.1->apache-beam[gcp]) (1.0.0)\n",
      "Requirement already satisfied, skipping upgrade: pbr>=0.11 in /usr/local/envs/py2env/lib/python2.7/site-packages (from mock<3.0.0,>=1.0.1->apache-beam[gcp]) (4.2.0)\n",
      "Collecting docopt (from hdfs<3.0.0,>=2.1.0->apache-beam[gcp])\n",
      "  Downloading https://files.pythonhosted.org/packages/a2/55/8f8cab2afd404cf578136ef2cc5dfb50baa1761b68c9da1fb1e4eed343c9/docopt-0.6.2.tar.gz\n",
      "Requirement already satisfied, skipping upgrade: requests>=2.7.0 in /usr/local/envs/py2env/lib/python2.7/site-packages (from hdfs<3.0.0,>=2.1.0->apache-beam[gcp]) (2.18.4)\n",
      "Collecting fasteners>=0.14 (from google-apitools<=0.5.20,>=0.5.18; extra == \"gcp\"->apache-beam[gcp])\n",
      "  Downloading https://files.pythonhosted.org/packages/14/3a/096c7ad18e102d4f219f5dd15951f9728ca5092a3385d2e8f79a7c1e1017/fasteners-0.14.1-py2.py3-none-any.whl\n",
      "Requirement already satisfied, skipping upgrade: googleapis-common-protos<2.0dev,>=1.5.2 in /usr/local/envs/py2env/lib/python2.7/site-packages (from proto-google-cloud-pubsub-v1==0.15.4; extra == \"gcp\"->apache-beam[gcp]) (1.5.3)\n",
      "Collecting google-cloud-core<0.26dev,>=0.25.0 (from google-cloud-bigquery==0.25.0; extra == \"gcp\"->apache-beam[gcp])\n",
      "  Downloading https://files.pythonhosted.org/packages/ef/dd/00e90bd1f6788f06ca5ea83a0ec8dd76350b38303bb8f09d2bf692eb1294/google_cloud_core-0.25.0-py2.py3-none-any.whl (52kB)\n",
      "Collecting gapic-google-cloud-pubsub-v1<0.16dev,>=0.15.0 (from google-cloud-pubsub==0.26.0; extra == \"gcp\"->apache-beam[gcp])\n",
      "  Downloading https://files.pythonhosted.org/packages/bc/a7/0225bd7a95e037a0afa90b2dd9534d0c79cd62283a5bddb30a3197579cbc/gapic-google-cloud-pubsub-v1-0.15.4.tar.gz\n",
      "Requirement already satisfied, skipping upgrade: ordereddict in /usr/local/envs/py2env/lib/python2.7/site-packages (from funcsigs>=1->mock<3.0.0,>=1.0.1->apache-beam[gcp]) (1.1)\n",
      "Requirement already satisfied, skipping upgrade: chardet<3.1.0,>=3.0.2 in /usr/local/envs/py2env/lib/python2.7/site-packages (from requests>=2.7.0->hdfs<3.0.0,>=2.1.0->apache-beam[gcp]) (3.0.4)\n",
      "Requirement already satisfied, skipping upgrade: idna<2.7,>=2.5 in /usr/local/envs/py2env/lib/python2.7/site-packages (from requests>=2.7.0->hdfs<3.0.0,>=2.1.0->apache-beam[gcp]) (2.6)\n",
      "Requirement already satisfied, skipping upgrade: urllib3<1.23,>=1.21.1 in /usr/local/envs/py2env/lib/python2.7/site-packages (from requests>=2.7.0->hdfs<3.0.0,>=2.1.0->apache-beam[gcp]) (1.22)\n",
      "Requirement already satisfied, skipping upgrade: certifi>=2017.4.17 in /usr/local/envs/py2env/lib/python2.7/site-packages (from requests>=2.7.0->hdfs<3.0.0,>=2.1.0->apache-beam[gcp]) (2018.10.15)\n",
      "Collecting monotonic>=0.1 (from fasteners>=0.14->google-apitools<=0.5.20,>=0.5.18; extra == \"gcp\"->apache-beam[gcp])\n",
      "  Downloading https://files.pythonhosted.org/packages/ac/aa/063eca6a416f397bd99552c534c6d11d57f58f2e94c14780f3bbf818c4cf/monotonic-1.5-py2.py3-none-any.whl\n",
      "Requirement already satisfied, skipping upgrade: google-auth-httplib2 in /usr/local/envs/py2env/lib/python2.7/site-packages (from google-cloud-core<0.26dev,>=0.25.0->google-cloud-bigquery==0.25.0; extra == \"gcp\"->apache-beam[gcp]) (0.0.3)\n",
      "Requirement already satisfied, skipping upgrade: google-auth<2.0.0dev,>=0.4.0 in /usr/local/envs/py2env/lib/python2.7/site-packages (from google-cloud-core<0.26dev,>=0.25.0->google-cloud-bigquery==0.25.0; extra == \"gcp\"->apache-beam[gcp]) (1.5.1)\n",
      "Collecting google-gax<0.16dev,>=0.15.7 (from gapic-google-cloud-pubsub-v1<0.16dev,>=0.15.0->google-cloud-pubsub==0.26.0; extra == \"gcp\"->apache-beam[gcp])\n",
      "  Downloading https://files.pythonhosted.org/packages/4f/b4/ff312fa42f91535c67567c1d08e972db0e7c548e9a63c6f3bcc5213b32fc/google_gax-0.15.16-py2.py3-none-any.whl (46kB)\n",
      "Collecting grpc-google-iam-v1<0.12dev,>=0.11.1 (from gapic-google-cloud-pubsub-v1<0.16dev,>=0.15.0->google-cloud-pubsub==0.26.0; extra == \"gcp\"->apache-beam[gcp])\n",
      "  Downloading https://files.pythonhosted.org/packages/9b/28/f26f67381cb23e81271b8d66c00a846ad9d25a909ae1ae1df8222fad2744/grpc-google-iam-v1-0.11.4.tar.gz\n",
      "Requirement already satisfied, skipping upgrade: cachetools>=2.0.0 in /usr/local/envs/py2env/lib/python2.7/site-packages (from google-auth<2.0.0dev,>=0.4.0->google-cloud-core<0.26dev,>=0.25.0->google-cloud-bigquery==0.25.0; extra == \"gcp\"->apache-beam[gcp]) (2.1.0)\n",
      "Collecting ply==3.8 (from google-gax<0.16dev,>=0.15.7->gapic-google-cloud-pubsub-v1<0.16dev,>=0.15.0->google-cloud-pubsub==0.26.0; extra == \"gcp\"->apache-beam[gcp])\n",
      "  Downloading https://files.pythonhosted.org/packages/96/e0/430fcdb6b3ef1ae534d231397bee7e9304be14a47a267e82ebcb3323d0b5/ply-3.8.tar.gz (157kB)\n",
      "Building wheels for collected packages: pydot, fastavro, pyvcf, hdfs, proto-google-cloud-pubsub-v1, docopt, gapic-google-cloud-pubsub-v1, grpc-google-iam-v1, ply\n",
      "  Running setup.py bdist_wheel for pydot: started\n",
      "  Running setup.py bdist_wheel for pydot: finished with status 'done'\n",
      "  Stored in directory: /content/.cache/pip/wheels/6a/a5/14/25541ebcdeaf97a37b6d05c7ff15f5bd20f5e91b99d313e5b4\n",
      "  Running setup.py bdist_wheel for fastavro: started\n",
      "  Running setup.py bdist_wheel for fastavro: finished with status 'done'\n",
      "  Stored in directory: /content/.cache/pip/wheels/e5/b6/81/bf58ca12356b7f275172e0a556ff35254eaa6b0961d061d7aa\n",
      "  Running setup.py bdist_wheel for pyvcf: started\n",
      "  Running setup.py bdist_wheel for pyvcf: finished with status 'done'\n",
      "  Stored in directory: /content/.cache/pip/wheels/81/91/41/3272543c0b9c61da9c525f24ee35bae6fe8f60d4858c66805d\n",
      "  Running setup.py bdist_wheel for hdfs: started\n",
      "  Running setup.py bdist_wheel for hdfs: finished with status 'done'\n",
      "  Stored in directory: /content/.cache/pip/wheels/90/5e/7e/4a3e9e9b5d5ee0884afa8916ca24d9f5dd6d91913457eb4374\n",
      "  Running setup.py bdist_wheel for proto-google-cloud-pubsub-v1: started\n",
      "  Running setup.py bdist_wheel for proto-google-cloud-pubsub-v1: finished with status 'done'\n",
      "  Stored in directory: /content/.cache/pip/wheels/d1/0d/9e/95e7192ab2625847ac40b2bc618800bf5b6c984cd572a83314\n",
      "  Running setup.py bdist_wheel for docopt: started\n",
      "  Running setup.py bdist_wheel for docopt: finished with status 'done'\n",
      "  Stored in directory: /content/.cache/pip/wheels/9b/04/dd/7daf4150b6d9b12949298737de9431a324d4b797ffd63f526e\n",
      "  Running setup.py bdist_wheel for gapic-google-cloud-pubsub-v1: started\n",
      "  Running setup.py bdist_wheel for gapic-google-cloud-pubsub-v1: finished with status 'done'\n",
      "  Stored in directory: /content/.cache/pip/wheels/f4/2b/10/bdcbc9be2ae4e437232e118056f026025cf2cc46d6dcf0d69d\n",
      "  Running setup.py bdist_wheel for grpc-google-iam-v1: started\n",
      "  Running setup.py bdist_wheel for grpc-google-iam-v1: finished with status 'done'\n",
      "  Stored in directory: /content/.cache/pip/wheels/b6/c6/31/c20321a5a3fde456fc375b7c2814135e6e98bc0d74c40239d9\n",
      "  Running setup.py bdist_wheel for ply: started\n",
      "  Running setup.py bdist_wheel for ply: finished with status 'done'\n",
      "  Stored in directory: /content/.cache/pip/wheels/f2/21/c0/f0056cc96847933daa961a19eb59a2ecd0228fdbe3376e7a68\n",
      "Successfully built pydot fastavro pyvcf hdfs proto-google-cloud-pubsub-v1 docopt gapic-google-cloud-pubsub-v1 grpc-google-iam-v1 ply\n",
      "Installing collected packages: typing, pydot, fastavro, pyvcf, docopt, hdfs, pytz, monotonic, fasteners, google-apitools, proto-google-cloud-pubsub-v1, google-cloud-core, google-cloud-bigquery, ply, google-gax, grpc-google-iam-v1, gapic-google-cloud-pubsub-v1, google-cloud-pubsub, apache-beam\n",
      "  Found existing installation: pytz 2018.7\n",
      "    Uninstalling pytz-2018.7:\n",
      "      Successfully uninstalled pytz-2018.7\n",
      "  Found existing installation: google-apitools 0.5.10\n",
      "    Uninstalling google-apitools-0.5.10:\n",
      "      Successfully uninstalled google-apitools-0.5.10\n",
      "  Found existing installation: google-cloud-core 0.28.1\n",
      "    Uninstalling google-cloud-core-0.28.1:\n",
      "      Successfully uninstalled google-cloud-core-0.28.1\n",
      "  Found existing installation: google-cloud-bigquery 0.23.0\n",
      "    Uninstalling google-cloud-bigquery-0.23.0:\n",
      "      Successfully uninstalled google-cloud-bigquery-0.23.0\n",
      "Successfully installed apache-beam-2.8.0 docopt-0.6.2 fastavro-0.21.14 fasteners-0.14.1 gapic-google-cloud-pubsub-v1-0.15.4 google-apitools-0.5.20 google-cloud-bigquery-0.25.0 google-cloud-core-0.25.0 google-cloud-pubsub-0.26.0 google-gax-0.15.16 grpc-google-iam-v1-0.11.4 hdfs-2.2.1 monotonic-1.5 ply-3.8 proto-google-cloud-pubsub-v1-0.15.4 pydot-1.2.4 pytz-2018.4 pyvcf-0.6.8 typing-3.6.6\n"
     ]
    },
    {
     "name": "stderr",
     "output_type": "stream",
     "text": [
      "\n",
      "\n",
      "==> WARNING: A newer version of conda exists. <==\n",
      "  current version: 4.5.10\n",
      "  latest version: 4.5.11\n",
      "\n",
      "Please update conda by running\n",
      "\n",
      "    $ conda update -n base -c defaults conda\n",
      "\n",
      "\n",
      "\r",
      "sqlite-3.25.3        | 1.9 MB    |            |   0% \r",
      "sqlite-3.25.3        | 1.9 MB    | ########   |  80% \r",
      "sqlite-3.25.3        | 1.9 MB    | ########## | 100% \n",
      "\r",
      "cryptography-2.4.1   | 606 KB    |            |   0% \r",
      "cryptography-2.4.1   | 606 KB    | ########1  |  82% \r",
      "cryptography-2.4.1   | 606 KB    | #########8 |  99% \r",
      "cryptography-2.4.1   | 606 KB    | ########## | 100% \n",
      "\r",
      "certifi-2018.10.15   | 139 KB    |            |   0% \r",
      "certifi-2018.10.15   | 139 KB    | ########## | 100% \n",
      "\r",
      "sip-4.18             | 264 KB    |            |   0% \r",
      "sip-4.18             | 264 KB    | ########## | 100% \n",
      "\r",
      "pyqt-4.11.4          | 3.3 MB    |            |   0% \r",
      "pyqt-4.11.4          | 3.3 MB    | #######6   |  77% \r",
      "pyqt-4.11.4          | 3.3 MB    | #########8 |  98% \r",
      "pyqt-4.11.4          | 3.3 MB    | ########## | 100% \n",
      "\r",
      "tk-8.6.8             | 3.1 MB    |            |   0% \r",
      "tk-8.6.8             | 3.1 MB    | #######6   |  77% \r",
      "tk-8.6.8             | 3.1 MB    | ########4  |  85% \r",
      "tk-8.6.8             | 3.1 MB    | #########  |  91% \r",
      "tk-8.6.8             | 3.1 MB    | #########6 |  97% \r",
      "tk-8.6.8             | 3.1 MB    | ########## | 100% \n",
      "\r",
      "pytz-2018.7          | 248 KB    |            |   0% \r",
      "pytz-2018.7          | 248 KB    | #########2 |  93% \r",
      "pytz-2018.7          | 248 KB    | ########## | 100% \n",
      "\r",
      "qt-4.8.7             | 34.1 MB   |            |   0% \r",
      "qt-4.8.7             | 34.1 MB   | #7         |  17% \r",
      "qt-4.8.7             | 34.1 MB   | ###4       |  34% \r",
      "qt-4.8.7             | 34.1 MB   | ######1    |  62% \r",
      "qt-4.8.7             | 34.1 MB   | #######5   |  76% \r",
      "qt-4.8.7             | 34.1 MB   | ########6  |  86% \r",
      "qt-4.8.7             | 34.1 MB   | #########3 |  94% \r",
      "qt-4.8.7             | 34.1 MB   | #########8 |  99% \r",
      "qt-4.8.7             | 34.1 MB   | ########## | 100% \n",
      "\r",
      "python-2.7.15        | 12.8 MB   |            |   0% \r",
      "python-2.7.15        | 12.8 MB   | ####8      |  49% \r",
      "python-2.7.15        | 12.8 MB   | #######5   |  76% \r",
      "python-2.7.15        | 12.8 MB   | #########2 |  93% \r",
      "python-2.7.15        | 12.8 MB   | ########## | 100% \n",
      "\r",
      "openssl-1.1.1a       | 5.0 MB    |            |   0% \r",
      "openssl-1.1.1a       | 5.0 MB    | #######5   |  75% \r",
      "openssl-1.1.1a       | 5.0 MB    | #########6 |  97% \r",
      "openssl-1.1.1a       | 5.0 MB    | ########## | 100% \n",
      "pandas-gbq 0.3.0 has requirement google-cloud-bigquery>=0.28.0, but you'll have google-cloud-bigquery 0.25.0 which is incompatible.\n",
      "google-cloud-monitoring 0.28.0 has requirement google-cloud-core<0.29dev,>=0.28.0, but you'll have google-cloud-core 0.25.0 which is incompatible.\n"
     ]
    }
   ],
   "source": [
    "%%bash\n",
    "source activate py2env\n",
    "conda install -y pytz\n",
    "pip uninstall -y google-cloud-dataflow\n",
    "pip install --upgrade apache-beam[gcp]"
   ]
  },
  {
   "cell_type": "markdown",
   "metadata": {},
   "source": [
    "After doing a pip install, click **\"Reset Session\"** on the notebook so that the Python environment picks up the new packages."
   ]
  },
  {
   "cell_type": "code",
   "execution_count": 3,
   "metadata": {},
   "outputs": [
    {
     "name": "stdout",
     "output_type": "stream",
     "text": [
      "sys.version_info(major=2, minor=7, micro=15, releaselevel='final', serial=0)\n"
     ]
    }
   ],
   "source": [
    "import sys\n",
    "print(sys.version_info)"
   ]
  },
  {
   "cell_type": "code",
   "execution_count": 11,
   "metadata": {},
   "outputs": [
    {
     "name": "stdout",
     "output_type": "stream",
     "text": [
      "qwiklabs-gcp-3c0f7eb99276a8f1\n",
      "inna-bckt-3c0f7eb99276a8f1\n",
      "gsutil mb -l eu-west3 gs://inna-bckt-3c0f7eb99276a8f1\n"
     ]
    }
   ],
   "source": [
    "import os\n",
    "output = os.popen(\"gcloud config get-value project\").readlines()\n",
    "project_name = output[0][:-1]\n",
    "\n",
    "# change these to try this notebook out\n",
    "PROJECT = project_name\n",
    "BUCKET = project_name\n",
    "BUCKET = BUCKET.replace(\"qwiklabs-gcp-\", \"inna-bckt-\")\n",
    "REGION = 'eu-west3'\n",
    "\n",
    "print(PROJECT)\n",
    "print(BUCKET)\n",
    "print(\"gsutil mb -l {0} gs://{1}\".format(REGION, BUCKET))"
   ]
  },
  {
   "cell_type": "code",
   "execution_count": 12,
   "metadata": {},
   "outputs": [],
   "source": [
    "import os\n",
    "os.environ['BUCKET'] = BUCKET\n",
    "os.environ['PROJECT'] = PROJECT\n",
    "os.environ['REGION'] = REGION"
   ]
  },
  {
   "cell_type": "code",
   "execution_count": 14,
   "metadata": {},
   "outputs": [],
   "source": [
    "%%bash\n",
    "if ! gsutil ls | grep -q gs://${BUCKET}/; then\n",
    "  gsutil mb -l ${REGION} gs://${BUCKET}\n",
    "fi"
   ]
  },
  {
   "cell_type": "markdown",
   "metadata": {},
   "source": [
    "<h2> Create ML dataset using Dataflow </h2>\n",
    "Let's use Cloud Dataflow to read in the BigQuery data, do some preprocessing, and write it out as CSV files.\n",
    "In this case, I want to do some preprocessing, modifying data so that we can simulate what is known if no ultrasound has been performed. \n",
    "Note that after you launch this, the actual processing is happening on the cloud. Go to the GCP webconsole to the Dataflow section and monitor the running job. It took about 20 minutes for me.\n",
    "\n",
    "Instead of using Beam/Dataflow, I had three other options:\n",
    "\n",
    "* Use Cloud Dataprep to visually author a Dataflow pipeline. Cloud Dataprep also allows me to explore the data, so we could have avoided much of the handcoding of Python/Seaborn calls above as well!\n",
    "* Read from BigQuery directly using TensorFlow.\n",
    "* Use the BigQuery console (http://bigquery.cloud.google.com) to run a Query and save the result as a CSV file. For larger datasets, you may have to select the option to \"allow large results\" and save the result into a CSV file on Google Cloud Storage. \n",
    "\n",
    "<p>\n",
    "\n",
    "However, in this case, I want to do some preprocessing, modifying data so that we can simulate what is known if no ultrasound has been performed. If I didn't need preprocessing, I could have used the web console. Also, I prefer to script it out rather than run queries on the user interface, so I am using Cloud Dataflow for the preprocessing.\n",
    "\n",
    "<p>\n",
    "\n",
    "If you wish to continue without doing this step, you can copy my preprocessed output:\n",
    "<pre>\n",
    "gsutil -m cp -r gs://cloud-training-demos/babyweight/preproc gs://your-bucket/\n",
    "</pre>\n",
    "But if you do this, you also have to use my TensorFlow model since yours might expect the fields in a different order"
   ]
  },
  {
   "cell_type": "code",
   "execution_count": 30,
   "metadata": {},
   "outputs": [
    {
     "name": "stdout",
     "output_type": "stream",
     "text": [
      "Launching Dataflow job preprocess-babyweight-features-181126-091025 ... hang on\n"
     ]
    },
    {
     "name": "stderr",
     "output_type": "stream",
     "text": [
      "/usr/local/envs/py2env/lib/python2.7/site-packages/apache_beam/runners/dataflow/dataflow_runner.py:795: DeprecationWarning: options is deprecated since First stable release. References to <pipeline>.options will not be supported\n",
      "  standard_options = transform_node.inputs[0].pipeline.options.view_as(\n"
     ]
    }
   ],
   "source": [
    "import apache_beam as beam\n",
    "import datetime, os\n",
    "\n",
    "\"\"\"\n",
    "This function seems to be a generator, hence using the yield keyword instead of return. \n",
    "It seems to do the preprocessing of a single input row read from bigquery (probably).\n",
    "Function will be called in Apache Beam's `.FlatMap` function.\n",
    "\n",
    "rowdict = {u'hashmonth': 1525201076796226340, u'gestation_weeks': 40, u'is_male': False, u'weight_pounds': 8.75014717878, u'plurality': 1, u'mother_age': 34}\n",
    "\n",
    "\n",
    "Explanation of `yield`:\n",
    "To master yield, you must understand that when you call the function, the code you have written \n",
    "in the function body does not run. The function only returns the generator object; your code \n",
    "will be run each time the `for` uses the generator.\n",
    "\"\"\"\n",
    "def to_csv(rowdict):\n",
    "  import hashlib\n",
    "  import copy\n",
    "\n",
    "  ## debug:\n",
    "  #print(rowdict)\n",
    "  \n",
    "  # TODO #1:\n",
    "  # Pull columns from BQ and create line(s) of CSV input\n",
    "  CSV_COLUMNS = 'weight_pounds,is_male,mother_age,plurality,gestation_weeks'.split(',')\n",
    "    \n",
    "  # Create synthetic data where we assume that no ultrasound has been performed\n",
    "  # and so we don't know sex of the baby. Let's assume that we can tell the difference\n",
    "  # between single and multiple, but that the errors rates in determining exact number\n",
    "  # is difficult in the absence of an ultrasound.\n",
    "  no_ultrasound = copy.deepcopy(rowdict)\n",
    "  w_ultrasound = copy.deepcopy(rowdict)\n",
    "  \n",
    "  # print(w_ultrasound)\n",
    "  # {'hashmonth': 1525201076796226340,\n",
    "  #  'gestation_weeks': 40,\n",
    "  #  'is_male': False,\n",
    "  #  'weight_pounds': 8.75014717878,\n",
    "  #  'plurality': 'Single(1)',\n",
    "  #  'mother_age': 34}\n",
    "\n",
    "  no_ultrasound['is_male'] = 'Unknown'\n",
    "  if rowdict['plurality'] > 1:\n",
    "    no_ultrasound['plurality'] = 'Multiple(2+)'\n",
    "  else:\n",
    "    no_ultrasound['plurality'] = 'Single(1)'\n",
    "\n",
    "  # Change the plurality column to strings\n",
    "  w_ultrasound['plurality'] = ['Single(1)', \n",
    "                               'Twins(2)', \n",
    "                               'Triplets(3)', \n",
    "                               'Quadruplets(4)', \n",
    "                               'Quintuplets(5)'][rowdict['plurality'] - 1]\n",
    "\n",
    "  # Write out two rows for each input row, one with ultrasound and one without\n",
    "  for result in [no_ultrasound, w_ultrasound]:\n",
    "    data = ','.join([str(result[k]) if k in result else 'None' for k in CSV_COLUMNS])\n",
    "    key = hashlib.sha224(data).hexdigest()  # hash the columns to form a key\n",
    "    yield str('{},{}'.format(data, key))\n",
    "    \n",
    "\n",
    "# results from function above:\n",
    "# data:  '8.75014717878,Unknown,34,Single(1),40'\n",
    "# key:   'e96a75f2fe27ffdf5594cbc98f29ef808c32e9e1ad18741b28a6fbad'\n",
    "# complete output:\n",
    "# b'8.75014717878,Unknown,34,Single(1),40',e96a75f2fe27ffdf5594cbc98f29ef808c32e9e1ad18741b28a6fbad'\n",
    "\n",
    "\n",
    "def preprocess(in_test_mode):\n",
    "  import shutil, os, subprocess\n",
    "  job_name = 'preprocess-babyweight-features' + '-' + datetime.datetime.now().strftime('%y%m%d-%H%M%S')\n",
    "\n",
    "  if in_test_mode:\n",
    "      print('Launching local job ... hang on')\n",
    "      OUTPUT_DIR = './preproc'\n",
    "      shutil.rmtree(OUTPUT_DIR, ignore_errors=True)\n",
    "      os.makedirs(OUTPUT_DIR)\n",
    "  else:\n",
    "      print('Launching Dataflow job {} ... hang on'.format(job_name))\n",
    "      OUTPUT_DIR = 'gs://{0}/babyweight/preproc/'.format(BUCKET)\n",
    "      try:\n",
    "        subprocess.check_call('gsutil -m rm -r {}'.format(OUTPUT_DIR).split())\n",
    "      except:\n",
    "        pass\n",
    "\n",
    "  options = {\n",
    "      'staging_location': os.path.join(OUTPUT_DIR, 'tmp', 'staging'),\n",
    "      'temp_location': os.path.join(OUTPUT_DIR, 'tmp'),\n",
    "      'job_name': job_name,\n",
    "      'project': PROJECT,\n",
    "      'teardown_policy': 'TEARDOWN_ALWAYS',\n",
    "      'no_save_main_session': True\n",
    "  }\n",
    "  opts = beam.pipeline.PipelineOptions(flags = [], **options)\n",
    "  if in_test_mode:\n",
    "      RUNNER = 'DirectRunner'   ## for local execution\n",
    "  else:\n",
    "      RUNNER = 'DataflowRunner' ## for execution in GCP\n",
    "  p = beam.Pipeline(RUNNER, options = opts)\n",
    "    \n",
    "  query = \"\"\"\n",
    "SELECT\n",
    "  weight_pounds,\n",
    "  is_male,\n",
    "  mother_age,\n",
    "  plurality,\n",
    "  gestation_weeks,\n",
    "  ABS(FARM_FINGERPRINT(CONCAT(CAST(YEAR AS STRING), CAST(month AS STRING)))) AS hashmonth\n",
    "FROM\n",
    "  publicdata.samples.natality\n",
    "WHERE year > 2000\n",
    "AND weight_pounds > 0\n",
    "AND mother_age > 0\n",
    "AND plurality > 0\n",
    "AND gestation_weeks > 0\n",
    "AND month > 0\n",
    "    \"\"\"\n",
    "\n",
    "  if in_test_mode:\n",
    "    query = query + ' LIMIT 100' \n",
    "\n",
    "  for step in ['train', 'eval']:\n",
    "    if step == 'train':\n",
    "      selquery = 'SELECT * FROM ({}) WHERE MOD(ABS(hashmonth),4) < 3'.format(query)\n",
    "    else:\n",
    "      selquery = 'SELECT * FROM ({}) WHERE MOD(ABS(hashmonth),4) = 3'.format(query)\n",
    "\n",
    "    (p \n",
    "     ## TODO Task #2: Modify the Apache Beam pipeline such that the first part of the pipe reads the data from BigQuery\n",
    "     | '{}_read'.format(step) >> beam.io.Read(beam.io.BigQuerySource(query = selquery, use_standard_sql = True)) \n",
    "     | '{}_csv'.format(step) >> beam.FlatMap(to_csv)\n",
    "     | '{}_out'.format(step) >> beam.io.Write(beam.io.WriteToText(os.path.join(OUTPUT_DIR, '{}.csv'.format(step))))\n",
    "    )\n",
    "\n",
    "  job = p.run()\n",
    "  if in_test_mode:\n",
    "    job.wait_until_finish()\n",
    "    print(\"Done!\")\n",
    " \n",
    "# TODO Task #3: Once you have verified that the files produced locally are correct, change in_test_mode to False\n",
    "#               to execute this in Cloud Dataflow\n",
    "preprocess(in_test_mode = False)"
   ]
  },
  {
   "cell_type": "markdown",
   "metadata": {},
   "source": [
    "### Check local output (from testing) and function"
   ]
  },
  {
   "cell_type": "code",
   "execution_count": 20,
   "metadata": {},
   "outputs": [
    {
     "name": "stdout",
     "output_type": "stream",
     "text": [
      "/content/datalab/gcp-ml-02-advanced-ml-with-tf-on-gcp/01-end-to-end-ml-with-tf-on-gcp/labs\n",
      "\n",
      "eval.csv-00000-of-00001\n",
      "train.csv-00000-of-00001\n",
      "\n"
     ]
    }
   ],
   "source": [
    "## check local output:\n",
    "import shutil, os, subprocess\n",
    "print(os.popen(\"pwd\").read())\n",
    "print(os.popen(\"ls ./preproc\").read())\n"
   ]
  },
  {
   "cell_type": "code",
   "execution_count": 29,
   "metadata": {},
   "outputs": [
    {
     "name": "stdout",
     "output_type": "stream",
     "text": [
      "==> ./preproc/eval.csv-00000-of-00001 <==\n",
      "8.56275425608,Unknown,18,Single(1),39,d851e7657ddcad3c997da8851d239f4d20d3c359af3e27677a24bd34\n",
      "8.56275425608,False,18,Single(1),39,5041a58b56c815c577bd758758883708aa251ebcce3669d864a9b49d\n",
      "5.65926626554,Unknown,19,Single(1),37,12834d955f536500e0c9f596da6f69b7fb5f0bd0376ff212c6fe8cbc\n",
      "5.65926626554,False,19,Single(1),37,1c9ee74cc62ce20e28c3b7538862285957a72e3b3abb00e0442412ba\n",
      "6.75055446244,Unknown,20,Single(1),39,49282c04a32e74625b5572a31a73c3242a7b8850dcff3b307cccca97\n",
      "6.75055446244,False,20,Single(1),39,7461d31305751a40a49f2047e62c75ddcb2b6f2a2ae8fd599f2269f3\n",
      "7.25100379718,Unknown,24,Single(1),38,dfc46df971576572d4a9e0e15da71370840857dd86d23544cffd49e2\n",
      "7.25100379718,False,24,Single(1),38,acbb1a1816aebc9a9616ffe91dd8dd07b6bef5ebe5930a15c8a2e32a\n",
      "7.0658154971,Unknown,25,Single(1),41,19c5ce8fd961303ce03d83b8fbf9acdbce395140bfc39f4e830efe44\n",
      "7.0658154971,False,25,Single(1),41,c49ad70a348a7de3bb76f02a414a3790b6489e00925260af970ca285\n",
      "\n",
      "==> ./preproc/train.csv-00000-of-00001 <==\n",
      "4.31224184472,Unknown,20,Single(1),32,d8e6ac8cb2c57f8972f700529b91ed9d70c92e5fa6780a50b03be030\n",
      "4.31224184472,True,20,Single(1),32,ce21f714f50fc484558e40d81f97cda232deed23717cbfc3215923aa\n",
      "5.74965579296,Unknown,28,Single(1),38,44833b7b3b4f415e7a8332c218e193248550f3129d3d0bd4d1966d3a\n",
      "5.74965579296,True,28,Single(1),38,d5c5b14920e995fba7fe4da0c99548f86369eed274541b6f1a173cb7\n",
      "6.8122838958,Unknown,20,Single(1),39,26210cf184a326ddf897a0a8c2ef2ee6855d69fa9bcbf8a2cfa430fc\n",
      "6.8122838958,True,20,Single(1),39,35b885caa033f81a1f7eceef657749de771f2e7be33fd04e233b65ed\n",
      "4.87442061282,Unknown,25,Single(1),39,7b0e5beed8d21e2247103009ae1c51f4637613e06696f3acb9217566\n",
      "4.87442061282,True,25,Single(1),39,1eb980f9ae7eef4e989bbc403de5d1c41d92811b1bb0c77fe1eb71eb\n",
      "7.62578964258,Unknown,33,Single(1),39,01649f3628f3b3c723dc0a76283c231f59969b1a79f9fb5a1b1208b0\n",
      "7.62578964258,True,33,Single(1),39,ffbe7ead55ecd7ca4d01dce5abdf494e3fae03ea1cf22c95a6f18b70\n"
     ]
    }
   ],
   "source": [
    "%%bash\n",
    "head ./preproc/*.csv-00000-of-*\n"
   ]
  },
  {
   "cell_type": "markdown",
   "metadata": {},
   "source": [
    "Understanding `rowdict` in the `to_csv()` function above:\n",
    "```python\n",
    "def to_csv(rowdict):\n",
    "  ## debug:\n",
    "  print(rowdict)\n",
    "```\n",
    "\n",
    "produces this output:\n",
    "\n",
    "```\n",
    "{u'hashmonth': 1525201076796226340, u'gestation_weeks': 40, u'is_male': False, u'weight_pounds': 8.75014717878, u'plurality': 1, u'mother_age': 34}\n",
    "{u'hashmonth': 411066950820961322, u'gestation_weeks': 38, u'is_male': False, u'weight_pounds': 9.06320359082, u'plurality': 1, u'mother_age': 27}\n",
    "{u'hashmonth': 5742197815970064689, u'gestation_weeks': 38, u'is_male': False, u'weight_pounds': 6.686620406459999, u'plurality': 1, u'mother_age': 22}\n",
    "```"
   ]
  },
  {
   "cell_type": "code",
   "execution_count": 25,
   "metadata": {},
   "outputs": [
    {
     "name": "stdout",
     "output_type": "stream",
     "text": [
      "<BigQuerySource flatten_results=True, use_legacy_sql=False, query='\\nSELECT\\n  weight_pounds,\\n  is_male,\\n  mother_age,\\n  plurality,\\n  gestation_weeks,\\n  ABS(FARM_FINGERPRINT(CONCAT(CAST(YEAR AS STRING), CAST(month AS STRING)))) AS hashmonth\\nFROM\\n  publicdata.samples.natality\\nWHERE year > 2000\\nAND weight_pounds > 0\\nAND mother_age > 0\\nAND plurality > 0\\nAND gestation_weeks > 0\\nAND month > 0\\n    ', validate=False>\n"
     ]
    },
    {
     "data": {
      "text/plain": [
       "apache_beam.io.gcp.bigquery.BigQuerySource"
      ]
     },
     "execution_count": 25,
     "metadata": {},
     "output_type": "execute_result"
    }
   ],
   "source": [
    "query = \"\"\"\n",
    "SELECT\n",
    "  weight_pounds,\n",
    "  is_male,\n",
    "  mother_age,\n",
    "  plurality,\n",
    "  gestation_weeks,\n",
    "  ABS(FARM_FINGERPRINT(CONCAT(CAST(YEAR AS STRING), CAST(month AS STRING)))) AS hashmonth\n",
    "FROM\n",
    "  publicdata.samples.natality\n",
    "WHERE year > 2000\n",
    "AND weight_pounds > 0\n",
    "AND mother_age > 0\n",
    "AND plurality > 0\n",
    "AND gestation_weeks > 0\n",
    "AND month > 0\n",
    "    \"\"\"\n",
    "tmp = beam.io.BigQuerySource(query = query, use_standard_sql = True)\n",
    "print(tmp)\n",
    "type(tmp)"
   ]
  },
  {
   "cell_type": "markdown",
   "metadata": {},
   "source": [
    "### Check output from non-testing run"
   ]
  },
  {
   "cell_type": "code",
   "execution_count": 31,
   "metadata": {},
   "outputs": [
    {
     "name": "stdout",
     "output_type": "stream",
     "text": [
      "gs://inna-bckt-3c0f7eb99276a8f1/babyweight/preproc/eval.csv-00000-of-00012\n",
      "gs://inna-bckt-3c0f7eb99276a8f1/babyweight/preproc/train.csv-00000-of-00041\n"
     ]
    }
   ],
   "source": [
    "%bash\n",
    "gsutil ls gs://${BUCKET}/babyweight/preproc/*-00000*"
   ]
  },
  {
   "cell_type": "code",
   "execution_count": 42,
   "metadata": {},
   "outputs": [
    {
     "name": "stdout",
     "output_type": "stream",
     "text": [
      "b8e42011deba5c8802bb7b613f71df03b6b345838ca1\n",
      "6.4374980504,False,38,Single(1),42,f33012f3dd6aaf84f74454f62c96154a11159e329c13b685f802c09d\n",
      "8.66637151922,Unknown,38,Single(1),41,e23a9aeb8dc470571658350f0347da2333cadfd5d23b383b363f1130\n",
      "8.66637151922,True,38,Single(1),41,9d1e47220b1ba38164c5ff8aba64a4f0ab87282f45854c69ccf49458\n",
      "6.59402625642,Unknown,38,Single(1),37,936b2c198555d5926a8fd873fc4adadb97dd334f85c4811466d9553d\n",
      "6.59402625642,False,38,Single(1),37,9443157a561746d18595459505207cb1c02afce58f4b2277772ebbc7\n"
     ]
    }
   ],
   "source": [
    "%bash\n",
    "gsutil cat -r -512 gs://${BUCKET}/babyweight/preproc/train.csv-00000-of-*"
   ]
  },
  {
   "cell_type": "code",
   "execution_count": 43,
   "metadata": {},
   "outputs": [
    {
     "name": "stdout",
     "output_type": "stream",
     "text": [
      "0529a088625ff3216762dcf90422739c6f29bcfd3419\n",
      "8.9617909503,False,29,Single(1),40,0ce2bfd9d2db4febd55e7c63faeb8a7c7e637bd17b2067256b5c064d\n",
      "7.23777606146,Unknown,29,Single(1),45,25b792b6faea0adf13904ea1abf18eb7dd6533e3eed63190377240f0\n",
      "7.23777606146,True,29,Single(1),45,a067f1d9bf4ba55b90f70ad36f53f360d0d546b79933170539c6776c\n",
      "8.24969784404,Unknown,29,Single(1),39,01287455ca075fa88b45b9e0b592886acd0f360344fda3ed3a4f7922\n",
      "8.24969784404,False,29,Single(1),39,3627f0c518d5ae4980379f1ef09f8987c465eb8dbcfd27e41b08d032\n"
     ]
    }
   ],
   "source": [
    "%bash\n",
    "gsutil cat -r -512 gs://${BUCKET}/babyweight/preproc/eval.csv-00000-of-*"
   ]
  },
  {
   "cell_type": "markdown",
   "metadata": {},
   "source": [
    "Copyright 2017 Google Inc. Licensed under the Apache License, Version 2.0 (the \"License\"); you may not use this file except in compliance with the License. You may obtain a copy of the License at http://www.apache.org/licenses/LICENSE-2.0 Unless required by applicable law or agreed to in writing, software distributed under the License is distributed on an \"AS IS\" BASIS, WITHOUT WARRANTIES OR CONDITIONS OF ANY KIND, either express or implied. See the License for the specific language governing permissions and limitations under the License"
   ]
  }
 ],
 "metadata": {
  "kernelspec": {
   "display_name": "Python 3",
   "language": "python",
   "name": "python3"
  },
  "language_info": {
   "codemirror_mode": {
    "name": "ipython",
    "version": 3
   },
   "file_extension": ".py",
   "mimetype": "text/x-python",
   "name": "python",
   "nbconvert_exporter": "python",
   "pygments_lexer": "ipython3",
   "version": "3.6.5"
  }
 },
 "nbformat": 4,
 "nbformat_minor": 2
}
