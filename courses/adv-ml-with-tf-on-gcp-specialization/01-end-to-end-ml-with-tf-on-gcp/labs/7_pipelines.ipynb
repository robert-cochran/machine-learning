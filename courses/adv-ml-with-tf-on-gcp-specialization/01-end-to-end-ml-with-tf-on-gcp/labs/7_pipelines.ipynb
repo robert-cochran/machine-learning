{
 "cells": [
  {
   "cell_type": "markdown",
   "metadata": {},
   "source": [
    "## Kubeflow pipelines\n",
    "\n",
    "This notebook goes through the steps of using Kubeflow pipelines using the Python3 interpreter (command-line) to preprocess, train, tune and deploy the babyweight model."
   ]
  },
  {
   "cell_type": "markdown",
   "metadata": {},
   "source": [
    "### 1. Create cluster"
   ]
  },
  {
   "cell_type": "code",
   "execution_count": 1,
   "metadata": {},
   "outputs": [
    {
     "name": "stdout",
     "output_type": "stream",
     "text": [
      "NAME         LOCATION       MASTER_VERSION  MASTER_IP      MACHINE_TYPE   NODE_VERSION  NUM_NODES  STATUS\n",
      "lakpipeline  us-central1-b  1.9.7-gke.11    35.224.160.49  n1-standard-2  1.9.7-gke.11  4          RUNNING\n"
     ]
    },
    {
     "name": "stderr",
     "output_type": "stream",
     "text": [
      "Updated property [compute/zone].\n",
      "WARNING: Accessing a Kubernetes Engine cluster requires the kubernetes commandline\n",
      "client [kubectl]. To install, run\n",
      "  $ gcloud components install kubectl\n",
      "\n",
      "WARNING: Starting in 1.12, new clusters will have basic authentication disabled by default. Basic authentication can be enabled (or disabled) manually using the `--[no-]enable-basic-auth` flag.\n",
      "WARNING: Starting in 1.12, new clusters will not have a client certificate issued. You can manually enable (or disable) the issuance of the client certificate using the `--[no-]issue-client-certificate` flag.\n",
      "WARNING: Currently VPC-native is not the default mode during cluster creation. In the future, this will become the default mode and can be disabled using `--no-enable-ip-alias` flag. Use `--[no-]enable-ip-alias` flag to suppress this warning.\n",
      "This will enable the autorepair feature for nodes. Please see\n",
      "https://cloud.google.com/kubernetes-engine/docs/node-auto-repair for more\n",
      "information on node autorepairs.\n",
      "\n",
      "WARNING: The behavior of --scopes will change in a future gcloud release: service-control and service-management scopes will no longer be added to what is specified in --scopes. To use these scopes, add them explicitly to --scopes. To use the new behavior, set container/new_scopes_behavior property (gcloud config set container/new_scopes_behavior true).\n",
      "WARNING: Starting in Kubernetes v1.10, new clusters will no longer get compute-rw and storage-ro scopes added to what is specified in --scopes (though the latter will remain included in the default --scopes). To use these scopes, add them explicitly to --scopes. To use the new behavior, set container/new_scopes_behavior property (gcloud config set container/new_scopes_behavior true).\n",
      "Creating cluster lakpipeline...\n",
      "..........................................................................................................................................done.\n",
      "Created [https://container.googleapis.com/v1/projects/qwiklabs-gcp-71241bf9054616ac/zones/us-central1-b/clusters/lakpipeline].\n",
      "To inspect the contents of your cluster, go to: https://console.cloud.google.com/kubernetes/workload_/gcloud/us-central1-b/lakpipeline?project=qwiklabs-gcp-71241bf9054616ac\n",
      "kubeconfig entry generated for lakpipeline.\n",
      "bash: line 9: kubectl: command not found\n"
     ]
    }
   ],
   "source": [
    "%%bash\n",
    "gcloud config set compute/zone us-central1-b\n",
    "gcloud container clusters create lakpipeline \\\n",
    "  --zone us-central1-b \\\n",
    "  --scopes cloud-platform \\\n",
    "  --enable-cloud-logging \\\n",
    "  --enable-cloud-monitoring \\\n",
    "  --machine-type n1-standard-2 \\\n",
    "  --num-nodes 4\n",
    "kubectl create clusterrolebinding ml-pipeline-admin-binding --clusterrole=cluster-admin --user=$(gcloud config get-value account)"
   ]
  },
  {
   "cell_type": "code",
   "execution_count": 3,
   "metadata": {},
   "outputs": [
    {
     "name": "stderr",
     "output_type": "stream",
     "text": [
      "\n",
      "\n",
      "Your current Cloud SDK version is: 212.0.0\n",
      "Installing components from version: 212.0.0\n",
      "\n",
      "+------------------------------------------------------------------+\n",
      "|               These components will be installed.                |\n",
      "+---------------------+---------------------+----------------------+\n",
      "|         Name        |       Version       |         Size         |\n",
      "+---------------------+---------------------+----------------------+\n",
      "| kubectl             |               1.9.7 |             14.9 MiB |\n",
      "| kubectl             |                     |                      |\n",
      "+---------------------+---------------------+----------------------+\n",
      "\n",
      "For the latest full release notes, please visit:\n",
      "  https://cloud.google.com/sdk/release_notes\n",
      "\n",
      "Do you want to continue (Y/n)?  Please enter 'y' or 'n':  \n",
      "#============================================================#\n",
      "#= Creating update staging area                             =#\n",
      "#============================================================#\n",
      "#= Installing: kubectl                                      =#\n",
      "#============================================================#\n",
      "#= Installing: kubectl                                      =#\n",
      "#============================================================#\n",
      "#= Creating backup and activating new installation          =#\n",
      "#============================================================#\n",
      "\n",
      "Performing post processing steps...\n",
      "...done.\n",
      "\n",
      "Update done!\n",
      "\n"
     ]
    }
   ],
   "source": [
    "%%bash\n",
    "gcloud components install kubectl\n",
    "#kubectl create clusterrolebinding ml-pipeline-admin-binding --clusterrole=cluster-admin --user=$(gcloud config get-value account)"
   ]
  },
  {
   "cell_type": "code",
   "execution_count": 4,
   "metadata": {},
   "outputs": [
    {
     "name": "stderr",
     "output_type": "stream",
     "text": [
      "Error from server (Forbidden): clusterrolebindings.rbac.authorization.k8s.io is forbidden: User \"105650655507479386988\" cannot create clusterrolebindings.rbac.authorization.k8s.io at the cluster scope: Required \"container.clusterRoleBindings.create\" permission.\n"
     ]
    }
   ],
   "source": [
    "%%bash\n",
    "kubectl create clusterrolebinding ml-pipeline-admin-binding --clusterrole=cluster-admin --user=$(gcloud config get-value account)"
   ]
  },
  {
   "cell_type": "markdown",
   "metadata": {},
   "source": [
    "Go the [Google Kubernetes Engine section of the GCP console](https://console.cloud.google.com/kubernetes) and make sure that the cluster is started and ready.  This will take about 3 minutes."
   ]
  },
  {
   "cell_type": "markdown",
   "metadata": {},
   "source": [
    "### 2. Deploy Kubeflow pipeline to cluster"
   ]
  },
  {
   "cell_type": "code",
   "execution_count": 5,
   "metadata": {},
   "outputs": [
    {
     "name": "stdout",
     "output_type": "stream",
     "text": [
      "job \"deploy-ml-pipeline-lj45s\" created\n"
     ]
    },
    {
     "name": "stderr",
     "output_type": "stream",
     "text": [
      "Error from server (Forbidden): error when creating \"https://storage.googleapis.com/ml-pipeline/release/0.1.2/bootstrapper.yaml\": clusterroles.rbac.authorization.k8s.io is forbidden: User \"105650655507479386988\" cannot create clusterroles.rbac.authorization.k8s.io at the cluster scope: Required \"container.clusterRoles.create\" permission.\n",
      "Error from server (Forbidden): error when creating \"https://storage.googleapis.com/ml-pipeline/release/0.1.2/bootstrapper.yaml\": clusterrolebindings.rbac.authorization.k8s.io is forbidden: User \"105650655507479386988\" cannot create clusterrolebindings.rbac.authorization.k8s.io at the cluster scope: Required \"container.clusterRoleBindings.create\" permission.\n"
     ]
    }
   ],
   "source": [
    "%%bash\n",
    "PIPELINE_VERSION=0.1.2\n",
    "kubectl create -f https://storage.googleapis.com/ml-pipeline/release/$PIPELINE_VERSION/bootstrapper.yaml"
   ]
  },
  {
   "cell_type": "markdown",
   "metadata": {},
   "source": [
    "These are the (important parts) of `bootstrapper.yaml`:\n",
    "\n",
    "```yaml\n",
    "apiVersion: rbac.authorization.k8s.io/v1\n",
    "kind: ClusterRole\n",
    "metadata:\n",
    "  name: mlpipeline-deploy-admin\n",
    "rules:\n",
    "- apiGroups:\n",
    "  - '*'\n",
    "  resources:\n",
    "  - '*'\n",
    "  verbs:\n",
    "  - '*'\n",
    "- nonResourceURLs:\n",
    "  - '*'\n",
    "  verbs:\n",
    "  - '*'\n",
    "\n",
    "---\n",
    "apiVersion: rbac.authorization.k8s.io/v1beta1\n",
    "kind: ClusterRoleBinding\n",
    "metadata:\n",
    "  creationTimestamp: null\n",
    "  name: mlpipeline-admin-role-binding\n",
    "roleRef:\n",
    "  apiGroup: rbac.authorization.k8s.io\n",
    "  kind: ClusterRole\n",
    "  name: mlpipeline-deploy-admin\n",
    "subjects:\n",
    "- kind: ServiceAccount\n",
    "  name: default\n",
    "  namespace: default\n",
    "\n",
    "---\n",
    "apiVersion: batch/v1\n",
    "kind: Job\n",
    "metadata:\n",
    "  generateName: deploy-ml-pipeline-\n",
    "spec:\n",
    "  backoffLimit: 1\n",
    "  template:\n",
    "    metadata:\n",
    "      name: deploy-ml-pipeline\n",
    "    spec:\n",
    "      containers:\n",
    "      - name: deploy\n",
    "        image: gcr.io/ml-pipeline/bootstrapper:0.1.2\n",
    "        imagePullPolicy: 'Always'\n",
    "        # Additional parameter available:\n",
    "        args: [\n",
    "          # \"--namespace\", \"foo\",\n",
    "          # \"--report_usage\", \"false\",\n",
    "          # \"--uninstall\",\n",
    "        ]\n",
    "      restartPolicy: Never\n",
    "```"
   ]
  },
  {
   "cell_type": "markdown",
   "metadata": {},
   "source": [
    "### 3. Install local interpreter"
   ]
  },
  {
   "cell_type": "code",
   "execution_count": null,
   "metadata": {},
   "outputs": [],
   "source": [
    "%%bash\n",
    "PIPELINE_VERSION=0.1.2\n",
    "pip install python-dateutil https://storage.googleapis.com/ml-pipeline/release/$PIPELINE_VERSION/kfp.tar.gz --upgrade"
   ]
  },
  {
   "cell_type": "markdown",
   "metadata": {},
   "source": [
    "After pip install, always <b>Reset Session</b> so that the new package gets picked up."
   ]
  },
  {
   "cell_type": "markdown",
   "metadata": {},
   "source": [
    "### 4. Set up port forward"
   ]
  },
  {
   "cell_type": "code",
   "execution_count": null,
   "metadata": {},
   "outputs": [],
   "source": [
    "%%bash\n",
    "export NAMESPACE=kubeflow\n",
    "kubectl port-forward -n ${NAMESPACE} $(kubectl get pods -n ${NAMESPACE} --selector=service=ambassador -o jsonpath='{.items[0].metadata.name}') 8085:80"
   ]
  },
  {
   "cell_type": "markdown",
   "metadata": {},
   "source": [
    "Now visit https://8085-dot-4972031-dot-devshell.appspot.com/pipeline"
   ]
  },
  {
   "cell_type": "markdown",
   "metadata": {},
   "source": [
    "### 5. Do the DSL compile"
   ]
  },
  {
   "cell_type": "code",
   "execution_count": 12,
   "metadata": {},
   "outputs": [
    {
     "name": "stdout",
     "output_type": "stream",
     "text": [
      "total 4\n",
      "-rw-r--r-- 1 root root 970 Nov 14  2018 mlp_babyweight.tar.gz\n"
     ]
    }
   ],
   "source": [
    "%%bash\n",
    "OUTDIR=pipelines/dsl\n",
    "rm -rf $OUTDIR\n",
    "mkdir -p $OUTDIR\n",
    "dsl-compile --py pipelines/mlp_babyweight.py --output $OUTDIR/mlp_babyweight.tar.gz\n",
    "ls -l $OUTDIR"
   ]
  },
  {
   "cell_type": "markdown",
   "metadata": {},
   "source": [
    "#### Inspect pipeline "
   ]
  },
  {
   "cell_type": "code",
   "execution_count": null,
   "metadata": {},
   "outputs": [],
   "source": [
    "%%bash\n",
    "ls pipelines"
   ]
  },
  {
   "cell_type": "code",
   "execution_count": null,
   "metadata": {},
   "outputs": [],
   "source": [
    "%%bash\n",
    "cat pipelines/mlp_babyweight.py"
   ]
  },
  {
   "cell_type": "markdown",
   "metadata": {},
   "source": [
    "### 5. Upload and execute pipeline\n",
    "\n",
    "Start by navigating to https://8085-dot-4972031-dot-devshell.appspot.com (as in port forward), create an experiment, upload the above pipeline and run it once."
   ]
  },
  {
   "cell_type": "code",
   "execution_count": 1,
   "metadata": {},
   "outputs": [],
   "source": [
    "# Copyright 2018 Google LLC\n",
    "#\n",
    "# Licensed under the Apache License, Version 2.0 (the \"License\");\n",
    "# you may not use this file except in compliance with the License.\n",
    "# You may obtain a copy of the License at\n",
    "#\n",
    "#      http://www.apache.org/licenses/LICENSE-2.0\n",
    "#\n",
    "# Unless required by applicable law or agreed to in writing, software\n",
    "# distributed under the License is distributed on an \"AS IS\" BASIS,\n",
    "# WITHOUT WARRANTIES OR CONDITIONS OF ANY KIND, either express or implied.\n",
    "# See the License for the specific language governing permissions and\n",
    "# limitations under the License."
   ]
  },
  {
   "cell_type": "code",
   "execution_count": null,
   "metadata": {},
   "outputs": [],
   "source": []
  }
 ],
 "metadata": {
  "kernelspec": {
   "display_name": "Python 3",
   "language": "python",
   "name": "python3"
  },
  "language_info": {
   "codemirror_mode": {
    "name": "ipython",
    "version": 3
   },
   "file_extension": ".py",
   "mimetype": "text/x-python",
   "name": "python",
   "nbconvert_exporter": "python",
   "pygments_lexer": "ipython3",
   "version": "3.5.5"
  }
 },
 "nbformat": 4,
 "nbformat_minor": 2
}
