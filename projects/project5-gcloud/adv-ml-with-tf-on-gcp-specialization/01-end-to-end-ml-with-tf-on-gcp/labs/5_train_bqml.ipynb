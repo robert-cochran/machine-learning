{
 "cells": [
  {
   "cell_type": "markdown",
   "metadata": {
    "colab_type": "text",
    "id": "aklJxkHBD5aR"
   },
   "source": [
    "# Predicting babyweight using BigQuery ML\n",
    "\n",
    "This notebook illustrates:\n",
    "<ol>\n",
    "<li> Machine Learning using BigQuery\n",
    "<li> Jupyter Magic for BigQuery in Cloud Datalab\n",
    "</ol>\n",
    "\n",
    "Please see [this notebook](1_explore.ipynb) for more context on this problem and how the features were chosen."
   ]
  },
  {
   "cell_type": "code",
   "execution_count": 1,
   "metadata": {
    "colab": {
     "autoexec": {
      "startup": false,
      "wait_interval": 0
     }
    },
    "colab_type": "code",
    "id": "BhUiclqCD5aT"
   },
   "outputs": [
    {
     "name": "stdout",
     "output_type": "stream",
     "text": [
      "qwiklabs-gcp-3d4d05890366c909\n",
      "inna-bckt-3d4d05890366c909\n",
      "gsutil mb -l europe-west1 gs://inna-bckt-3d4d05890366c909\n",
      "[]\n",
      "[]\n"
     ]
    }
   ],
   "source": [
    "import os\n",
    "output = os.popen(\"gcloud config get-value project\").readlines()\n",
    "project_name = output[0][:-1]\n",
    "\n",
    "# change these to try this notebook out\n",
    "PROJECT = project_name\n",
    "BUCKET = project_name\n",
    "BUCKET = BUCKET.replace(\"qwiklabs-gcp-\", \"inna-bckt-\")\n",
    "REGION = 'europe-west1'  ## note: Cloud ML Engine not availabe in europe-west3!\n",
    "\n",
    "print(PROJECT)\n",
    "print(BUCKET)\n",
    "print(\"gsutil mb -l {0} gs://{1}\".format(REGION, BUCKET))\n",
    "\n",
    "## set config for gcp config: [[?]]\n",
    "print(os.popen(\"gcloud config set project $PROJECT\").readlines())\n",
    "print(os.popen(\"gcloud config set compute/region $REGION\").readlines())"
   ]
  },
  {
   "cell_type": "code",
   "execution_count": 2,
   "metadata": {
    "colab": {
     "autoexec": {
      "startup": false,
      "wait_interval": 0
     }
    },
    "colab_type": "code",
    "id": "F10_KsX7D5aX"
   },
   "outputs": [],
   "source": [
    "import os\n",
    "os.environ['PROJECT'] = PROJECT\n",
    "os.environ['REGION'] = REGION"
   ]
  },
  {
   "cell_type": "code",
   "execution_count": 3,
   "metadata": {
    "colab": {
     "autoexec": {
      "startup": false,
      "wait_interval": 0
     }
    },
    "colab_type": "code",
    "id": "YrqwSv6vD5aZ",
    "outputId": "402ed11b-ab4a-4480-a1aa-f72741cd2cc1"
   },
   "outputs": [
    {
     "name": "stderr",
     "output_type": "stream",
     "text": [
      "Updated property [core/project].\n",
      "Updated property [compute/region].\n"
     ]
    }
   ],
   "source": [
    "%bash\n",
    "gcloud config set project $PROJECT\n",
    "gcloud config set compute/region $REGION"
   ]
  },
  {
   "cell_type": "markdown",
   "metadata": {
    "colab_type": "text",
    "id": "j782YaAzD5ae"
   },
   "source": [
    "## Exploring the Data\n",
    "\n",
    "Here, we will be taking natality data and training on features to predict the birth weight.\n",
    "\n",
    "The CDC's Natality data has details on US births from 1969 to 2008 and is available in BigQuery as a public data set. More details: https://bigquery.cloud.google.com/table/publicdata:samples.natality?tab=details\n",
    "\n",
    "Lets start by looking at the data since 2000 with useful values > 0!"
   ]
  },
  {
   "cell_type": "code",
   "execution_count": 4,
   "metadata": {
    "colab": {
     "autoexec": {
      "startup": false,
      "wait_interval": 0
     }
    },
    "colab_type": "code",
    "id": "odWaIcLdD5af",
    "outputId": "2654ad9b-a735-4cd3-c3d9-80ebed8ed6bf"
   },
   "outputs": [
    {
     "data": {
      "text/html": [
       "\n",
       "    <div class=\"bqtv\" id=\"1_154334969348\"><table><tr><th>source_year</th><th>year</th><th>month</th><th>day</th><th>wday</th><th>state</th><th>is_male</th><th>child_race</th><th>weight_pounds</th><th>plurality</th><th>apgar_1min</th><th>apgar_5min</th><th>mother_residence_state</th><th>mother_race</th><th>mother_age</th><th>gestation_weeks</th><th>lmp</th><th>mother_married</th><th>mother_birth_state</th><th>cigarette_use</th><th>cigarettes_per_day</th><th>alcohol_use</th><th>drinks_per_week</th><th>weight_gain_pounds</th><th>born_alive_alive</th><th>born_alive_dead</th><th>born_dead</th><th>ever_born</th><th>father_race</th><th>father_age</th><th>record_weight</th></tr><tr><td>2001</td><td>2001</td><td>6</td><td>&nbsp;</td><td>3</td><td>AZ</td><td>False</td><td>9</td><td>4.6958461806</td><td>1</td><td>99</td><td>3</td><td>AZ</td><td>1</td><td>31</td><td>32</td><td>99999999</td><td>True</td><td>Mexico</td><td>&nbsp;</td><td>&nbsp;</td><td>False</td><td>&nbsp;</td><td>20</td><td>2</td><td>0</td><td>0</td><td>3</td><td>1</td><td>45</td><td>1</td></tr><tr><td>2001</td><td>2001</td><td>12</td><td>&nbsp;</td><td>5</td><td>CT</td><td>True</td><td>9</td><td>5.6879263596</td><td>1</td><td>99</td><td>9</td><td>CT</td><td>1</td><td>30</td><td>36</td><td>03272001</td><td>True</td><td>CT</td><td>&nbsp;</td><td>&nbsp;</td><td>False</td><td>&nbsp;</td><td>20</td><td>0</td><td>0</td><td>0</td><td>1</td><td>1</td><td>42</td><td>1</td></tr><tr><td>2001</td><td>2001</td><td>4</td><td>&nbsp;</td><td>2</td><td>OR</td><td>False</td><td>9</td><td>7.06140625186</td><td>1</td><td>99</td><td>9</td><td>OR</td><td>1</td><td>40</td><td>37</td><td>08072000</td><td>True</td><td>NY</td><td>&nbsp;</td><td>&nbsp;</td><td>False</td><td>&nbsp;</td><td>21</td><td>0</td><td>0</td><td>0</td><td>1</td><td>1</td><td>42</td><td>1</td></tr><tr><td>2001</td><td>2001</td><td>9</td><td>&nbsp;</td><td>3</td><td>TN</td><td>False</td><td>9</td><td>7.5618555866</td><td>1</td><td>99</td><td>9</td><td>TN</td><td>1</td><td>20</td><td>43</td><td>11152000</td><td>True</td><td>TN</td><td>&nbsp;</td><td>&nbsp;</td><td>False</td><td>&nbsp;</td><td>52</td><td>0</td><td>0</td><td>0</td><td>1</td><td>1</td><td>24</td><td>1</td></tr><tr><td>2001</td><td>2001</td><td>10</td><td>&nbsp;</td><td>1</td><td>CA</td><td>False</td><td>9</td><td>8.062304921339999</td><td>1</td><td>99</td><td>99</td><td>CA</td><td>1</td><td>33</td><td>39</td><td>01192001</td><td>True</td><td>Mexico</td><td>&nbsp;</td><td>&nbsp;</td><td>&nbsp;</td><td>&nbsp;</td><td>99</td><td>0</td><td>0</td><td>0</td><td>1</td><td>1</td><td>31</td><td>1</td></tr><tr><td>2001</td><td>2001</td><td>3</td><td>&nbsp;</td><td>2</td><td>VA</td><td>False</td><td>9</td><td>7.9586876582</td><td>1</td><td>99</td><td>9</td><td>VA</td><td>2</td><td>24</td><td>39</td><td>06162000</td><td>False</td><td>VA</td><td>&nbsp;</td><td>&nbsp;</td><td>False</td><td>&nbsp;</td><td>35</td><td>1</td><td>0</td><td>0</td><td>2</td><td>2</td><td>22</td><td>1</td></tr><tr><td>2001</td><td>2001</td><td>6</td><td>&nbsp;</td><td>2</td><td>OH</td><td>True</td><td>9</td><td>8.19899152378</td><td>1</td><td>99</td><td>9</td><td>OH</td><td>1</td><td>29</td><td>39</td><td>09162000</td><td>True</td><td>OH</td><td>&nbsp;</td><td>&nbsp;</td><td>False</td><td>&nbsp;</td><td>30</td><td>1</td><td>0</td><td>1</td><td>2</td><td>1</td><td>29</td><td>1</td></tr><tr><td>2001</td><td>2001</td><td>7</td><td>&nbsp;</td><td>6</td><td>PA</td><td>False</td><td>9</td><td>6.686620406459999</td><td>1</td><td>99</td><td>9</td><td>PA</td><td>1</td><td>31</td><td>42</td><td>09992000</td><td>True</td><td>PA</td><td>&nbsp;</td><td>&nbsp;</td><td>False</td><td>&nbsp;</td><td>41</td><td>0</td><td>0</td><td>1</td><td>1</td><td>9</td><td>29</td><td>1</td></tr><tr><td>2001</td><td>2001</td><td>8</td><td>&nbsp;</td><td>7</td><td>IL</td><td>False</td><td>9</td><td>7.936641432</td><td>1</td><td>99</td><td>9</td><td>IL</td><td>2</td><td>24</td><td>39</td><td>11152000</td><td>False</td><td>IL</td><td>&nbsp;</td><td>&nbsp;</td><td>False</td><td>&nbsp;</td><td>50</td><td>3</td><td>0</td><td>1</td><td>4</td><td>2</td><td>23</td><td>1</td></tr><tr><td>2001</td><td>2001</td><td>3</td><td>&nbsp;</td><td>6</td><td>MO</td><td>True</td><td>9</td><td>5.4454178714</td><td>1</td><td>99</td><td>8</td><td>MO</td><td>2</td><td>30</td><td>35</td><td>07162000</td><td>False</td><td>MO</td><td>&nbsp;</td><td>&nbsp;</td><td>False</td><td>&nbsp;</td><td>17</td><td>3</td><td>0</td><td>1</td><td>4</td><td>9</td><td>99</td><td>1</td></tr></table></div>\n",
       "    <br />(rows: 10, time: 3.3s,    23GB processed, job: job_WYdRCTkgO7GwhIDxxFvPGr4XXqWZ)<br />\n",
       "    <script src=\"/static/components/requirejs/require.js\"></script>\n",
       "    <script>\n",
       "      require.config({\n",
       "        paths: {\n",
       "          base: '/static/base',\n",
       "          d3: '//cdnjs.cloudflare.com/ajax/libs/d3/3.4.13/d3',\n",
       "          plotly: 'https://cdn.plot.ly/plotly-1.5.1.min.js?noext',\n",
       "          jquery: '//ajax.googleapis.com/ajax/libs/jquery/2.0.0/jquery.min'\n",
       "        },\n",
       "        map: {\n",
       "          '*': {\n",
       "            datalab: 'nbextensions/gcpdatalab'\n",
       "          }\n",
       "        },\n",
       "        shim: {\n",
       "          plotly: {\n",
       "            deps: ['d3', 'jquery'],\n",
       "            exports: 'plotly'\n",
       "          }\n",
       "        }\n",
       "      });\n",
       "\n",
       "      require(['datalab/charting', 'datalab/element!1_154334969348', 'base/js/events',\n",
       "          'datalab/style!/nbextensions/gcpdatalab/charting.css'],\n",
       "        function(charts, dom, events) {\n",
       "          charts.render('gcharts', dom, events, 'table', [], {\"rows\": [{\"c\": [{\"v\": 2001}, {\"v\": 2001}, {\"v\": 6}, {\"v\": null}, {\"v\": 3}, {\"v\": \"AZ\"}, {\"v\": false}, {\"v\": 9}, {\"v\": 4.6958461806}, {\"v\": 1}, {\"v\": 99}, {\"v\": 3}, {\"v\": \"AZ\"}, {\"v\": 1}, {\"v\": 31}, {\"v\": 32}, {\"v\": \"99999999\"}, {\"v\": true}, {\"v\": \"Mexico\"}, {\"v\": null}, {\"v\": null}, {\"v\": false}, {\"v\": null}, {\"v\": 20}, {\"v\": 2}, {\"v\": 0}, {\"v\": 0}, {\"v\": 3}, {\"v\": 1}, {\"v\": 45}, {\"v\": 1}]}, {\"c\": [{\"v\": 2001}, {\"v\": 2001}, {\"v\": 12}, {\"v\": null}, {\"v\": 5}, {\"v\": \"CT\"}, {\"v\": true}, {\"v\": 9}, {\"v\": 5.6879263596}, {\"v\": 1}, {\"v\": 99}, {\"v\": 9}, {\"v\": \"CT\"}, {\"v\": 1}, {\"v\": 30}, {\"v\": 36}, {\"v\": \"03272001\"}, {\"v\": true}, {\"v\": \"CT\"}, {\"v\": null}, {\"v\": null}, {\"v\": false}, {\"v\": null}, {\"v\": 20}, {\"v\": 0}, {\"v\": 0}, {\"v\": 0}, {\"v\": 1}, {\"v\": 1}, {\"v\": 42}, {\"v\": 1}]}, {\"c\": [{\"v\": 2001}, {\"v\": 2001}, {\"v\": 4}, {\"v\": null}, {\"v\": 2}, {\"v\": \"OR\"}, {\"v\": false}, {\"v\": 9}, {\"v\": 7.06140625186}, {\"v\": 1}, {\"v\": 99}, {\"v\": 9}, {\"v\": \"OR\"}, {\"v\": 1}, {\"v\": 40}, {\"v\": 37}, {\"v\": \"08072000\"}, {\"v\": true}, {\"v\": \"NY\"}, {\"v\": null}, {\"v\": null}, {\"v\": false}, {\"v\": null}, {\"v\": 21}, {\"v\": 0}, {\"v\": 0}, {\"v\": 0}, {\"v\": 1}, {\"v\": 1}, {\"v\": 42}, {\"v\": 1}]}, {\"c\": [{\"v\": 2001}, {\"v\": 2001}, {\"v\": 9}, {\"v\": null}, {\"v\": 3}, {\"v\": \"TN\"}, {\"v\": false}, {\"v\": 9}, {\"v\": 7.5618555866}, {\"v\": 1}, {\"v\": 99}, {\"v\": 9}, {\"v\": \"TN\"}, {\"v\": 1}, {\"v\": 20}, {\"v\": 43}, {\"v\": \"11152000\"}, {\"v\": true}, {\"v\": \"TN\"}, {\"v\": null}, {\"v\": null}, {\"v\": false}, {\"v\": null}, {\"v\": 52}, {\"v\": 0}, {\"v\": 0}, {\"v\": 0}, {\"v\": 1}, {\"v\": 1}, {\"v\": 24}, {\"v\": 1}]}, {\"c\": [{\"v\": 2001}, {\"v\": 2001}, {\"v\": 10}, {\"v\": null}, {\"v\": 1}, {\"v\": \"CA\"}, {\"v\": false}, {\"v\": 9}, {\"v\": 8.062304921339999}, {\"v\": 1}, {\"v\": 99}, {\"v\": 99}, {\"v\": \"CA\"}, {\"v\": 1}, {\"v\": 33}, {\"v\": 39}, {\"v\": \"01192001\"}, {\"v\": true}, {\"v\": \"Mexico\"}, {\"v\": null}, {\"v\": null}, {\"v\": null}, {\"v\": null}, {\"v\": 99}, {\"v\": 0}, {\"v\": 0}, {\"v\": 0}, {\"v\": 1}, {\"v\": 1}, {\"v\": 31}, {\"v\": 1}]}, {\"c\": [{\"v\": 2001}, {\"v\": 2001}, {\"v\": 3}, {\"v\": null}, {\"v\": 2}, {\"v\": \"VA\"}, {\"v\": false}, {\"v\": 9}, {\"v\": 7.9586876582}, {\"v\": 1}, {\"v\": 99}, {\"v\": 9}, {\"v\": \"VA\"}, {\"v\": 2}, {\"v\": 24}, {\"v\": 39}, {\"v\": \"06162000\"}, {\"v\": false}, {\"v\": \"VA\"}, {\"v\": null}, {\"v\": null}, {\"v\": false}, {\"v\": null}, {\"v\": 35}, {\"v\": 1}, {\"v\": 0}, {\"v\": 0}, {\"v\": 2}, {\"v\": 2}, {\"v\": 22}, {\"v\": 1}]}, {\"c\": [{\"v\": 2001}, {\"v\": 2001}, {\"v\": 6}, {\"v\": null}, {\"v\": 2}, {\"v\": \"OH\"}, {\"v\": true}, {\"v\": 9}, {\"v\": 8.19899152378}, {\"v\": 1}, {\"v\": 99}, {\"v\": 9}, {\"v\": \"OH\"}, {\"v\": 1}, {\"v\": 29}, {\"v\": 39}, {\"v\": \"09162000\"}, {\"v\": true}, {\"v\": \"OH\"}, {\"v\": null}, {\"v\": null}, {\"v\": false}, {\"v\": null}, {\"v\": 30}, {\"v\": 1}, {\"v\": 0}, {\"v\": 1}, {\"v\": 2}, {\"v\": 1}, {\"v\": 29}, {\"v\": 1}]}, {\"c\": [{\"v\": 2001}, {\"v\": 2001}, {\"v\": 7}, {\"v\": null}, {\"v\": 6}, {\"v\": \"PA\"}, {\"v\": false}, {\"v\": 9}, {\"v\": 6.686620406459999}, {\"v\": 1}, {\"v\": 99}, {\"v\": 9}, {\"v\": \"PA\"}, {\"v\": 1}, {\"v\": 31}, {\"v\": 42}, {\"v\": \"09992000\"}, {\"v\": true}, {\"v\": \"PA\"}, {\"v\": null}, {\"v\": null}, {\"v\": false}, {\"v\": null}, {\"v\": 41}, {\"v\": 0}, {\"v\": 0}, {\"v\": 1}, {\"v\": 1}, {\"v\": 9}, {\"v\": 29}, {\"v\": 1}]}, {\"c\": [{\"v\": 2001}, {\"v\": 2001}, {\"v\": 8}, {\"v\": null}, {\"v\": 7}, {\"v\": \"IL\"}, {\"v\": false}, {\"v\": 9}, {\"v\": 7.936641432}, {\"v\": 1}, {\"v\": 99}, {\"v\": 9}, {\"v\": \"IL\"}, {\"v\": 2}, {\"v\": 24}, {\"v\": 39}, {\"v\": \"11152000\"}, {\"v\": false}, {\"v\": \"IL\"}, {\"v\": null}, {\"v\": null}, {\"v\": false}, {\"v\": null}, {\"v\": 50}, {\"v\": 3}, {\"v\": 0}, {\"v\": 1}, {\"v\": 4}, {\"v\": 2}, {\"v\": 23}, {\"v\": 1}]}, {\"c\": [{\"v\": 2001}, {\"v\": 2001}, {\"v\": 3}, {\"v\": null}, {\"v\": 6}, {\"v\": \"MO\"}, {\"v\": true}, {\"v\": 9}, {\"v\": 5.4454178714}, {\"v\": 1}, {\"v\": 99}, {\"v\": 8}, {\"v\": \"MO\"}, {\"v\": 2}, {\"v\": 30}, {\"v\": 35}, {\"v\": \"07162000\"}, {\"v\": false}, {\"v\": \"MO\"}, {\"v\": null}, {\"v\": null}, {\"v\": false}, {\"v\": null}, {\"v\": 17}, {\"v\": 3}, {\"v\": 0}, {\"v\": 1}, {\"v\": 4}, {\"v\": 9}, {\"v\": 99}, {\"v\": 1}]}], \"cols\": [{\"type\": \"number\", \"id\": \"source_year\", \"label\": \"source_year\"}, {\"type\": \"number\", \"id\": \"year\", \"label\": \"year\"}, {\"type\": \"number\", \"id\": \"month\", \"label\": \"month\"}, {\"type\": \"number\", \"id\": \"day\", \"label\": \"day\"}, {\"type\": \"number\", \"id\": \"wday\", \"label\": \"wday\"}, {\"type\": \"string\", \"id\": \"state\", \"label\": \"state\"}, {\"type\": \"boolean\", \"id\": \"is_male\", \"label\": \"is_male\"}, {\"type\": \"number\", \"id\": \"child_race\", \"label\": \"child_race\"}, {\"type\": \"number\", \"id\": \"weight_pounds\", \"label\": \"weight_pounds\"}, {\"type\": \"number\", \"id\": \"plurality\", \"label\": \"plurality\"}, {\"type\": \"number\", \"id\": \"apgar_1min\", \"label\": \"apgar_1min\"}, {\"type\": \"number\", \"id\": \"apgar_5min\", \"label\": \"apgar_5min\"}, {\"type\": \"string\", \"id\": \"mother_residence_state\", \"label\": \"mother_residence_state\"}, {\"type\": \"number\", \"id\": \"mother_race\", \"label\": \"mother_race\"}, {\"type\": \"number\", \"id\": \"mother_age\", \"label\": \"mother_age\"}, {\"type\": \"number\", \"id\": \"gestation_weeks\", \"label\": \"gestation_weeks\"}, {\"type\": \"string\", \"id\": \"lmp\", \"label\": \"lmp\"}, {\"type\": \"boolean\", \"id\": \"mother_married\", \"label\": \"mother_married\"}, {\"type\": \"string\", \"id\": \"mother_birth_state\", \"label\": \"mother_birth_state\"}, {\"type\": \"boolean\", \"id\": \"cigarette_use\", \"label\": \"cigarette_use\"}, {\"type\": \"number\", \"id\": \"cigarettes_per_day\", \"label\": \"cigarettes_per_day\"}, {\"type\": \"boolean\", \"id\": \"alcohol_use\", \"label\": \"alcohol_use\"}, {\"type\": \"number\", \"id\": \"drinks_per_week\", \"label\": \"drinks_per_week\"}, {\"type\": \"number\", \"id\": \"weight_gain_pounds\", \"label\": \"weight_gain_pounds\"}, {\"type\": \"number\", \"id\": \"born_alive_alive\", \"label\": \"born_alive_alive\"}, {\"type\": \"number\", \"id\": \"born_alive_dead\", \"label\": \"born_alive_dead\"}, {\"type\": \"number\", \"id\": \"born_dead\", \"label\": \"born_dead\"}, {\"type\": \"number\", \"id\": \"ever_born\", \"label\": \"ever_born\"}, {\"type\": \"number\", \"id\": \"father_race\", \"label\": \"father_race\"}, {\"type\": \"number\", \"id\": \"father_age\", \"label\": \"father_age\"}, {\"type\": \"number\", \"id\": \"record_weight\", \"label\": \"record_weight\"}]},\n",
       "            {\n",
       "              pageSize: 25,\n",
       "              cssClassNames:  {\n",
       "                tableRow: 'gchart-table-row',\n",
       "                headerRow: 'gchart-table-headerrow',\n",
       "                oddTableRow: 'gchart-table-oddrow',\n",
       "                selectedTableRow: 'gchart-table-selectedrow',\n",
       "                hoverTableRow: 'gchart-table-hoverrow',\n",
       "                tableCell: 'gchart-table-cell',\n",
       "                headerCell: 'gchart-table-headercell',\n",
       "                rowNumberCell: 'gchart-table-rownumcell'\n",
       "              }\n",
       "            },\n",
       "            {source_index: 0, fields: 'source_year,year,month,day,wday,state,is_male,child_race,weight_pounds,plurality,apgar_1min,apgar_5min,mother_residence_state,mother_race,mother_age,gestation_weeks,lmp,mother_married,mother_birth_state,cigarette_use,cigarettes_per_day,alcohol_use,drinks_per_week,weight_gain_pounds,born_alive_alive,born_alive_dead,born_dead,ever_born,father_race,father_age,record_weight'},\n",
       "            0,\n",
       "            10);\n",
       "        }\n",
       "      );\n",
       "    </script>\n",
       "  "
      ],
      "text/plain": [
       "QueryResultsTable job_WYdRCTkgO7GwhIDxxFvPGr4XXqWZ"
      ]
     },
     "execution_count": 4,
     "metadata": {},
     "output_type": "execute_result"
    }
   ],
   "source": [
    "%%bq query\n",
    "SELECT\n",
    "    *\n",
    "FROM\n",
    "  publicdata.samples.natality\n",
    "WHERE\n",
    "  year > 2000\n",
    "  AND gestation_weeks > 0\n",
    "  AND mother_age > 0\n",
    "  AND plurality > 0\n",
    "  AND weight_pounds > 0\n",
    "LIMIT 10"
   ]
  },
  {
   "cell_type": "markdown",
   "metadata": {
    "colab_type": "text",
    "id": "ep02J20pD5ai"
   },
   "source": [
    "## Define Features\n",
    "\n",
    "Looking over the data set, there are a few columns of interest that could be leveraged into features for a reasonable prediction of approximate birth weight.\n",
    "\n",
    "Further, some feature engineering may be accomplished with the BigQuery `CAST` function -- in BQML, all strings are considered categorical features and all numeric types are considered continuous ones.\n",
    "\n",
    "The hashmonth is added so that we can repeatably split the data without leakage -- we want all babies that share a birthday to be either in training set or in test set and not spread between them (otherwise, there would be information leakage when it comes to triplets, etc.)"
   ]
  },
  {
   "cell_type": "code",
   "execution_count": 5,
   "metadata": {
    "colab": {
     "autoexec": {
      "startup": false,
      "wait_interval": 0
     }
    },
    "colab_type": "code",
    "id": "DPUCYDjlD5aj",
    "outputId": "3cbc1dbe-22d0-406c-fe9c-0a019040ae3d"
   },
   "outputs": [
    {
     "data": {
      "text/html": [
       "\n",
       "    <div class=\"bqtv\" id=\"2_154334969820\"><table><tr><th>weight_pounds</th><th>is_male</th><th>mother_age</th><th>plurality</th><th>gestation_weeks</th><th>hashmonth</th></tr><tr><td>7.56846945446</td><td>true</td><td>22</td><td>1</td><td>46</td><td>1403073183891835564</td></tr><tr><td>8.8074673669</td><td>true</td><td>39</td><td>1</td><td>42</td><td>1088037545023002395</td></tr><tr><td>8.313631900019999</td><td>true</td><td>23</td><td>1</td><td>35</td><td>2126480030009879160</td></tr><tr><td>7.3524164377</td><td>true</td><td>30</td><td>1</td><td>37</td><td>8904940584331855459</td></tr><tr><td>8.062304921339999</td><td>true</td><td>16</td><td>1</td><td>40</td><td>2126480030009879160</td></tr><tr><td>7.25100379718</td><td>true</td><td>17</td><td>1</td><td>39</td><td>1525201076796226340</td></tr><tr><td>8.000575487979999</td><td>false</td><td>27</td><td>1</td><td>40</td><td>7170969733900686954</td></tr><tr><td>6.56316153974</td><td>false</td><td>29</td><td>1</td><td>39</td><td>3408502330831153141</td></tr><tr><td>7.12534030784</td><td>false</td><td>34</td><td>1</td><td>40</td><td>7108882242435606404</td></tr><tr><td>7.43839671988</td><td>false</td><td>31</td><td>1</td><td>38</td><td>6392072535155213407</td></tr></table></div>\n",
       "    <br />(rows: 10, time: 1.8s,     6GB processed, job: job_eid8-SlPjAfEB8jzwdwQCjMflUqF)<br />\n",
       "    <script src=\"/static/components/requirejs/require.js\"></script>\n",
       "    <script>\n",
       "      require.config({\n",
       "        paths: {\n",
       "          base: '/static/base',\n",
       "          d3: '//cdnjs.cloudflare.com/ajax/libs/d3/3.4.13/d3',\n",
       "          plotly: 'https://cdn.plot.ly/plotly-1.5.1.min.js?noext',\n",
       "          jquery: '//ajax.googleapis.com/ajax/libs/jquery/2.0.0/jquery.min'\n",
       "        },\n",
       "        map: {\n",
       "          '*': {\n",
       "            datalab: 'nbextensions/gcpdatalab'\n",
       "          }\n",
       "        },\n",
       "        shim: {\n",
       "          plotly: {\n",
       "            deps: ['d3', 'jquery'],\n",
       "            exports: 'plotly'\n",
       "          }\n",
       "        }\n",
       "      });\n",
       "\n",
       "      require(['datalab/charting', 'datalab/element!2_154334969820', 'base/js/events',\n",
       "          'datalab/style!/nbextensions/gcpdatalab/charting.css'],\n",
       "        function(charts, dom, events) {\n",
       "          charts.render('gcharts', dom, events, 'table', [], {\"rows\": [{\"c\": [{\"v\": 7.56846945446}, {\"v\": \"true\"}, {\"v\": 22}, {\"v\": \"1\"}, {\"v\": 46}, {\"v\": 1403073183891835564}]}, {\"c\": [{\"v\": 8.8074673669}, {\"v\": \"true\"}, {\"v\": 39}, {\"v\": \"1\"}, {\"v\": 42}, {\"v\": 1088037545023002395}]}, {\"c\": [{\"v\": 8.313631900019999}, {\"v\": \"true\"}, {\"v\": 23}, {\"v\": \"1\"}, {\"v\": 35}, {\"v\": 2126480030009879160}]}, {\"c\": [{\"v\": 7.3524164377}, {\"v\": \"true\"}, {\"v\": 30}, {\"v\": \"1\"}, {\"v\": 37}, {\"v\": 8904940584331855459}]}, {\"c\": [{\"v\": 8.062304921339999}, {\"v\": \"true\"}, {\"v\": 16}, {\"v\": \"1\"}, {\"v\": 40}, {\"v\": 2126480030009879160}]}, {\"c\": [{\"v\": 7.25100379718}, {\"v\": \"true\"}, {\"v\": 17}, {\"v\": \"1\"}, {\"v\": 39}, {\"v\": 1525201076796226340}]}, {\"c\": [{\"v\": 8.000575487979999}, {\"v\": \"false\"}, {\"v\": 27}, {\"v\": \"1\"}, {\"v\": 40}, {\"v\": 7170969733900686954}]}, {\"c\": [{\"v\": 6.56316153974}, {\"v\": \"false\"}, {\"v\": 29}, {\"v\": \"1\"}, {\"v\": 39}, {\"v\": 3408502330831153141}]}, {\"c\": [{\"v\": 7.12534030784}, {\"v\": \"false\"}, {\"v\": 34}, {\"v\": \"1\"}, {\"v\": 40}, {\"v\": 7108882242435606404}]}, {\"c\": [{\"v\": 7.43839671988}, {\"v\": \"false\"}, {\"v\": 31}, {\"v\": \"1\"}, {\"v\": 38}, {\"v\": 6392072535155213407}]}], \"cols\": [{\"type\": \"number\", \"id\": \"weight_pounds\", \"label\": \"weight_pounds\"}, {\"type\": \"string\", \"id\": \"is_male\", \"label\": \"is_male\"}, {\"type\": \"number\", \"id\": \"mother_age\", \"label\": \"mother_age\"}, {\"type\": \"string\", \"id\": \"plurality\", \"label\": \"plurality\"}, {\"type\": \"number\", \"id\": \"gestation_weeks\", \"label\": \"gestation_weeks\"}, {\"type\": \"number\", \"id\": \"hashmonth\", \"label\": \"hashmonth\"}]},\n",
       "            {\n",
       "              pageSize: 25,\n",
       "              cssClassNames:  {\n",
       "                tableRow: 'gchart-table-row',\n",
       "                headerRow: 'gchart-table-headerrow',\n",
       "                oddTableRow: 'gchart-table-oddrow',\n",
       "                selectedTableRow: 'gchart-table-selectedrow',\n",
       "                hoverTableRow: 'gchart-table-hoverrow',\n",
       "                tableCell: 'gchart-table-cell',\n",
       "                headerCell: 'gchart-table-headercell',\n",
       "                rowNumberCell: 'gchart-table-rownumcell'\n",
       "              }\n",
       "            },\n",
       "            {source_index: 1, fields: 'weight_pounds,is_male,mother_age,plurality,gestation_weeks,hashmonth'},\n",
       "            0,\n",
       "            10);\n",
       "        }\n",
       "      );\n",
       "    </script>\n",
       "  "
      ],
      "text/plain": [
       "QueryResultsTable job_eid8-SlPjAfEB8jzwdwQCjMflUqF"
      ]
     },
     "execution_count": 5,
     "metadata": {},
     "output_type": "execute_result"
    }
   ],
   "source": [
    "%%bq query\n",
    "SELECT\n",
    "    weight_pounds, -- this is the label; because it is continuous, we need to use regression\n",
    "    CAST(is_male AS STRING) AS is_male,\n",
    "    mother_age,\n",
    "    CAST(plurality AS STRING) AS plurality,\n",
    "    gestation_weeks,\n",
    "    ABS(FARM_FINGERPRINT(CONCAT(CAST(YEAR AS STRING), CAST(month AS STRING)))) AS hashmonth\n",
    "FROM\n",
    "  publicdata.samples.natality\n",
    "WHERE\n",
    "  year > 2000\n",
    "  AND gestation_weeks > 0\n",
    "  AND mother_age > 0\n",
    "  AND plurality > 0\n",
    "  AND weight_pounds > 0\n",
    "LIMIT 10"
   ]
  },
  {
   "cell_type": "markdown",
   "metadata": {
    "colab_type": "text",
    "id": "H-d7C8KcD5am"
   },
   "source": [
    "## Train Model\n",
    "\n",
    "With the relevant columns chosen to accomplish predictions, it is then possible to create (train) the model in BigQuery. First, a dataset will be needed store the model. (if this throws an error in Datalab, simply create the dataset from the BigQuery console)."
   ]
  },
  {
   "cell_type": "code",
   "execution_count": 6,
   "metadata": {
    "colab": {
     "autoexec": {
      "startup": false,
      "wait_interval": 0
     }
    },
    "colab_type": "code",
    "id": "bWMZJQdKD5an"
   },
   "outputs": [
    {
     "name": "stdout",
     "output_type": "stream",
     "text": [
      "Dataset 'qwiklabs-gcp-3d4d05890366c909:demo' successfully created.\n"
     ]
    }
   ],
   "source": [
    "%%bash\n",
    "bq --location=US mk -d demo"
   ]
  },
  {
   "cell_type": "markdown",
   "metadata": {
    "colab_type": "text",
    "id": "T9JZIQ9nD5ap"
   },
   "source": [
    "With the demo dataset ready, it is possible to create a linear regression model to train the model.\n",
    "\n",
    "This will take approximately **4 minutes** to run and will show **Done** when complete."
   ]
  },
  {
   "cell_type": "code",
   "execution_count": 7,
   "metadata": {
    "colab": {
     "autoexec": {
      "startup": false,
      "wait_interval": 0
     }
    },
    "colab_type": "code",
    "id": "V-UJOX0tD5aq",
    "outputId": "63aa219c-a14f-4db5-a271-2e614759fe1a"
   },
   "outputs": [
    {
     "data": {
      "text/html": [
       "Done"
      ],
      "text/plain": [
       "QueryResultsTable job_Ky8BgpwMpOuIDEv-Ig1cyGs-zcrd"
      ]
     },
     "execution_count": 7,
     "metadata": {},
     "output_type": "execute_result"
    }
   ],
   "source": [
    "%%bq query\n",
    "CREATE or REPLACE MODEL demo.babyweight_model_asis\n",
    "OPTIONS\n",
    "  (model_type='linear_reg', labels=['weight_pounds']) AS\n",
    "  \n",
    "WITH natality_data AS (\n",
    "  SELECT\n",
    "    weight_pounds,-- this is the label; because it is continuous, we need to use regression\n",
    "    CAST(is_male AS STRING) AS is_male,\n",
    "    mother_age,\n",
    "    CAST(plurality AS STRING) AS plurality,\n",
    "    gestation_weeks,\n",
    "    ABS(FARM_FINGERPRINT(CONCAT(CAST(YEAR AS STRING), CAST(month AS STRING)))) AS hashmonth\n",
    "  FROM\n",
    "    publicdata.samples.natality\n",
    "  WHERE\n",
    "    year > 2000\n",
    "    AND gestation_weeks > 0\n",
    "    AND mother_age > 0\n",
    "    AND plurality > 0\n",
    "    AND weight_pounds > 0\n",
    ")\n",
    "\n",
    "SELECT\n",
    "    weight_pounds,\n",
    "    is_male,\n",
    "    mother_age,\n",
    "    plurality,\n",
    "    gestation_weeks\n",
    "FROM\n",
    "    natality_data\n",
    "WHERE\n",
    "  MOD(hashmonth, 4) < 3  -- select 75% of the data as training"
   ]
  },
  {
   "cell_type": "markdown",
   "metadata": {
    "colab_type": "text",
    "id": "mJYtGxWyD5at"
   },
   "source": [
    "## Training Statistics"
   ]
  },
  {
   "cell_type": "markdown",
   "metadata": {
    "colab_type": "text",
    "id": "0L92s-gtD5au"
   },
   "source": [
    "During the model training (and after the training), it is possible to see the model's training evaluation statistics.\n",
    "\n",
    "For each training run, a table named `<model_name>_eval` is created. This table has basic performance statistics for each iteration.\n",
    "\n",
    "While the new model is training, review the training statistics in the BigQuery UI to see the below model training: https://bigquery.cloud.google.com/\n",
    "\n",
    "Since these statistics are updated after each iteration of model training, you will see different values for each refresh while the model is training.\n",
    "\n",
    "The training details may also be viewed after the training completes from this notebook."
   ]
  },
  {
   "cell_type": "code",
   "execution_count": 8,
   "metadata": {
    "colab": {
     "autoexec": {
      "startup": false,
      "wait_interval": 0
     }
    },
    "colab_type": "code",
    "id": "ZbV6aDcRD5au",
    "outputId": "9518b192-2f7f-4b69-e612-2e3068f9925c"
   },
   "outputs": [
    {
     "data": {
      "text/html": [
       "\n",
       "    <div class=\"bqtv\" id=\"3_154335010911\"><table><tr><th>training_run</th><th>iteration</th><th>loss</th><th>eval_loss</th><th>duration_ms</th><th>learning_rate</th></tr><tr><td>0</td><td>5</td><td>1.130778705382134</td><td>1.130046666449312</td><td>48042</td><td>0.4</td></tr><tr><td>0</td><td>4</td><td>1.1323796236826644</td><td>1.1316356800041987</td><td>45534</td><td>0.8</td></tr><tr><td>0</td><td>3</td><td>1.1435126061390204</td><td>1.14392691917879</td><td>46508</td><td>0.4</td></tr><tr><td>0</td><td>2</td><td>1.1790187708132924</td><td>1.1794707158388003</td><td>46536</td><td>0.4</td></tr><tr><td>0</td><td>1</td><td>1.5728334458954585</td><td>1.5763131281774705</td><td>43742</td><td>0.4</td></tr><tr><td>0</td><td>0</td><td>9.85574526059515</td><td>9.846955904529489</td><td>22935</td><td>0.2</td></tr></table></div>\n",
       "    <br />(rows: 6, time: 1.0s,     0B processed, job: job_nJxXOcICK9vVOv7jOaGoNVRfZEL-)<br />\n",
       "    <script src=\"/static/components/requirejs/require.js\"></script>\n",
       "    <script>\n",
       "      require.config({\n",
       "        paths: {\n",
       "          base: '/static/base',\n",
       "          d3: '//cdnjs.cloudflare.com/ajax/libs/d3/3.4.13/d3',\n",
       "          plotly: 'https://cdn.plot.ly/plotly-1.5.1.min.js?noext',\n",
       "          jquery: '//ajax.googleapis.com/ajax/libs/jquery/2.0.0/jquery.min'\n",
       "        },\n",
       "        map: {\n",
       "          '*': {\n",
       "            datalab: 'nbextensions/gcpdatalab'\n",
       "          }\n",
       "        },\n",
       "        shim: {\n",
       "          plotly: {\n",
       "            deps: ['d3', 'jquery'],\n",
       "            exports: 'plotly'\n",
       "          }\n",
       "        }\n",
       "      });\n",
       "\n",
       "      require(['datalab/charting', 'datalab/element!3_154335010911', 'base/js/events',\n",
       "          'datalab/style!/nbextensions/gcpdatalab/charting.css'],\n",
       "        function(charts, dom, events) {\n",
       "          charts.render('gcharts', dom, events, 'table', [], {\"rows\": [{\"c\": [{\"v\": 0}, {\"v\": 5}, {\"v\": 1.130778705382134}, {\"v\": 1.130046666449312}, {\"v\": 48042}, {\"v\": 0.4}]}, {\"c\": [{\"v\": 0}, {\"v\": 4}, {\"v\": 1.1323796236826644}, {\"v\": 1.1316356800041987}, {\"v\": 45534}, {\"v\": 0.8}]}, {\"c\": [{\"v\": 0}, {\"v\": 3}, {\"v\": 1.1435126061390204}, {\"v\": 1.14392691917879}, {\"v\": 46508}, {\"v\": 0.4}]}, {\"c\": [{\"v\": 0}, {\"v\": 2}, {\"v\": 1.1790187708132924}, {\"v\": 1.1794707158388003}, {\"v\": 46536}, {\"v\": 0.4}]}, {\"c\": [{\"v\": 0}, {\"v\": 1}, {\"v\": 1.5728334458954585}, {\"v\": 1.5763131281774705}, {\"v\": 43742}, {\"v\": 0.4}]}, {\"c\": [{\"v\": 0}, {\"v\": 0}, {\"v\": 9.85574526059515}, {\"v\": 9.846955904529489}, {\"v\": 22935}, {\"v\": 0.2}]}], \"cols\": [{\"type\": \"number\", \"id\": \"training_run\", \"label\": \"training_run\"}, {\"type\": \"number\", \"id\": \"iteration\", \"label\": \"iteration\"}, {\"type\": \"number\", \"id\": \"loss\", \"label\": \"loss\"}, {\"type\": \"number\", \"id\": \"eval_loss\", \"label\": \"eval_loss\"}, {\"type\": \"number\", \"id\": \"duration_ms\", \"label\": \"duration_ms\"}, {\"type\": \"number\", \"id\": \"learning_rate\", \"label\": \"learning_rate\"}]},\n",
       "            {\n",
       "              pageSize: 25,\n",
       "              cssClassNames:  {\n",
       "                tableRow: 'gchart-table-row',\n",
       "                headerRow: 'gchart-table-headerrow',\n",
       "                oddTableRow: 'gchart-table-oddrow',\n",
       "                selectedTableRow: 'gchart-table-selectedrow',\n",
       "                hoverTableRow: 'gchart-table-hoverrow',\n",
       "                tableCell: 'gchart-table-cell',\n",
       "                headerCell: 'gchart-table-headercell',\n",
       "                rowNumberCell: 'gchart-table-rownumcell'\n",
       "              }\n",
       "            },\n",
       "            {source_index: 2, fields: 'training_run,iteration,loss,eval_loss,duration_ms,learning_rate'},\n",
       "            0,\n",
       "            6);\n",
       "        }\n",
       "      );\n",
       "    </script>\n",
       "  "
      ],
      "text/plain": [
       "QueryResultsTable job_nJxXOcICK9vVOv7jOaGoNVRfZEL-"
      ]
     },
     "execution_count": 8,
     "metadata": {},
     "output_type": "execute_result"
    }
   ],
   "source": [
    "%%bq query\n",
    "SELECT * FROM ML.TRAINING_INFO(MODEL demo.babyweight_model_asis);"
   ]
  },
  {
   "cell_type": "markdown",
   "metadata": {
    "colab_type": "text",
    "id": "CATWu60vD5ay"
   },
   "source": [
    "Some of these columns are obvious although what do the non-specific ML columns mean (specific to BQML)?\n",
    "\n",
    "**training_run** - Will be zero for a newly created model. If the model is re-trained using warm_start, this will increment for each re-training.\n",
    "\n",
    "**iteration** - Number of the associated `training_run`, starting with zero for the first iteration.\n",
    "\n",
    "**duration_ms** - Indicates how long the iteration took (in ms).\n",
    "\n",
    "Note: You can also see these stats by refreshing the BigQuery UI window, finding the `<model_name>` table, selecting on it, and then the Training Stats sub-header.\n",
    "\n",
    "Let's plot the training and evaluation loss to see if the model has an overfit."
   ]
  },
  {
   "cell_type": "code",
   "execution_count": 9,
   "metadata": {
    "colab": {
     "autoexec": {
      "startup": false,
      "wait_interval": 0
     }
    },
    "colab_type": "code",
    "id": "govNS3cyD5az",
    "outputId": "0187c121-e47e-4c85-e59e-00ada59c291f"
   },
   "outputs": [
    {
     "name": "stderr",
     "output_type": "stream",
     "text": [
      "/usr/local/envs/py3env/lib/python3.5/site-packages/matplotlib/font_manager.py:1320: UserWarning: findfont: Font family ['sans-serif'] not found. Falling back to DejaVu Sans\n",
      "  (prop.get_family(), self.defaultFamily[fontext]))\n"
     ]
    },
    {
     "data": {
      "image/png": "[encoded data removed]",
      "text/plain": [
       "<matplotlib.figure.Figure at 0x7f532973b470>"
      ]
     },
     "metadata": {},
     "output_type": "display_data"
    }
   ],
   "source": [
    "import google.datalab.bigquery as bq\n",
    "df = bq.Query(\"SELECT * FROM ML.TRAINING_INFO(MODEL demo.babyweight_model_asis)\").execute().result().to_dataframe()\n",
    "# plot both lines in same graph\n",
    "import matplotlib.pyplot as plt\n",
    "plt.plot( 'iteration', 'loss', data=df, marker='o', color='orange', linewidth=2)\n",
    "plt.plot( 'iteration', 'eval_loss', data=df, marker='', color='green', linewidth=2, linestyle='dashed')\n",
    "plt.xlabel('iteration')\n",
    "plt.ylabel('loss')\n",
    "plt.legend();"
   ]
  },
  {
   "cell_type": "markdown",
   "metadata": {
    "colab_type": "text",
    "id": "Add--LfeD5a2"
   },
   "source": [
    "As you can see, the training loss and evaluation loss are essentially identical. We do not seem to be overfitting."
   ]
  },
  {
   "cell_type": "markdown",
   "metadata": {
    "colab_type": "text",
    "id": "9QPwMA_ZD5a3"
   },
   "source": [
    "## Make a Prediction with BQML using the Model"
   ]
  },
  {
   "cell_type": "markdown",
   "metadata": {
    "colab_type": "text",
    "id": "9QBZxMb6D5a5"
   },
   "source": [
    "With a trained model, it is now possible to make a prediction on the values. The only difference from the second query above is the reference to the model. The data has been limited (`LIMIT 100`) to reduce amount of data returned.\n",
    "\n",
    "When the `ml.predict` function is leveraged, output prediction column name for the model is `predicted_<label_column_name>`."
   ]
  },
  {
   "cell_type": "code",
   "execution_count": 10,
   "metadata": {
    "colab": {
     "autoexec": {
      "startup": false,
      "wait_interval": 0
     }
    },
    "colab_type": "code",
    "id": "x-hedqSeD5a6",
    "outputId": "e9bbeb43-900c-420a-8520-2feeccf79239"
   },
   "outputs": [
    {
     "data": {
      "text/html": [
       "\n",
       "    <div class=\"bqtv\" id=\"4_154335015367\"><table><tr><th>predicted_weight_pounds</th><th>weight_pounds</th><th>is_male</th><th>mother_age</th><th>plurality</th><th>gestation_weeks</th></tr><tr><td>7.487098841176108</td><td>6.9996768185</td><td>true</td><td>14</td><td>1</td><td>40</td></tr><tr><td>9.07397697179384</td><td>6.87621795178</td><td>true</td><td>17</td><td>1</td><td>46</td></tr><tr><td>7.824733299490909</td><td>7.43839671988</td><td>true</td><td>18</td><td>1</td><td>41</td></tr><tr><td>7.591605655288268</td><td>7.31273323054</td><td>true</td><td>19</td><td>1</td><td>40</td></tr><tr><td>7.104449004060555</td><td>6.6248909731</td><td>true</td><td>20</td><td>1</td><td>38</td></tr><tr><td>7.104449004060555</td><td>8.3114272774</td><td>true</td><td>20</td><td>1</td><td>38</td></tr><tr><td>6.596390990010411</td><td>6.4992274837599995</td><td>true</td><td>20</td><td>1</td><td>36</td></tr><tr><td>7.104449004060555</td><td>3.87572656596</td><td>true</td><td>20</td><td>1</td><td>38</td></tr><tr><td>8.120565032160846</td><td>8.157103694</td><td>true</td><td>20</td><td>1</td><td>42</td></tr><tr><td>7.358478011085628</td><td>7.06361087448</td><td>true</td><td>20</td><td>1</td><td>39</td></tr><tr><td>7.6334083809331315</td><td>9.37626000286</td><td>true</td><td>21</td><td>1</td><td>40</td></tr><tr><td>6.871321359857914</td><td>6.9996768185</td><td>true</td><td>21</td><td>1</td><td>37</td></tr><tr><td>7.6334083809331315</td><td>6.3118345610599995</td><td>true</td><td>21</td><td>1</td><td>40</td></tr><tr><td>6.109234338782697</td><td>4.9163084426</td><td>true</td><td>21</td><td>1</td><td>34</td></tr><tr><td>7.146251729705419</td><td>7.23777606146</td><td>true</td><td>22</td><td>1</td><td>38</td></tr><tr><td>7.654309743755563</td><td>6.93794738514</td><td>true</td><td>22</td><td>1</td><td>40</td></tr><tr><td>7.421182099552924</td><td>6.6248909731</td><td>true</td><td>23</td><td>1</td><td>39</td></tr><tr><td>7.696112469400427</td><td>7.936641432</td><td>true</td><td>24</td><td>1</td><td>40</td></tr><tr><td>7.442083462375356</td><td>8.50102482272</td><td>true</td><td>24</td><td>1</td><td>39</td></tr><tr><td>6.192839790072425</td><td>5.56226287026</td><td>true</td><td>25</td><td>1</td><td>34</td></tr><tr><td>7.717013832222859</td><td>7.62578964258</td><td>true</td><td>25</td><td>1</td><td>40</td></tr><tr><td>7.717013832222859</td><td>7.25100379718</td><td>true</td><td>25</td><td>1</td><td>40</td></tr><tr><td>6.954926811147642</td><td>7.0106999316</td><td>true</td><td>25</td><td>1</td><td>37</td></tr><tr><td>7.483886188020218</td><td>7.3744626639</td><td>true</td><td>26</td><td>1</td><td>39</td></tr><tr><td>6.975828173970074</td><td>7.7492485093</td><td>true</td><td>26</td><td>1</td><td>37</td></tr></table></div>\n",
       "    <br />(rows: 100, time: 1.3s,     5GB processed, job: job_SGr6zA2o5bU-nINrdb1HsdDrtFfV)<br />\n",
       "    <script src=\"/static/components/requirejs/require.js\"></script>\n",
       "    <script>\n",
       "      require.config({\n",
       "        paths: {\n",
       "          base: '/static/base',\n",
       "          d3: '//cdnjs.cloudflare.com/ajax/libs/d3/3.4.13/d3',\n",
       "          plotly: 'https://cdn.plot.ly/plotly-1.5.1.min.js?noext',\n",
       "          jquery: '//ajax.googleapis.com/ajax/libs/jquery/2.0.0/jquery.min'\n",
       "        },\n",
       "        map: {\n",
       "          '*': {\n",
       "            datalab: 'nbextensions/gcpdatalab'\n",
       "          }\n",
       "        },\n",
       "        shim: {\n",
       "          plotly: {\n",
       "            deps: ['d3', 'jquery'],\n",
       "            exports: 'plotly'\n",
       "          }\n",
       "        }\n",
       "      });\n",
       "\n",
       "      require(['datalab/charting', 'datalab/element!4_154335015367', 'base/js/events',\n",
       "          'datalab/style!/nbextensions/gcpdatalab/charting.css'],\n",
       "        function(charts, dom, events) {\n",
       "          charts.render('gcharts', dom, events, 'paged_table', [], {\"rows\": [{\"c\": [{\"v\": 7.487098841176108}, {\"v\": 6.9996768185}, {\"v\": \"true\"}, {\"v\": 14}, {\"v\": \"1\"}, {\"v\": 40}]}, {\"c\": [{\"v\": 9.07397697179384}, {\"v\": 6.87621795178}, {\"v\": \"true\"}, {\"v\": 17}, {\"v\": \"1\"}, {\"v\": 46}]}, {\"c\": [{\"v\": 7.824733299490909}, {\"v\": 7.43839671988}, {\"v\": \"true\"}, {\"v\": 18}, {\"v\": \"1\"}, {\"v\": 41}]}, {\"c\": [{\"v\": 7.591605655288268}, {\"v\": 7.31273323054}, {\"v\": \"true\"}, {\"v\": 19}, {\"v\": \"1\"}, {\"v\": 40}]}, {\"c\": [{\"v\": 7.104449004060555}, {\"v\": 6.6248909731}, {\"v\": \"true\"}, {\"v\": 20}, {\"v\": \"1\"}, {\"v\": 38}]}, {\"c\": [{\"v\": 7.104449004060555}, {\"v\": 8.3114272774}, {\"v\": \"true\"}, {\"v\": 20}, {\"v\": \"1\"}, {\"v\": 38}]}, {\"c\": [{\"v\": 6.596390990010411}, {\"v\": 6.4992274837599995}, {\"v\": \"true\"}, {\"v\": 20}, {\"v\": \"1\"}, {\"v\": 36}]}, {\"c\": [{\"v\": 7.104449004060555}, {\"v\": 3.87572656596}, {\"v\": \"true\"}, {\"v\": 20}, {\"v\": \"1\"}, {\"v\": 38}]}, {\"c\": [{\"v\": 8.120565032160846}, {\"v\": 8.157103694}, {\"v\": \"true\"}, {\"v\": 20}, {\"v\": \"1\"}, {\"v\": 42}]}, {\"c\": [{\"v\": 7.358478011085628}, {\"v\": 7.06361087448}, {\"v\": \"true\"}, {\"v\": 20}, {\"v\": \"1\"}, {\"v\": 39}]}, {\"c\": [{\"v\": 7.6334083809331315}, {\"v\": 9.37626000286}, {\"v\": \"true\"}, {\"v\": 21}, {\"v\": \"1\"}, {\"v\": 40}]}, {\"c\": [{\"v\": 6.871321359857914}, {\"v\": 6.9996768185}, {\"v\": \"true\"}, {\"v\": 21}, {\"v\": \"1\"}, {\"v\": 37}]}, {\"c\": [{\"v\": 7.6334083809331315}, {\"v\": 6.3118345610599995}, {\"v\": \"true\"}, {\"v\": 21}, {\"v\": \"1\"}, {\"v\": 40}]}, {\"c\": [{\"v\": 6.109234338782697}, {\"v\": 4.9163084426}, {\"v\": \"true\"}, {\"v\": 21}, {\"v\": \"1\"}, {\"v\": 34}]}, {\"c\": [{\"v\": 7.146251729705419}, {\"v\": 7.23777606146}, {\"v\": \"true\"}, {\"v\": 22}, {\"v\": \"1\"}, {\"v\": 38}]}, {\"c\": [{\"v\": 7.654309743755563}, {\"v\": 6.93794738514}, {\"v\": \"true\"}, {\"v\": 22}, {\"v\": \"1\"}, {\"v\": 40}]}, {\"c\": [{\"v\": 7.421182099552924}, {\"v\": 6.6248909731}, {\"v\": \"true\"}, {\"v\": 23}, {\"v\": \"1\"}, {\"v\": 39}]}, {\"c\": [{\"v\": 7.696112469400427}, {\"v\": 7.936641432}, {\"v\": \"true\"}, {\"v\": 24}, {\"v\": \"1\"}, {\"v\": 40}]}, {\"c\": [{\"v\": 7.442083462375356}, {\"v\": 8.50102482272}, {\"v\": \"true\"}, {\"v\": 24}, {\"v\": \"1\"}, {\"v\": 39}]}, {\"c\": [{\"v\": 6.192839790072425}, {\"v\": 5.56226287026}, {\"v\": \"true\"}, {\"v\": 25}, {\"v\": \"1\"}, {\"v\": 34}]}, {\"c\": [{\"v\": 7.717013832222859}, {\"v\": 7.62578964258}, {\"v\": \"true\"}, {\"v\": 25}, {\"v\": \"1\"}, {\"v\": 40}]}, {\"c\": [{\"v\": 7.717013832222859}, {\"v\": 7.25100379718}, {\"v\": \"true\"}, {\"v\": 25}, {\"v\": \"1\"}, {\"v\": 40}]}, {\"c\": [{\"v\": 6.954926811147642}, {\"v\": 7.0106999316}, {\"v\": \"true\"}, {\"v\": 25}, {\"v\": \"1\"}, {\"v\": 37}]}, {\"c\": [{\"v\": 7.483886188020218}, {\"v\": 7.3744626639}, {\"v\": \"true\"}, {\"v\": 26}, {\"v\": \"1\"}, {\"v\": 39}]}, {\"c\": [{\"v\": 6.975828173970074}, {\"v\": 7.7492485093}, {\"v\": \"true\"}, {\"v\": 26}, {\"v\": \"1\"}, {\"v\": 37}]}], \"cols\": [{\"type\": \"number\", \"id\": \"predicted_weight_pounds\", \"label\": \"predicted_weight_pounds\"}, {\"type\": \"number\", \"id\": \"weight_pounds\", \"label\": \"weight_pounds\"}, {\"type\": \"string\", \"id\": \"is_male\", \"label\": \"is_male\"}, {\"type\": \"number\", \"id\": \"mother_age\", \"label\": \"mother_age\"}, {\"type\": \"string\", \"id\": \"plurality\", \"label\": \"plurality\"}, {\"type\": \"number\", \"id\": \"gestation_weeks\", \"label\": \"gestation_weeks\"}]},\n",
       "            {\n",
       "              pageSize: 25,\n",
       "              cssClassNames:  {\n",
       "                tableRow: 'gchart-table-row',\n",
       "                headerRow: 'gchart-table-headerrow',\n",
       "                oddTableRow: 'gchart-table-oddrow',\n",
       "                selectedTableRow: 'gchart-table-selectedrow',\n",
       "                hoverTableRow: 'gchart-table-hoverrow',\n",
       "                tableCell: 'gchart-table-cell',\n",
       "                headerCell: 'gchart-table-headercell',\n",
       "                rowNumberCell: 'gchart-table-rownumcell'\n",
       "              }\n",
       "            },\n",
       "            {source_index: 3, fields: 'predicted_weight_pounds,weight_pounds,is_male,mother_age,plurality,gestation_weeks'},\n",
       "            0,\n",
       "            100);\n",
       "        }\n",
       "      );\n",
       "    </script>\n",
       "  "
      ],
      "text/plain": [
       "QueryResultsTable job_SGr6zA2o5bU-nINrdb1HsdDrtFfV"
      ]
     },
     "execution_count": 10,
     "metadata": {},
     "output_type": "execute_result"
    }
   ],
   "source": [
    "%%bq query\n",
    "SELECT\n",
    "  *\n",
    "FROM\n",
    "  ml.PREDICT(MODEL demo.babyweight_model_asis,\n",
    "      (SELECT\n",
    "        weight_pounds,\n",
    "        CAST(is_male AS STRING) AS is_male,\n",
    "        mother_age,\n",
    "        CAST(plurality AS STRING) AS plurality,\n",
    "        gestation_weeks\n",
    "      FROM\n",
    "        publicdata.samples.natality\n",
    "      WHERE\n",
    "        year > 2000\n",
    "        AND gestation_weeks > 0\n",
    "        AND mother_age > 0\n",
    "        AND plurality > 0\n",
    "        AND weight_pounds > 0\n",
    "    ))\n",
    "LIMIT 100"
   ]
  },
  {
   "cell_type": "code",
   "execution_count": 13,
   "metadata": {},
   "outputs": [
    {
     "data": {
      "text/html": [
       "\n",
       "    <div class=\"bqtv\" id=\"5_154335025422\"><table><tr><th>mean_absolute_error</th><th>mean_squared_error</th><th>mean_squared_log_error</th><th>median_absolute_error</th><th>r2_score</th><th>explained_variance</th></tr><tr><td>0.8258431758791801</td><td>1.1306742442324702</td><td>0.020461737872562672</td><td>0.6708628314323581</td><td>0.35068052089691604</td><td>0.35070166961408966</td></tr></table></div>\n",
       "    <br />(rows: 1, time: 2.8s,     5GB processed, job: job_cxfvv8XHRY6w7n8kXkXVB1DhNRYf)<br />\n",
       "    <script src=\"/static/components/requirejs/require.js\"></script>\n",
       "    <script>\n",
       "      require.config({\n",
       "        paths: {\n",
       "          base: '/static/base',\n",
       "          d3: '//cdnjs.cloudflare.com/ajax/libs/d3/3.4.13/d3',\n",
       "          plotly: 'https://cdn.plot.ly/plotly-1.5.1.min.js?noext',\n",
       "          jquery: '//ajax.googleapis.com/ajax/libs/jquery/2.0.0/jquery.min'\n",
       "        },\n",
       "        map: {\n",
       "          '*': {\n",
       "            datalab: 'nbextensions/gcpdatalab'\n",
       "          }\n",
       "        },\n",
       "        shim: {\n",
       "          plotly: {\n",
       "            deps: ['d3', 'jquery'],\n",
       "            exports: 'plotly'\n",
       "          }\n",
       "        }\n",
       "      });\n",
       "\n",
       "      require(['datalab/charting', 'datalab/element!5_154335025422', 'base/js/events',\n",
       "          'datalab/style!/nbextensions/gcpdatalab/charting.css'],\n",
       "        function(charts, dom, events) {\n",
       "          charts.render('gcharts', dom, events, 'table', [], {\"rows\": [{\"c\": [{\"v\": 0.8258431758791801}, {\"v\": 1.1306742442324702}, {\"v\": 0.020461737872562672}, {\"v\": 0.6708628314323581}, {\"v\": 0.35068052089691604}, {\"v\": 0.35070166961408966}]}], \"cols\": [{\"type\": \"number\", \"id\": \"mean_absolute_error\", \"label\": \"mean_absolute_error\"}, {\"type\": \"number\", \"id\": \"mean_squared_error\", \"label\": \"mean_squared_error\"}, {\"type\": \"number\", \"id\": \"mean_squared_log_error\", \"label\": \"mean_squared_log_error\"}, {\"type\": \"number\", \"id\": \"median_absolute_error\", \"label\": \"median_absolute_error\"}, {\"type\": \"number\", \"id\": \"r2_score\", \"label\": \"r2_score\"}, {\"type\": \"number\", \"id\": \"explained_variance\", \"label\": \"explained_variance\"}]},\n",
       "            {\n",
       "              pageSize: 25,\n",
       "              cssClassNames:  {\n",
       "                tableRow: 'gchart-table-row',\n",
       "                headerRow: 'gchart-table-headerrow',\n",
       "                oddTableRow: 'gchart-table-oddrow',\n",
       "                selectedTableRow: 'gchart-table-selectedrow',\n",
       "                hoverTableRow: 'gchart-table-hoverrow',\n",
       "                tableCell: 'gchart-table-cell',\n",
       "                headerCell: 'gchart-table-headercell',\n",
       "                rowNumberCell: 'gchart-table-rownumcell'\n",
       "              }\n",
       "            },\n",
       "            {source_index: 4, fields: 'mean_absolute_error,mean_squared_error,mean_squared_log_error,median_absolute_error,r2_score,explained_variance'},\n",
       "            0,\n",
       "            1);\n",
       "        }\n",
       "      );\n",
       "    </script>\n",
       "  "
      ],
      "text/plain": [
       "QueryResultsTable job_cxfvv8XHRY6w7n8kXkXVB1DhNRYf"
      ]
     },
     "execution_count": 13,
     "metadata": {},
     "output_type": "execute_result"
    }
   ],
   "source": [
    "%%bq query\n",
    "select\n",
    "  *\n",
    "from \n",
    "  ml.EVALUATE(MODEL demo.babyweight_model_asis, \n",
    "              (\n",
    "                -- select features from test_data \n",
    "SELECT\n",
    "        weight_pounds,\n",
    "        CAST(is_male AS STRING) AS is_male,\n",
    "        mother_age,\n",
    "        CAST(plurality AS STRING) AS plurality,\n",
    "        gestation_weeks\n",
    "      FROM\n",
    "        publicdata.samples.natality\n",
    "      WHERE\n",
    "        year > 2000\n",
    "        AND gestation_weeks > 0\n",
    "        AND mother_age > 0\n",
    "        AND plurality > 0\n",
    "        AND weight_pounds > 0\n",
    "))"
   ]
  },
  {
   "cell_type": "code",
   "execution_count": 14,
   "metadata": {},
   "outputs": [
    {
     "data": {
      "text/html": [
       "<div>\n",
       "<style scoped>\n",
       "    .dataframe tbody tr th:only-of-type {\n",
       "        vertical-align: middle;\n",
       "    }\n",
       "\n",
       "    .dataframe tbody tr th {\n",
       "        vertical-align: top;\n",
       "    }\n",
       "\n",
       "    .dataframe thead th {\n",
       "        text-align: right;\n",
       "    }\n",
       "</style>\n",
       "<table border=\"1\" class=\"dataframe\">\n",
       "  <thead>\n",
       "    <tr style=\"text-align: right;\">\n",
       "      <th></th>\n",
       "      <th>predicted_weight_pounds</th>\n",
       "      <th>weight_pounds</th>\n",
       "      <th>is_male</th>\n",
       "      <th>mother_age</th>\n",
       "      <th>plurality</th>\n",
       "      <th>gestation_weeks</th>\n",
       "    </tr>\n",
       "  </thead>\n",
       "  <tbody>\n",
       "    <tr>\n",
       "      <th>0</th>\n",
       "      <td>6.958139</td>\n",
       "      <td>6.624891</td>\n",
       "      <td>true</td>\n",
       "      <td>13</td>\n",
       "      <td>1</td>\n",
       "      <td>38</td>\n",
       "    </tr>\n",
       "    <tr>\n",
       "      <th>1</th>\n",
       "      <td>7.456008</td>\n",
       "      <td>8.000575</td>\n",
       "      <td>false</td>\n",
       "      <td>13</td>\n",
       "      <td>1</td>\n",
       "      <td>41</td>\n",
       "    </tr>\n",
       "    <tr>\n",
       "      <th>2</th>\n",
       "      <td>7.487099</td>\n",
       "      <td>6.999677</td>\n",
       "      <td>true</td>\n",
       "      <td>14</td>\n",
       "      <td>1</td>\n",
       "      <td>40</td>\n",
       "    </tr>\n",
       "    <tr>\n",
       "      <th>3</th>\n",
       "      <td>6.714822</td>\n",
       "      <td>6.501432</td>\n",
       "      <td>false</td>\n",
       "      <td>14</td>\n",
       "      <td>1</td>\n",
       "      <td>38</td>\n",
       "    </tr>\n",
       "    <tr>\n",
       "      <th>4</th>\n",
       "      <td>7.243781</td>\n",
       "      <td>8.187968</td>\n",
       "      <td>false</td>\n",
       "      <td>15</td>\n",
       "      <td>1</td>\n",
       "      <td>40</td>\n",
       "    </tr>\n",
       "  </tbody>\n",
       "</table>\n",
       "</div>"
      ],
      "text/plain": [
       "   predicted_weight_pounds  weight_pounds is_male  mother_age plurality  \\\n",
       "0                 6.958139       6.624891    true          13         1   \n",
       "1                 7.456008       8.000575   false          13         1   \n",
       "2                 7.487099       6.999677    true          14         1   \n",
       "3                 6.714822       6.501432   false          14         1   \n",
       "4                 7.243781       8.187968   false          15         1   \n",
       "\n",
       "   gestation_weeks  \n",
       "0               38  \n",
       "1               41  \n",
       "2               40  \n",
       "3               38  \n",
       "4               40  "
      ]
     },
     "execution_count": 14,
     "metadata": {},
     "output_type": "execute_result"
    }
   ],
   "source": [
    "import google.datalab.bigquery as bq\n",
    "query = \"\"\"\n",
    "SELECT\n",
    "  *\n",
    "FROM\n",
    "  ml.PREDICT(MODEL demo.babyweight_model_asis,\n",
    "      (SELECT\n",
    "        weight_pounds,\n",
    "        CAST(is_male AS STRING) AS is_male,\n",
    "        mother_age,\n",
    "        CAST(plurality AS STRING) AS plurality,\n",
    "        gestation_weeks\n",
    "      FROM\n",
    "        publicdata.samples.natality\n",
    "      WHERE\n",
    "        year > 2000\n",
    "        AND gestation_weeks > 0\n",
    "        AND mother_age > 0\n",
    "        AND plurality > 0\n",
    "        AND weight_pounds > 0\n",
    "    ))\n",
    "LIMIT 1000\n",
    "\"\"\"\n",
    "dat_pred = bq.Query(query).execute().result().to_dataframe()\n",
    "dat_pred.head(n = 5)\n"
   ]
  },
  {
   "cell_type": "code",
   "execution_count": 46,
   "metadata": {},
   "outputs": [
    {
     "name": "stdout",
     "output_type": "stream",
     "text": [
      "pandas correlation matrix (squared) = \n",
      "                         predicted_weight_pounds  weight_pounds\n",
      "predicted_weight_pounds                 1.000000       0.267188\n",
      "weight_pounds                           0.267188       1.000000\n",
      "\n",
      "numpy correlation matrix (squared) = \n",
      "[[1.         0.26718804]\n",
      " [0.26718804 1.        ]]\n",
      "\n",
      "mean_squared_error(y_true, y_pred) =  1.2107178688211921\n",
      "mse (manual) =  1.2107178688211921\n",
      "mean_absolute_error(y_true, y_pred) =  0.8463800654696979\n",
      "mae (manual) =  0.8463800654696979\n",
      "r2score =  -1.3744345157127085  -- why?!? [[?]]\n",
      "type(y_true) =  <class 'pandas.core.series.Series'>\n",
      "type(y_pred) =  <class 'pandas.core.series.Series'>\n",
      "\n",
      "r2score =  -1.3744345157127085  -- why?!? [[?]]\n",
      "type(y_true.values) =  <class 'numpy.ndarray'>\n",
      "0    6.958139\n",
      "1    7.456008\n",
      "Name: predicted_weight_pounds, dtype: float64\n",
      "0    6.624891\n",
      "1    8.000575\n",
      "Name: weight_pounds, dtype: float64\n"
     ]
    }
   ],
   "source": [
    "from sklearn.metrics import mean_squared_error, mean_absolute_error, r2_score\n",
    "import numpy as np\n",
    "\n",
    "varname_y_true = \"predicted_weight_pounds\"\n",
    "varname_y_pred = \"weight_pounds\"\n",
    "y_true = dat_pred[varname_y_true]\n",
    "y_pred = dat_pred[varname_y_pred]\n",
    "print(\"pandas correlation matrix (squared) = \")\n",
    "print(dat_pred[[varname_y_true, varname_y_pred]].corr() ** 2)\n",
    "print()\n",
    "print(\"numpy correlation matrix (squared) = \")\n",
    "print(np.corrcoef(y_true, y_pred) ** 2)\n",
    "print()\n",
    "print(\"mean_squared_error(y_true, y_pred) = \", mean_squared_error(y_true, y_pred))\n",
    "print(\"mse (manual) = \", np.mean((y_true - y_pred) ** 2) )\n",
    "print(\"mean_absolute_error(y_true, y_pred) = \", mean_absolute_error(y_true, y_pred))\n",
    "print(\"mae (manual) = \", np.mean(np.abs(y_true - y_pred)))\n",
    "print(\"r2score = \", r2_score(y_true, y_pred), \" -- why?!? [[?]]\")\n",
    "print(\"type(y_true) = \", type(y_true))\n",
    "print(\"type(y_pred) = \", type(y_pred))\n",
    "print()\n",
    "print(\"r2score = \", r2_score(y_true.values, y_pred.values), \" -- why?!? [[?]]\")\n",
    "print(\"type(y_true.values) = \", type(y_true.values))\n",
    "print(y_true[:2])\n",
    "print(y_pred[:2])\n"
   ]
  },
  {
   "cell_type": "markdown",
   "metadata": {
    "colab_type": "text",
    "id": "0DZorSI-D5a9"
   },
   "source": [
    "# More advanced...\n",
    "\n",
    "In the original example, we were taking into account the idea that if no ultrasound has been performed, some of the features (e.g. is_male) will not be known. Therefore, we augmented the dataset with such masked features and trained a single model to deal with both these scenarios.\n",
    "\n",
    "In addition, during data exploration, we learned that the data size set for mothers older than 45 was quite sparse, so we will discretize the mother age."
   ]
  },
  {
   "cell_type": "code",
   "execution_count": 29,
   "metadata": {
    "colab": {
     "autoexec": {
      "startup": false,
      "wait_interval": 0
     }
    },
    "colab_type": "code",
    "id": "SnNOrcMfD5a-",
    "outputId": "316cc091-ffd8-4dce-ae9c-b56fef884593"
   },
   "outputs": [
    {
     "data": {
      "text/html": [
       "\n",
       "    <div class=\"bqtv\" id=\"6_154332649913\"><table><tr><th>weight_pounds</th><th>is_male</th><th>mother_age</th><th>plurality</th><th>gestation_weeks</th><th>hashmonth</th></tr><tr><td>8.8074673669</td><td>true</td><td>39</td><td>1</td><td>42</td><td>1088037545023002395</td></tr><tr><td>7.3744626639</td><td>true</td><td>38</td><td>1</td><td>38</td><td>1088037545023002395</td></tr><tr><td>8.1350574678</td><td>true</td><td>20</td><td>1</td><td>39</td><td>6244544205302024223</td></tr><tr><td>7.25100379718</td><td>true</td><td>LOW</td><td>1</td><td>39</td><td>1525201076796226340</td></tr><tr><td>6.25671899556</td><td>true</td><td>29</td><td>1</td><td>41</td><td>7146494315947640619</td></tr><tr><td>7.62578964258</td><td>true</td><td>22</td><td>1</td><td>41</td><td>6392072535155213407</td></tr><tr><td>7.3524164377</td><td>true</td><td>30</td><td>1</td><td>37</td><td>8904940584331855459</td></tr><tr><td>9.0940683075</td><td>true</td><td>25</td><td>1</td><td>40</td><td>8904940584331855459</td></tr><tr><td>7.87491199864</td><td>true</td><td>36</td><td>1</td><td>39</td><td>7170969733900686954</td></tr><tr><td>7.5618555866</td><td>true</td><td>27</td><td>1</td><td>39</td><td>6691862025345277042</td></tr><tr><td>8.313631900019999</td><td>true</td><td>23</td><td>1</td><td>35</td><td>2126480030009879160</td></tr><tr><td>8.062304921339999</td><td>true</td><td>LOW</td><td>1</td><td>40</td><td>2126480030009879160</td></tr><tr><td>4.46877005074</td><td>true</td><td>24</td><td>1</td><td>33</td><td>2126480030009879160</td></tr><tr><td>8.12623897732</td><td>true</td><td>32</td><td>1</td><td>40</td><td>2126480030009879160</td></tr><tr><td>6.0627122049999995</td><td>true</td><td>28</td><td>1</td><td>36</td><td>7108882242435606404</td></tr><tr><td>7.56846945446</td><td>true</td><td>22</td><td>1</td><td>46</td><td>1403073183891835564</td></tr><tr><td>7.12534030784</td><td>true</td><td>20</td><td>1</td><td>40</td><td>9068386407968572094</td></tr><tr><td>7.43839671988</td><td>false</td><td>31</td><td>1</td><td>38</td><td>6392072535155213407</td></tr><tr><td>5.43659938092</td><td>false</td><td>35</td><td>2</td><td>34</td><td>6392072535155213407</td></tr><tr><td>6.1883756943399995</td><td>false</td><td>20</td><td>1</td><td>40</td><td>8904940584331855459</td></tr><tr><td>8.062304921339999</td><td>false</td><td>25</td><td>1</td><td>40</td><td>8904940584331855459</td></tr><tr><td>8.000575487979999</td><td>false</td><td>27</td><td>1</td><td>40</td><td>7170969733900686954</td></tr><tr><td>6.0075966395</td><td>false</td><td>27</td><td>1</td><td>39</td><td>7170969733900686954</td></tr><tr><td>7.12534030784</td><td>false</td><td>34</td><td>1</td><td>40</td><td>7108882242435606404</td></tr><tr><td>6.56316153974</td><td>false</td><td>29</td><td>1</td><td>39</td><td>3408502330831153141</td></tr></table></div>\n",
       "    <br />(rows: 25, time: 0.4s, cached, job: job_fPDryuGcwlIy1HPmb1vYKxSJRaKT)<br />\n",
       "    <script src=\"/static/components/requirejs/require.js\"></script>\n",
       "    <script>\n",
       "      require.config({\n",
       "        paths: {\n",
       "          base: '/static/base',\n",
       "          d3: '//cdnjs.cloudflare.com/ajax/libs/d3/3.4.13/d3',\n",
       "          plotly: 'https://cdn.plot.ly/plotly-1.5.1.min.js?noext',\n",
       "          jquery: '//ajax.googleapis.com/ajax/libs/jquery/2.0.0/jquery.min'\n",
       "        },\n",
       "        map: {\n",
       "          '*': {\n",
       "            datalab: 'nbextensions/gcpdatalab'\n",
       "          }\n",
       "        },\n",
       "        shim: {\n",
       "          plotly: {\n",
       "            deps: ['d3', 'jquery'],\n",
       "            exports: 'plotly'\n",
       "          }\n",
       "        }\n",
       "      });\n",
       "\n",
       "      require(['datalab/charting', 'datalab/element!6_154332649913', 'base/js/events',\n",
       "          'datalab/style!/nbextensions/gcpdatalab/charting.css'],\n",
       "        function(charts, dom, events) {\n",
       "          charts.render('gcharts', dom, events, 'table', [], {\"rows\": [{\"c\": [{\"v\": 8.8074673669}, {\"v\": \"true\"}, {\"v\": \"39\"}, {\"v\": \"1\"}, {\"v\": \"42\"}, {\"v\": 1088037545023002395}]}, {\"c\": [{\"v\": 7.3744626639}, {\"v\": \"true\"}, {\"v\": \"38\"}, {\"v\": \"1\"}, {\"v\": \"38\"}, {\"v\": 1088037545023002395}]}, {\"c\": [{\"v\": 8.1350574678}, {\"v\": \"true\"}, {\"v\": \"20\"}, {\"v\": \"1\"}, {\"v\": \"39\"}, {\"v\": 6244544205302024223}]}, {\"c\": [{\"v\": 7.25100379718}, {\"v\": \"true\"}, {\"v\": \"LOW\"}, {\"v\": \"1\"}, {\"v\": \"39\"}, {\"v\": 1525201076796226340}]}, {\"c\": [{\"v\": 6.25671899556}, {\"v\": \"true\"}, {\"v\": \"29\"}, {\"v\": \"1\"}, {\"v\": \"41\"}, {\"v\": 7146494315947640619}]}, {\"c\": [{\"v\": 7.62578964258}, {\"v\": \"true\"}, {\"v\": \"22\"}, {\"v\": \"1\"}, {\"v\": \"41\"}, {\"v\": 6392072535155213407}]}, {\"c\": [{\"v\": 7.3524164377}, {\"v\": \"true\"}, {\"v\": \"30\"}, {\"v\": \"1\"}, {\"v\": \"37\"}, {\"v\": 8904940584331855459}]}, {\"c\": [{\"v\": 9.0940683075}, {\"v\": \"true\"}, {\"v\": \"25\"}, {\"v\": \"1\"}, {\"v\": \"40\"}, {\"v\": 8904940584331855459}]}, {\"c\": [{\"v\": 7.87491199864}, {\"v\": \"true\"}, {\"v\": \"36\"}, {\"v\": \"1\"}, {\"v\": \"39\"}, {\"v\": 7170969733900686954}]}, {\"c\": [{\"v\": 7.5618555866}, {\"v\": \"true\"}, {\"v\": \"27\"}, {\"v\": \"1\"}, {\"v\": \"39\"}, {\"v\": 6691862025345277042}]}, {\"c\": [{\"v\": 8.313631900019999}, {\"v\": \"true\"}, {\"v\": \"23\"}, {\"v\": \"1\"}, {\"v\": \"35\"}, {\"v\": 2126480030009879160}]}, {\"c\": [{\"v\": 8.062304921339999}, {\"v\": \"true\"}, {\"v\": \"LOW\"}, {\"v\": \"1\"}, {\"v\": \"40\"}, {\"v\": 2126480030009879160}]}, {\"c\": [{\"v\": 4.46877005074}, {\"v\": \"true\"}, {\"v\": \"24\"}, {\"v\": \"1\"}, {\"v\": \"33\"}, {\"v\": 2126480030009879160}]}, {\"c\": [{\"v\": 8.12623897732}, {\"v\": \"true\"}, {\"v\": \"32\"}, {\"v\": \"1\"}, {\"v\": \"40\"}, {\"v\": 2126480030009879160}]}, {\"c\": [{\"v\": 6.0627122049999995}, {\"v\": \"true\"}, {\"v\": \"28\"}, {\"v\": \"1\"}, {\"v\": \"36\"}, {\"v\": 7108882242435606404}]}, {\"c\": [{\"v\": 7.56846945446}, {\"v\": \"true\"}, {\"v\": \"22\"}, {\"v\": \"1\"}, {\"v\": \"46\"}, {\"v\": 1403073183891835564}]}, {\"c\": [{\"v\": 7.12534030784}, {\"v\": \"true\"}, {\"v\": \"20\"}, {\"v\": \"1\"}, {\"v\": \"40\"}, {\"v\": 9068386407968572094}]}, {\"c\": [{\"v\": 7.43839671988}, {\"v\": \"false\"}, {\"v\": \"31\"}, {\"v\": \"1\"}, {\"v\": \"38\"}, {\"v\": 6392072535155213407}]}, {\"c\": [{\"v\": 5.43659938092}, {\"v\": \"false\"}, {\"v\": \"35\"}, {\"v\": \"2\"}, {\"v\": \"34\"}, {\"v\": 6392072535155213407}]}, {\"c\": [{\"v\": 6.1883756943399995}, {\"v\": \"false\"}, {\"v\": \"20\"}, {\"v\": \"1\"}, {\"v\": \"40\"}, {\"v\": 8904940584331855459}]}, {\"c\": [{\"v\": 8.062304921339999}, {\"v\": \"false\"}, {\"v\": \"25\"}, {\"v\": \"1\"}, {\"v\": \"40\"}, {\"v\": 8904940584331855459}]}, {\"c\": [{\"v\": 8.000575487979999}, {\"v\": \"false\"}, {\"v\": \"27\"}, {\"v\": \"1\"}, {\"v\": \"40\"}, {\"v\": 7170969733900686954}]}, {\"c\": [{\"v\": 6.0075966395}, {\"v\": \"false\"}, {\"v\": \"27\"}, {\"v\": \"1\"}, {\"v\": \"39\"}, {\"v\": 7170969733900686954}]}, {\"c\": [{\"v\": 7.12534030784}, {\"v\": \"false\"}, {\"v\": \"34\"}, {\"v\": \"1\"}, {\"v\": \"40\"}, {\"v\": 7108882242435606404}]}, {\"c\": [{\"v\": 6.56316153974}, {\"v\": \"false\"}, {\"v\": \"29\"}, {\"v\": \"1\"}, {\"v\": \"39\"}, {\"v\": 3408502330831153141}]}], \"cols\": [{\"id\": \"weight_pounds\", \"label\": \"weight_pounds\", \"type\": \"number\"}, {\"id\": \"is_male\", \"label\": \"is_male\", \"type\": \"string\"}, {\"id\": \"mother_age\", \"label\": \"mother_age\", \"type\": \"string\"}, {\"id\": \"plurality\", \"label\": \"plurality\", \"type\": \"string\"}, {\"id\": \"gestation_weeks\", \"label\": \"gestation_weeks\", \"type\": \"string\"}, {\"id\": \"hashmonth\", \"label\": \"hashmonth\", \"type\": \"number\"}]},\n",
       "            {\n",
       "              pageSize: 25,\n",
       "              cssClassNames:  {\n",
       "                tableRow: 'gchart-table-row',\n",
       "                headerRow: 'gchart-table-headerrow',\n",
       "                oddTableRow: 'gchart-table-oddrow',\n",
       "                selectedTableRow: 'gchart-table-selectedrow',\n",
       "                hoverTableRow: 'gchart-table-hoverrow',\n",
       "                tableCell: 'gchart-table-cell',\n",
       "                headerCell: 'gchart-table-headercell',\n",
       "                rowNumberCell: 'gchart-table-rownumcell'\n",
       "              }\n",
       "            },\n",
       "            {source_index: 4, fields: 'weight_pounds,is_male,mother_age,plurality,gestation_weeks,hashmonth'},\n",
       "            0,\n",
       "            25);\n",
       "        }\n",
       "      );\n",
       "    </script>\n",
       "  "
      ],
      "text/plain": [
       "QueryResultsTable job_fPDryuGcwlIy1HPmb1vYKxSJRaKT"
      ]
     },
     "execution_count": 29,
     "metadata": {},
     "output_type": "execute_result"
    }
   ],
   "source": [
    "%%bq query\n",
    "SELECT\n",
    "    weight_pounds,\n",
    "    CAST(is_male AS STRING) AS is_male,\n",
    "    IF(mother_age < 18, 'LOW',\n",
    "         IF(mother_age > 45, 'HIGH',\n",
    "            CAST(mother_age AS STRING))) AS mother_age,\n",
    "    CAST(plurality AS STRING) AS plurality,\n",
    "    CAST(gestation_weeks AS STRING) AS gestation_weeks,\n",
    "    ABS(FARM_FINGERPRINT(CONCAT(CAST(YEAR AS STRING), CAST(month AS STRING)))) AS hashmonth\n",
    "  FROM\n",
    "    publicdata.samples.natality\n",
    "  WHERE\n",
    "    year > 2000\n",
    "    AND gestation_weeks > 0\n",
    "    AND mother_age > 0\n",
    "    AND plurality > 0\n",
    "    AND weight_pounds > 0\n",
    "LIMIT 25"
   ]
  },
  {
   "cell_type": "markdown",
   "metadata": {
    "colab_type": "text",
    "id": "ZwetSzIeD5bC"
   },
   "source": [
    "On the same dataset, will also suppose that it is unknown whether the child is male or female (on the same dataset) to simulate that an ultrasound was not been performed."
   ]
  },
  {
   "cell_type": "code",
   "execution_count": 30,
   "metadata": {
    "colab": {
     "autoexec": {
      "startup": false,
      "wait_interval": 0
     }
    },
    "colab_type": "code",
    "id": "Y_MSEYqBD5bC",
    "outputId": "22f63e28-93c6-4086-f3f8-68e5ffdaa364"
   },
   "outputs": [
    {
     "data": {
      "text/html": [
       "\n",
       "    <div class=\"bqtv\" id=\"7_154332651681\"><table><tr><th>weight_pounds</th><th>is_male</th><th>mother_age</th><th>plurality</th><th>gestation_weeks</th><th>hashmonth</th></tr><tr><td>9.259415004</td><td>Unknown</td><td>28</td><td>Single</td><td>38</td><td>1088037545023002395</td></tr><tr><td>8.062304921339999</td><td>Unknown</td><td>19</td><td>Single</td><td>39</td><td>1088037545023002395</td></tr><tr><td>9.37405538024</td><td>Unknown</td><td>29</td><td>Single</td><td>41</td><td>1088037545023002395</td></tr><tr><td>7.06361087448</td><td>Unknown</td><td>18</td><td>Single</td><td>40</td><td>1525201076796226340</td></tr><tr><td>7.50012615324</td><td>Unknown</td><td>31</td><td>Single</td><td>44</td><td>1525201076796226340</td></tr><tr><td>6.2501051276999995</td><td>Unknown</td><td>23</td><td>Single</td><td>41</td><td>1525201076796226340</td></tr><tr><td>7.12534030784</td><td>Unknown</td><td>34</td><td>Single</td><td>39</td><td>7146494315947640619</td></tr><tr><td>3.99918543268</td><td>Unknown</td><td>30</td><td>Single</td><td>32</td><td>7146494315947640619</td></tr><tr><td>7.94105067724</td><td>Unknown</td><td>33</td><td>Single</td><td>41</td><td>7146494315947640619</td></tr><tr><td>7.43839671988</td><td>Unknown</td><td>LOW</td><td>Single</td><td>34</td><td>7146494315947640619</td></tr><tr><td>9.9759173555</td><td>Unknown</td><td>LOW</td><td>Single</td><td>41</td><td>6392072535155213407</td></tr><tr><td>8.14167133566</td><td>Unknown</td><td>29</td><td>Single</td><td>38</td><td>8904940584331855459</td></tr><tr><td>6.3713593718</td><td>Unknown</td><td>29</td><td>Single</td><td>40</td><td>8904940584331855459</td></tr><tr><td>6.686620406459999</td><td>Unknown</td><td>28</td><td>Single</td><td>40</td><td>8904940584331855459</td></tr><tr><td>9.12493302418</td><td>Unknown</td><td>26</td><td>Single</td><td>40</td><td>7170969733900686954</td></tr><tr><td>8.062304921339999</td><td>Unknown</td><td>23</td><td>Single</td><td>38</td><td>7170969733900686954</td></tr><tr><td>8.02703095942</td><td>Unknown</td><td>28</td><td>Single</td><td>39</td><td>7170969733900686954</td></tr><tr><td>7.6169711521</td><td>Unknown</td><td>36</td><td>Single</td><td>38</td><td>7170969733900686954</td></tr><tr><td>5.94807182876</td><td>Unknown</td><td>38</td><td>Single</td><td>38</td><td>7108882242435606404</td></tr><tr><td>6.1178277705</td><td>Unknown</td><td>24</td><td>Single</td><td>36</td><td>7108882242435606404</td></tr><tr><td>8.483387841759999</td><td>Unknown</td><td>27</td><td>Single</td><td>40</td><td>5896567601480310696</td></tr><tr><td>7.50012615324</td><td>Unknown</td><td>26</td><td>Single</td><td>39</td><td>5896567601480310696</td></tr><tr><td>8.81849048</td><td>Unknown</td><td>LOW</td><td>Single</td><td>42</td><td>1403073183891835564</td></tr><tr><td>8.83833208358</td><td>Unknown</td><td>27</td><td>Single</td><td>39</td><td>3408502330831153141</td></tr><tr><td>6.4374980503999994</td><td>Unknown</td><td>27</td><td>Single</td><td>40</td><td>3408502330831153141</td></tr></table></div>\n",
       "    <br />(rows: 25, time: 1.5s,     6GB processed, job: job_65DgfKHBW5RDZYhhS1B7O49aoiWx)<br />\n",
       "    <script src=\"/static/components/requirejs/require.js\"></script>\n",
       "    <script>\n",
       "      require.config({\n",
       "        paths: {\n",
       "          base: '/static/base',\n",
       "          d3: '//cdnjs.cloudflare.com/ajax/libs/d3/3.4.13/d3',\n",
       "          plotly: 'https://cdn.plot.ly/plotly-1.5.1.min.js?noext',\n",
       "          jquery: '//ajax.googleapis.com/ajax/libs/jquery/2.0.0/jquery.min'\n",
       "        },\n",
       "        map: {\n",
       "          '*': {\n",
       "            datalab: 'nbextensions/gcpdatalab'\n",
       "          }\n",
       "        },\n",
       "        shim: {\n",
       "          plotly: {\n",
       "            deps: ['d3', 'jquery'],\n",
       "            exports: 'plotly'\n",
       "          }\n",
       "        }\n",
       "      });\n",
       "\n",
       "      require(['datalab/charting', 'datalab/element!7_154332651681', 'base/js/events',\n",
       "          'datalab/style!/nbextensions/gcpdatalab/charting.css'],\n",
       "        function(charts, dom, events) {\n",
       "          charts.render('gcharts', dom, events, 'table', [], {\"rows\": [{\"c\": [{\"v\": 9.259415004}, {\"v\": \"Unknown\"}, {\"v\": \"28\"}, {\"v\": \"Single\"}, {\"v\": \"38\"}, {\"v\": 1088037545023002395}]}, {\"c\": [{\"v\": 8.062304921339999}, {\"v\": \"Unknown\"}, {\"v\": \"19\"}, {\"v\": \"Single\"}, {\"v\": \"39\"}, {\"v\": 1088037545023002395}]}, {\"c\": [{\"v\": 9.37405538024}, {\"v\": \"Unknown\"}, {\"v\": \"29\"}, {\"v\": \"Single\"}, {\"v\": \"41\"}, {\"v\": 1088037545023002395}]}, {\"c\": [{\"v\": 7.06361087448}, {\"v\": \"Unknown\"}, {\"v\": \"18\"}, {\"v\": \"Single\"}, {\"v\": \"40\"}, {\"v\": 1525201076796226340}]}, {\"c\": [{\"v\": 7.50012615324}, {\"v\": \"Unknown\"}, {\"v\": \"31\"}, {\"v\": \"Single\"}, {\"v\": \"44\"}, {\"v\": 1525201076796226340}]}, {\"c\": [{\"v\": 6.2501051276999995}, {\"v\": \"Unknown\"}, {\"v\": \"23\"}, {\"v\": \"Single\"}, {\"v\": \"41\"}, {\"v\": 1525201076796226340}]}, {\"c\": [{\"v\": 7.12534030784}, {\"v\": \"Unknown\"}, {\"v\": \"34\"}, {\"v\": \"Single\"}, {\"v\": \"39\"}, {\"v\": 7146494315947640619}]}, {\"c\": [{\"v\": 3.99918543268}, {\"v\": \"Unknown\"}, {\"v\": \"30\"}, {\"v\": \"Single\"}, {\"v\": \"32\"}, {\"v\": 7146494315947640619}]}, {\"c\": [{\"v\": 7.94105067724}, {\"v\": \"Unknown\"}, {\"v\": \"33\"}, {\"v\": \"Single\"}, {\"v\": \"41\"}, {\"v\": 7146494315947640619}]}, {\"c\": [{\"v\": 7.43839671988}, {\"v\": \"Unknown\"}, {\"v\": \"LOW\"}, {\"v\": \"Single\"}, {\"v\": \"34\"}, {\"v\": 7146494315947640619}]}, {\"c\": [{\"v\": 9.9759173555}, {\"v\": \"Unknown\"}, {\"v\": \"LOW\"}, {\"v\": \"Single\"}, {\"v\": \"41\"}, {\"v\": 6392072535155213407}]}, {\"c\": [{\"v\": 8.14167133566}, {\"v\": \"Unknown\"}, {\"v\": \"29\"}, {\"v\": \"Single\"}, {\"v\": \"38\"}, {\"v\": 8904940584331855459}]}, {\"c\": [{\"v\": 6.3713593718}, {\"v\": \"Unknown\"}, {\"v\": \"29\"}, {\"v\": \"Single\"}, {\"v\": \"40\"}, {\"v\": 8904940584331855459}]}, {\"c\": [{\"v\": 6.686620406459999}, {\"v\": \"Unknown\"}, {\"v\": \"28\"}, {\"v\": \"Single\"}, {\"v\": \"40\"}, {\"v\": 8904940584331855459}]}, {\"c\": [{\"v\": 9.12493302418}, {\"v\": \"Unknown\"}, {\"v\": \"26\"}, {\"v\": \"Single\"}, {\"v\": \"40\"}, {\"v\": 7170969733900686954}]}, {\"c\": [{\"v\": 8.062304921339999}, {\"v\": \"Unknown\"}, {\"v\": \"23\"}, {\"v\": \"Single\"}, {\"v\": \"38\"}, {\"v\": 7170969733900686954}]}, {\"c\": [{\"v\": 8.02703095942}, {\"v\": \"Unknown\"}, {\"v\": \"28\"}, {\"v\": \"Single\"}, {\"v\": \"39\"}, {\"v\": 7170969733900686954}]}, {\"c\": [{\"v\": 7.6169711521}, {\"v\": \"Unknown\"}, {\"v\": \"36\"}, {\"v\": \"Single\"}, {\"v\": \"38\"}, {\"v\": 7170969733900686954}]}, {\"c\": [{\"v\": 5.94807182876}, {\"v\": \"Unknown\"}, {\"v\": \"38\"}, {\"v\": \"Single\"}, {\"v\": \"38\"}, {\"v\": 7108882242435606404}]}, {\"c\": [{\"v\": 6.1178277705}, {\"v\": \"Unknown\"}, {\"v\": \"24\"}, {\"v\": \"Single\"}, {\"v\": \"36\"}, {\"v\": 7108882242435606404}]}, {\"c\": [{\"v\": 8.483387841759999}, {\"v\": \"Unknown\"}, {\"v\": \"27\"}, {\"v\": \"Single\"}, {\"v\": \"40\"}, {\"v\": 5896567601480310696}]}, {\"c\": [{\"v\": 7.50012615324}, {\"v\": \"Unknown\"}, {\"v\": \"26\"}, {\"v\": \"Single\"}, {\"v\": \"39\"}, {\"v\": 5896567601480310696}]}, {\"c\": [{\"v\": 8.81849048}, {\"v\": \"Unknown\"}, {\"v\": \"LOW\"}, {\"v\": \"Single\"}, {\"v\": \"42\"}, {\"v\": 1403073183891835564}]}, {\"c\": [{\"v\": 8.83833208358}, {\"v\": \"Unknown\"}, {\"v\": \"27\"}, {\"v\": \"Single\"}, {\"v\": \"39\"}, {\"v\": 3408502330831153141}]}, {\"c\": [{\"v\": 6.4374980503999994}, {\"v\": \"Unknown\"}, {\"v\": \"27\"}, {\"v\": \"Single\"}, {\"v\": \"40\"}, {\"v\": 3408502330831153141}]}], \"cols\": [{\"id\": \"weight_pounds\", \"label\": \"weight_pounds\", \"type\": \"number\"}, {\"id\": \"is_male\", \"label\": \"is_male\", \"type\": \"string\"}, {\"id\": \"mother_age\", \"label\": \"mother_age\", \"type\": \"string\"}, {\"id\": \"plurality\", \"label\": \"plurality\", \"type\": \"string\"}, {\"id\": \"gestation_weeks\", \"label\": \"gestation_weeks\", \"type\": \"string\"}, {\"id\": \"hashmonth\", \"label\": \"hashmonth\", \"type\": \"number\"}]},\n",
       "            {\n",
       "              pageSize: 25,\n",
       "              cssClassNames:  {\n",
       "                tableRow: 'gchart-table-row',\n",
       "                headerRow: 'gchart-table-headerrow',\n",
       "                oddTableRow: 'gchart-table-oddrow',\n",
       "                selectedTableRow: 'gchart-table-selectedrow',\n",
       "                hoverTableRow: 'gchart-table-hoverrow',\n",
       "                tableCell: 'gchart-table-cell',\n",
       "                headerCell: 'gchart-table-headercell',\n",
       "                rowNumberCell: 'gchart-table-rownumcell'\n",
       "              }\n",
       "            },\n",
       "            {source_index: 5, fields: 'weight_pounds,is_male,mother_age,plurality,gestation_weeks,hashmonth'},\n",
       "            0,\n",
       "            25);\n",
       "        }\n",
       "      );\n",
       "    </script>\n",
       "  "
      ],
      "text/plain": [
       "QueryResultsTable job_65DgfKHBW5RDZYhhS1B7O49aoiWx"
      ]
     },
     "execution_count": 30,
     "metadata": {},
     "output_type": "execute_result"
    }
   ],
   "source": [
    "%%bq query\n",
    "SELECT\n",
    "    weight_pounds,\n",
    "    'Unknown' AS is_male,\n",
    "    IF(mother_age < 18, 'LOW',\n",
    "         IF(mother_age > 45, 'HIGH',\n",
    "            CAST(mother_age AS STRING))) AS mother_age,\n",
    "    IF(plurality > 1, 'Multiple', 'Single') AS plurality,\n",
    "    CAST(gestation_weeks AS STRING) AS gestation_weeks,\n",
    "    ABS(FARM_FINGERPRINT(CONCAT(CAST(YEAR AS STRING), CAST(month AS STRING)))) AS hashmonth\n",
    "  FROM\n",
    "    publicdata.samples.natality\n",
    "  WHERE\n",
    "    year > 2000\n",
    "    AND gestation_weeks > 0\n",
    "    AND mother_age > 0\n",
    "    AND plurality > 0\n",
    "    AND weight_pounds > 0\n",
    "LIMIT 25"
   ]
  },
  {
   "cell_type": "markdown",
   "metadata": {
    "colab_type": "text",
    "id": "MmY2chPyD5bI"
   },
   "source": [
    "Bringing these two separate data sets together, there is now a dataset for male or female children determined with ultrasound or unknown if without. "
   ]
  },
  {
   "cell_type": "code",
   "execution_count": 31,
   "metadata": {
    "colab": {
     "autoexec": {
      "startup": false,
      "wait_interval": 0
     }
    },
    "colab_type": "code",
    "id": "2XblYiMVD5bJ",
    "outputId": "38526c88-c10d-499d-f187-2296647cc1c7"
   },
   "outputs": [
    {
     "data": {
      "text/html": [
       "\n",
       "    <div class=\"bqtv\" id=\"8_154332654890\"><table><tr><th>weight_pounds</th><th>is_male</th><th>mother_age</th><th>plurality</th><th>gestation_weeks</th></tr><tr><td>3.62439958728</td><td>Unknown</td><td>26</td><td>Single</td><td>25</td></tr><tr><td>4.46877005074</td><td>Unknown</td><td>24</td><td>Single</td><td>33</td></tr><tr><td>4.2108292041999995</td><td>Unknown</td><td>23</td><td>Single</td><td>33</td></tr><tr><td>8.313631900019999</td><td>Unknown</td><td>23</td><td>Single</td><td>35</td></tr><tr><td>7.0592016292399995</td><td>Unknown</td><td>24</td><td>Single</td><td>35</td></tr><tr><td>6.0627122049999995</td><td>Unknown</td><td>28</td><td>Single</td><td>36</td></tr><tr><td>9.81277528162</td><td>Unknown</td><td>27</td><td>Single</td><td>38</td></tr><tr><td>6.56316153974</td><td>Unknown</td><td>29</td><td>Single</td><td>39</td></tr><tr><td>7.25100379718</td><td>Unknown</td><td>LOW</td><td>Single</td><td>39</td></tr><tr><td>7.5618555866</td><td>Unknown</td><td>27</td><td>Single</td><td>39</td></tr><tr><td>6.0075966395</td><td>Unknown</td><td>27</td><td>Single</td><td>39</td></tr><tr><td>7.87491199864</td><td>Unknown</td><td>36</td><td>Single</td><td>39</td></tr><tr><td>8.80085349904</td><td>Unknown</td><td>25</td><td>Single</td><td>39</td></tr><tr><td>8.062304921339999</td><td>Unknown</td><td>25</td><td>Single</td><td>39</td></tr><tr><td>9.25059651352</td><td>Unknown</td><td>32</td><td>Single</td><td>39</td></tr><tr><td>7.43839671988</td><td>Unknown</td><td>30</td><td>Single</td><td>39</td></tr><tr><td>8.000575487979999</td><td>Unknown</td><td>27</td><td>Single</td><td>40</td></tr><tr><td>7.12534030784</td><td>Unknown</td><td>34</td><td>Single</td><td>40</td></tr><tr><td>8.062304921339999</td><td>Unknown</td><td>LOW</td><td>Single</td><td>40</td></tr><tr><td>7.12534030784</td><td>Unknown</td><td>20</td><td>Single</td><td>40</td></tr><tr><td>8.12623897732</td><td>Unknown</td><td>32</td><td>Single</td><td>40</td></tr><tr><td>8.375361333379999</td><td>Unknown</td><td>20</td><td>Single</td><td>40</td></tr><tr><td>8.24969784404</td><td>Unknown</td><td>30</td><td>Single</td><td>40</td></tr><tr><td>8.87581066812</td><td>Unknown</td><td>25</td><td>Single</td><td>40</td></tr><tr><td>7.56846945446</td><td>Unknown</td><td>22</td><td>Single</td><td>46</td></tr></table></div>\n",
       "    <br />(rows: 25, time: 1.3s,     6GB processed, job: job_5TkgHaZO5Uvdkpx9Hud2K_sGqwCy)<br />\n",
       "    <script src=\"/static/components/requirejs/require.js\"></script>\n",
       "    <script>\n",
       "      require.config({\n",
       "        paths: {\n",
       "          base: '/static/base',\n",
       "          d3: '//cdnjs.cloudflare.com/ajax/libs/d3/3.4.13/d3',\n",
       "          plotly: 'https://cdn.plot.ly/plotly-1.5.1.min.js?noext',\n",
       "          jquery: '//ajax.googleapis.com/ajax/libs/jquery/2.0.0/jquery.min'\n",
       "        },\n",
       "        map: {\n",
       "          '*': {\n",
       "            datalab: 'nbextensions/gcpdatalab'\n",
       "          }\n",
       "        },\n",
       "        shim: {\n",
       "          plotly: {\n",
       "            deps: ['d3', 'jquery'],\n",
       "            exports: 'plotly'\n",
       "          }\n",
       "        }\n",
       "      });\n",
       "\n",
       "      require(['datalab/charting', 'datalab/element!8_154332654890', 'base/js/events',\n",
       "          'datalab/style!/nbextensions/gcpdatalab/charting.css'],\n",
       "        function(charts, dom, events) {\n",
       "          charts.render('gcharts', dom, events, 'table', [], {\"rows\": [{\"c\": [{\"v\": 3.62439958728}, {\"v\": \"Unknown\"}, {\"v\": \"26\"}, {\"v\": \"Single\"}, {\"v\": \"25\"}]}, {\"c\": [{\"v\": 4.46877005074}, {\"v\": \"Unknown\"}, {\"v\": \"24\"}, {\"v\": \"Single\"}, {\"v\": \"33\"}]}, {\"c\": [{\"v\": 4.2108292041999995}, {\"v\": \"Unknown\"}, {\"v\": \"23\"}, {\"v\": \"Single\"}, {\"v\": \"33\"}]}, {\"c\": [{\"v\": 8.313631900019999}, {\"v\": \"Unknown\"}, {\"v\": \"23\"}, {\"v\": \"Single\"}, {\"v\": \"35\"}]}, {\"c\": [{\"v\": 7.0592016292399995}, {\"v\": \"Unknown\"}, {\"v\": \"24\"}, {\"v\": \"Single\"}, {\"v\": \"35\"}]}, {\"c\": [{\"v\": 6.0627122049999995}, {\"v\": \"Unknown\"}, {\"v\": \"28\"}, {\"v\": \"Single\"}, {\"v\": \"36\"}]}, {\"c\": [{\"v\": 9.81277528162}, {\"v\": \"Unknown\"}, {\"v\": \"27\"}, {\"v\": \"Single\"}, {\"v\": \"38\"}]}, {\"c\": [{\"v\": 6.56316153974}, {\"v\": \"Unknown\"}, {\"v\": \"29\"}, {\"v\": \"Single\"}, {\"v\": \"39\"}]}, {\"c\": [{\"v\": 7.25100379718}, {\"v\": \"Unknown\"}, {\"v\": \"LOW\"}, {\"v\": \"Single\"}, {\"v\": \"39\"}]}, {\"c\": [{\"v\": 7.5618555866}, {\"v\": \"Unknown\"}, {\"v\": \"27\"}, {\"v\": \"Single\"}, {\"v\": \"39\"}]}, {\"c\": [{\"v\": 6.0075966395}, {\"v\": \"Unknown\"}, {\"v\": \"27\"}, {\"v\": \"Single\"}, {\"v\": \"39\"}]}, {\"c\": [{\"v\": 7.87491199864}, {\"v\": \"Unknown\"}, {\"v\": \"36\"}, {\"v\": \"Single\"}, {\"v\": \"39\"}]}, {\"c\": [{\"v\": 8.80085349904}, {\"v\": \"Unknown\"}, {\"v\": \"25\"}, {\"v\": \"Single\"}, {\"v\": \"39\"}]}, {\"c\": [{\"v\": 8.062304921339999}, {\"v\": \"Unknown\"}, {\"v\": \"25\"}, {\"v\": \"Single\"}, {\"v\": \"39\"}]}, {\"c\": [{\"v\": 9.25059651352}, {\"v\": \"Unknown\"}, {\"v\": \"32\"}, {\"v\": \"Single\"}, {\"v\": \"39\"}]}, {\"c\": [{\"v\": 7.43839671988}, {\"v\": \"Unknown\"}, {\"v\": \"30\"}, {\"v\": \"Single\"}, {\"v\": \"39\"}]}, {\"c\": [{\"v\": 8.000575487979999}, {\"v\": \"Unknown\"}, {\"v\": \"27\"}, {\"v\": \"Single\"}, {\"v\": \"40\"}]}, {\"c\": [{\"v\": 7.12534030784}, {\"v\": \"Unknown\"}, {\"v\": \"34\"}, {\"v\": \"Single\"}, {\"v\": \"40\"}]}, {\"c\": [{\"v\": 8.062304921339999}, {\"v\": \"Unknown\"}, {\"v\": \"LOW\"}, {\"v\": \"Single\"}, {\"v\": \"40\"}]}, {\"c\": [{\"v\": 7.12534030784}, {\"v\": \"Unknown\"}, {\"v\": \"20\"}, {\"v\": \"Single\"}, {\"v\": \"40\"}]}, {\"c\": [{\"v\": 8.12623897732}, {\"v\": \"Unknown\"}, {\"v\": \"32\"}, {\"v\": \"Single\"}, {\"v\": \"40\"}]}, {\"c\": [{\"v\": 8.375361333379999}, {\"v\": \"Unknown\"}, {\"v\": \"20\"}, {\"v\": \"Single\"}, {\"v\": \"40\"}]}, {\"c\": [{\"v\": 8.24969784404}, {\"v\": \"Unknown\"}, {\"v\": \"30\"}, {\"v\": \"Single\"}, {\"v\": \"40\"}]}, {\"c\": [{\"v\": 8.87581066812}, {\"v\": \"Unknown\"}, {\"v\": \"25\"}, {\"v\": \"Single\"}, {\"v\": \"40\"}]}, {\"c\": [{\"v\": 7.56846945446}, {\"v\": \"Unknown\"}, {\"v\": \"22\"}, {\"v\": \"Single\"}, {\"v\": \"46\"}]}], \"cols\": [{\"id\": \"weight_pounds\", \"label\": \"weight_pounds\", \"type\": \"number\"}, {\"id\": \"is_male\", \"label\": \"is_male\", \"type\": \"string\"}, {\"id\": \"mother_age\", \"label\": \"mother_age\", \"type\": \"string\"}, {\"id\": \"plurality\", \"label\": \"plurality\", \"type\": \"string\"}, {\"id\": \"gestation_weeks\", \"label\": \"gestation_weeks\", \"type\": \"string\"}]},\n",
       "            {\n",
       "              pageSize: 25,\n",
       "              cssClassNames:  {\n",
       "                tableRow: 'gchart-table-row',\n",
       "                headerRow: 'gchart-table-headerrow',\n",
       "                oddTableRow: 'gchart-table-oddrow',\n",
       "                selectedTableRow: 'gchart-table-selectedrow',\n",
       "                hoverTableRow: 'gchart-table-hoverrow',\n",
       "                tableCell: 'gchart-table-cell',\n",
       "                headerCell: 'gchart-table-headercell',\n",
       "                rowNumberCell: 'gchart-table-rownumcell'\n",
       "              }\n",
       "            },\n",
       "            {source_index: 6, fields: 'weight_pounds,is_male,mother_age,plurality,gestation_weeks'},\n",
       "            0,\n",
       "            25);\n",
       "        }\n",
       "      );\n",
       "    </script>\n",
       "  "
      ],
      "text/plain": [
       "QueryResultsTable job_5TkgHaZO5Uvdkpx9Hud2K_sGqwCy"
      ]
     },
     "execution_count": 31,
     "metadata": {},
     "output_type": "execute_result"
    }
   ],
   "source": [
    "%%bq query\n",
    "WITH with_ultrasound AS (\n",
    "  SELECT\n",
    "    weight_pounds,\n",
    "    CAST(is_male AS STRING) AS is_male,\n",
    "    IF(mother_age < 18, 'LOW',\n",
    "         IF(mother_age > 45, 'HIGH',\n",
    "            CAST(mother_age AS STRING))) AS mother_age,\n",
    "    CAST(plurality AS STRING) AS plurality,\n",
    "    CAST(gestation_weeks AS STRING) AS gestation_weeks,\n",
    "    ABS(FARM_FINGERPRINT(CONCAT(CAST(YEAR AS STRING), CAST(month AS STRING)))) AS hashmonth\n",
    "  FROM\n",
    "    publicdata.samples.natality\n",
    "  WHERE\n",
    "    year > 2000\n",
    "    AND gestation_weeks > 0\n",
    "    AND mother_age > 0\n",
    "    AND plurality > 0\n",
    "    AND weight_pounds > 0\n",
    "),\n",
    "\n",
    "without_ultrasound AS (\n",
    "  SELECT\n",
    "    weight_pounds,\n",
    "    'Unknown' AS is_male,\n",
    "    IF(mother_age < 18, 'LOW',\n",
    "         IF(mother_age > 45, 'HIGH',\n",
    "            CAST(mother_age AS STRING))) AS mother_age,\n",
    "    IF(plurality > 1, 'Multiple', 'Single') AS plurality,\n",
    "    CAST(gestation_weeks AS STRING) AS gestation_weeks,\n",
    "    ABS(FARM_FINGERPRINT(CONCAT(CAST(YEAR AS STRING), CAST(month AS STRING)))) AS hashmonth\n",
    "  FROM\n",
    "    publicdata.samples.natality\n",
    "  WHERE\n",
    "    year > 2000\n",
    "    AND gestation_weeks > 0\n",
    "    AND mother_age > 0\n",
    "    AND plurality > 0\n",
    "    AND weight_pounds > 0\n",
    "),\n",
    "\n",
    "preprocessed AS (\n",
    "  SELECT * from with_ultrasound\n",
    "  UNION ALL\n",
    "  SELECT * from without_ultrasound\n",
    ")\n",
    "\n",
    "SELECT\n",
    "    weight_pounds,\n",
    "    is_male,\n",
    "    mother_age,\n",
    "    plurality,\n",
    "    gestation_weeks\n",
    "FROM\n",
    "    preprocessed\n",
    "WHERE\n",
    "  MOD(hashmonth, 4) < 3\n",
    "LIMIT 25"
   ]
  },
  {
   "cell_type": "markdown",
   "metadata": {
    "colab_type": "text",
    "id": "hNnZxDw9D5bN"
   },
   "source": [
    "## Create a new model\n",
    "\n",
    "With a data set which has been feature engineered, it is ready to create model with the `CREATE or REPLACE MODEL` statement\n",
    "\n",
    "This will take **5-10 minutes** and will show **Done** when complete."
   ]
  },
  {
   "cell_type": "code",
   "execution_count": 32,
   "metadata": {
    "colab": {
     "autoexec": {
      "startup": false,
      "wait_interval": 0
     }
    },
    "colab_type": "code",
    "id": "aKPqXqicD5bP"
   },
   "outputs": [
    {
     "data": {
      "text/html": [
       "Done"
      ],
      "text/plain": [
       "QueryResultsTable job_UUXwBQrhMcpCAOaQ-399GxwAWjhV"
      ]
     },
     "execution_count": 32,
     "metadata": {},
     "output_type": "execute_result"
    }
   ],
   "source": [
    "%%bq query\n",
    "CREATE or REPLACE MODEL demo.babyweight_model_fc\n",
    "OPTIONS\n",
    "  (model_type='linear_reg', labels=['weight_pounds']) AS\n",
    "  \n",
    "WITH with_ultrasound AS (\n",
    "  SELECT\n",
    "    weight_pounds,\n",
    "    CAST(is_male AS STRING) AS is_male,\n",
    "    IF(mother_age < 18, 'LOW',\n",
    "         IF(mother_age > 45, 'HIGH',\n",
    "            CAST(mother_age AS STRING))) AS mother_age,\n",
    "    CAST(plurality AS STRING) AS plurality,\n",
    "    CAST(gestation_weeks AS STRING) AS gestation_weeks,\n",
    "    ABS(FARM_FINGERPRINT(CONCAT(CAST(YEAR AS STRING), CAST(month AS STRING)))) AS hashmonth\n",
    "  FROM\n",
    "    publicdata.samples.natality\n",
    "  WHERE\n",
    "    year > 2000\n",
    "    AND gestation_weeks > 0\n",
    "    AND mother_age > 0\n",
    "    AND plurality > 0\n",
    "    AND weight_pounds > 0\n",
    "),\n",
    "\n",
    "without_ultrasound AS (\n",
    "  SELECT\n",
    "    weight_pounds,\n",
    "    'Unknown' AS is_male,\n",
    "    IF(mother_age < 18, 'LOW',\n",
    "         IF(mother_age > 45, 'HIGH',\n",
    "            CAST(mother_age AS STRING))) AS mother_age,\n",
    "    IF(plurality > 1, 'Multiple', 'Single') AS plurality,\n",
    "    CAST(gestation_weeks AS STRING) AS gestation_weeks,\n",
    "    ABS(FARM_FINGERPRINT(CONCAT(CAST(YEAR AS STRING), CAST(month AS STRING)))) AS hashmonth\n",
    "  FROM\n",
    "    publicdata.samples.natality\n",
    "  WHERE\n",
    "    year > 2000\n",
    "    AND gestation_weeks > 0\n",
    "    AND mother_age > 0\n",
    "    AND plurality > 0\n",
    "    AND weight_pounds > 0\n",
    "),\n",
    "\n",
    "preprocessed AS (\n",
    "  SELECT * from with_ultrasound\n",
    "  UNION ALL\n",
    "  SELECT * from without_ultrasound\n",
    ")\n",
    "\n",
    "SELECT\n",
    "    weight_pounds,\n",
    "    is_male,\n",
    "    mother_age,\n",
    "    plurality,\n",
    "    gestation_weeks\n",
    "FROM\n",
    "    preprocessed\n",
    "WHERE\n",
    "  MOD(hashmonth, 4) < 3"
   ]
  },
  {
   "cell_type": "markdown",
   "metadata": {
    "colab_type": "text",
    "id": "kQw9y9pGD5bQ"
   },
   "source": [
    "## Training Statistics\n",
    "\n",
    "While the new model is training, review the training statistics in the BigQuery UI to see the below model training: https://bigquery.cloud.google.com/\n",
    "\n",
    "The training details may also be viewed after the training completes from this notebook."
   ]
  },
  {
   "cell_type": "code",
   "execution_count": 33,
   "metadata": {
    "colab": {
     "autoexec": {
      "startup": false,
      "wait_interval": 0
     }
    },
    "colab_type": "code",
    "id": "0Tl-hmIxD5bR",
    "outputId": "cc6a30e4-0001-4337-b4fa-96b0503b1f31"
   },
   "outputs": [
    {
     "name": "stderr",
     "output_type": "stream",
     "text": [
      "/usr/local/envs/py3env/lib/python3.5/site-packages/matplotlib/font_manager.py:1320: UserWarning: findfont: Font family ['sans-serif'] not found. Falling back to DejaVu Sans\n",
      "  (prop.get_family(), self.defaultFamily[fontext]))\n"
     ]
    },
    {
     "data": {
      "image/png": "[encoded data removed]",
      "text/plain": [
       "<matplotlib.figure.Figure at 0x7f24f5844518>"
      ]
     },
     "metadata": {},
     "output_type": "display_data"
    }
   ],
   "source": [
    "import google.datalab.bigquery as bq\n",
    "df = bq.Query(\"SELECT * FROM ML.TRAINING_INFO(MODEL demo.babyweight_model_fc)\").execute().result().to_dataframe()\n",
    "# plot both lines in same graph\n",
    "import matplotlib.pyplot as plt\n",
    "plt.plot( 'iteration', 'loss', data=df, marker='o', color='orange', linewidth=2)\n",
    "plt.plot( 'iteration', 'eval_loss', data=df, marker='', color='green', linewidth=2, linestyle='dashed')\n",
    "plt.xlabel('iteration')\n",
    "plt.ylabel('loss')\n",
    "plt.legend();"
   ]
  },
  {
   "cell_type": "markdown",
   "metadata": {
    "colab_type": "text",
    "id": "1jlHzJqfD5bU"
   },
   "source": [
    "## Make a prediction with the new model\n",
    "\n"
   ]
  },
  {
   "cell_type": "markdown",
   "metadata": {
    "colab_type": "text",
    "id": "EGo8fj9qD5bU"
   },
   "source": [
    "Perhaps it is of interest to make a prediction of the baby's weight given a number of other factors: Male, Mother is 28 years old, Mother will only have one child, and the baby was born after 38 weeks of pregnancy.\n",
    "\n",
    "To make this prediction, these values will be passed into the SELECT statement."
   ]
  },
  {
   "cell_type": "code",
   "execution_count": 34,
   "metadata": {
    "colab": {
     "autoexec": {
      "startup": false,
      "wait_interval": 0
     }
    },
    "colab_type": "code",
    "id": "OTLYWJOSD5bV",
    "outputId": "83fe56d1-ddcb-4ca4-86bc-8a1ffa3d9c33"
   },
   "outputs": [
    {
     "data": {
      "text/html": [
       "\n",
       "    <div class=\"bqtv\" id=\"9_154332754605\"><table><tr><th>predicted_weight_pounds</th><th>is_male</th><th>mother_age</th><th>plurality</th><th>gestation_weeks</th></tr><tr><td>5.856195578319181</td><td>True</td><td>28</td><td>1</td><td>38</td></tr></table></div>\n",
       "    <br />(rows: 1, time: 1.0s,     2KB processed, job: job_LI41CeRl4P145AdJ7tF11-7LH2nc)<br />\n",
       "    <script src=\"/static/components/requirejs/require.js\"></script>\n",
       "    <script>\n",
       "      require.config({\n",
       "        paths: {\n",
       "          base: '/static/base',\n",
       "          d3: '//cdnjs.cloudflare.com/ajax/libs/d3/3.4.13/d3',\n",
       "          plotly: 'https://cdn.plot.ly/plotly-1.5.1.min.js?noext',\n",
       "          jquery: '//ajax.googleapis.com/ajax/libs/jquery/2.0.0/jquery.min'\n",
       "        },\n",
       "        map: {\n",
       "          '*': {\n",
       "            datalab: 'nbextensions/gcpdatalab'\n",
       "          }\n",
       "        },\n",
       "        shim: {\n",
       "          plotly: {\n",
       "            deps: ['d3', 'jquery'],\n",
       "            exports: 'plotly'\n",
       "          }\n",
       "        }\n",
       "      });\n",
       "\n",
       "      require(['datalab/charting', 'datalab/element!9_154332754605', 'base/js/events',\n",
       "          'datalab/style!/nbextensions/gcpdatalab/charting.css'],\n",
       "        function(charts, dom, events) {\n",
       "          charts.render('gcharts', dom, events, 'table', [], {\"rows\": [{\"c\": [{\"v\": 5.856195578319181}, {\"v\": \"True\"}, {\"v\": \"28\"}, {\"v\": \"1\"}, {\"v\": \"38\"}]}], \"cols\": [{\"id\": \"predicted_weight_pounds\", \"label\": \"predicted_weight_pounds\", \"type\": \"number\"}, {\"id\": \"is_male\", \"label\": \"is_male\", \"type\": \"string\"}, {\"id\": \"mother_age\", \"label\": \"mother_age\", \"type\": \"string\"}, {\"id\": \"plurality\", \"label\": \"plurality\", \"type\": \"string\"}, {\"id\": \"gestation_weeks\", \"label\": \"gestation_weeks\", \"type\": \"string\"}]},\n",
       "            {\n",
       "              pageSize: 25,\n",
       "              cssClassNames:  {\n",
       "                tableRow: 'gchart-table-row',\n",
       "                headerRow: 'gchart-table-headerrow',\n",
       "                oddTableRow: 'gchart-table-oddrow',\n",
       "                selectedTableRow: 'gchart-table-selectedrow',\n",
       "                hoverTableRow: 'gchart-table-hoverrow',\n",
       "                tableCell: 'gchart-table-cell',\n",
       "                headerCell: 'gchart-table-headercell',\n",
       "                rowNumberCell: 'gchart-table-rownumcell'\n",
       "              }\n",
       "            },\n",
       "            {source_index: 7, fields: 'predicted_weight_pounds,is_male,mother_age,plurality,gestation_weeks'},\n",
       "            0,\n",
       "            1);\n",
       "        }\n",
       "      );\n",
       "    </script>\n",
       "  "
      ],
      "text/plain": [
       "QueryResultsTable job_LI41CeRl4P145AdJ7tF11-7LH2nc"
      ]
     },
     "execution_count": 34,
     "metadata": {},
     "output_type": "execute_result"
    }
   ],
   "source": [
    "%%bq query\n",
    "SELECT\n",
    "  *\n",
    "FROM\n",
    "  ml.PREDICT(MODEL demo.babyweight_model_fc,\n",
    "      (SELECT\n",
    "          'True' AS is_male,\n",
    "          '28' AS mother_age,\n",
    "          '1' AS plurality,\n",
    "          '38' AS gestation_weeks\n",
    "    ))"
   ]
  },
  {
   "cell_type": "markdown",
   "metadata": {},
   "source": [
    "## Not Tested:"
   ]
  },
  {
   "cell_type": "code",
   "execution_count": null,
   "metadata": {},
   "outputs": [],
   "source": [
    "%%bq query\n",
    "select\n",
    "  roc_auc,\n",
    "  accuracy,\n",
    "  precision,\n",
    "  recall\n",
    "from \n",
    "  ml.EVALUATE(MODEL demo.babyweight_model_fc, \n",
    "              (\n",
    "                -- select features from test_data \n",
    "                -- (SQL-Query with test data)\n",
    "              ))"
   ]
  },
  {
   "cell_type": "markdown",
   "metadata": {
    "colab_type": "text",
    "id": "PK_-WNGUD5bX"
   },
   "source": [
    "<br>\n",
    "<br>\n",
    "<br>\n",
    "<br>\n",
    "Copyright 2018 Google Inc. Licensed under the Apache License, Version 2.0 (the \"License\"); you may not use this file except in compliance with the License. You may obtain a copy of the License at http://www.apache.org/licenses/LICENSE-2.0 Unless required by applicable law or agreed to in writing, software distributed under the License is distributed on an \"AS IS\" BASIS, WITHOUT WARRANTIES OR CONDITIONS OF ANY KIND, either express or implied. See the License for the specific language governing permissions and limitations under the License"
   ]
  },
  {
   "cell_type": "code",
   "execution_count": null,
   "metadata": {},
   "outputs": [],
   "source": []
  }
 ],
 "metadata": {
  "colab": {
   "default_view": {},
   "name": "babyweight_bqml.ipynb",
   "provenance": [],
   "version": "0.3.2",
   "views": {}
  },
  "kernelspec": {
   "display_name": "Python 3",
   "language": "python",
   "name": "python3"
  },
  "language_info": {
   "codemirror_mode": {
    "name": "ipython",
    "version": 3
   },
   "file_extension": ".py",
   "mimetype": "text/x-python",
   "name": "python",
   "nbconvert_exporter": "python",
   "pygments_lexer": "ipython3",
   "version": "3.5.5"
  }
 },
 "nbformat": 4,
 "nbformat_minor": 1
}
