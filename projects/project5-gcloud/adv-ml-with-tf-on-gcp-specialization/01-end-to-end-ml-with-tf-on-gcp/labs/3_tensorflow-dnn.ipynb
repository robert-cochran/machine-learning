{
 "cells": [
  {
   "cell_type": "markdown",
   "metadata": {},
   "source": [
    "<h1> Create TensorFlow model </h1>\n",
    "\n",
    "This notebook illustrates:\n",
    "<ol>\n",
    "<li> Creating a model using the high-level Estimator API \n",
    "</ol>"
   ]
  },
  {
   "cell_type": "code",
   "execution_count": 18,
   "metadata": {},
   "outputs": [
    {
     "name": "stdout",
     "output_type": "stream",
     "text": [
      "qwiklabs-gcp-66dff79c51c6ef7e\n",
      "inna-bckt-66dff79c51c6ef7e\n"
     ]
    }
   ],
   "source": [
    "import os\n",
    "output = os.popen(\"gcloud config get-value project\").readlines()\n",
    "project_name = output[0][:-1]\n",
    "\n",
    "# change these to try this notebook out\n",
    "PROJECT = project_name\n",
    "BUCKET = project_name\n",
    "BUCKET = BUCKET.replace(\"qwiklabs-gcp-\", \"inna-bckt-\")\n",
    "REGION = 'eu-west3'\n",
    "\n",
    "print(PROJECT)\n",
    "print(BUCKET)"
   ]
  },
  {
   "cell_type": "code",
   "execution_count": 19,
   "metadata": {},
   "outputs": [],
   "source": [
    "import os\n",
    "os.environ['BUCKET'] = BUCKET\n",
    "os.environ['PROJECT'] = PROJECT\n",
    "os.environ['REGION'] = REGION"
   ]
  },
  {
   "cell_type": "code",
   "execution_count": 20,
   "metadata": {},
   "outputs": [],
   "source": [
    "%%bash\n",
    "if ! gsutil ls | grep -q gs://${BUCKET}/; then\n",
    "  gsutil mb -l ${REGION} gs://${BUCKET}\n",
    "fi"
   ]
  },
  {
   "cell_type": "code",
   "execution_count": 21,
   "metadata": {},
   "outputs": [],
   "source": [
    "import shutil\n",
    "import numpy as np\n",
    "import tensorflow as tf\n",
    "\n",
    "## enable eager execution (mostly to see mistakes right away):\n",
    "## TURN OFF FOR BETTER PERFORMANCE. \n",
    "## also doesn't work for estimator API.\n",
    "# tf.enable_eager_execution()"
   ]
  },
  {
   "cell_type": "markdown",
   "metadata": {},
   "source": [
    "### Helper Code Snippets"
   ]
  },
  {
   "cell_type": "code",
   "execution_count": 22,
   "metadata": {},
   "outputs": [
    {
     "name": "stdout",
     "output_type": "stream",
     "text": [
      "eval.csv  train.csv\n",
      "6.0009827716399995,False,14,Single(1),40.0,4740473290291881219\n",
      "7.3744626639,False,17,Single(1),42.0,4740473290291881219\n",
      "cat: write error: Broken pipe\n"
     ]
    }
   ],
   "source": [
    "## [[todo]]\n",
    "## see also `lab-snippets.py`\n",
    "%pwd\n",
    "%ls *.csv\n",
    "%cat train.csv | head -n 2"
   ]
  },
  {
   "cell_type": "code",
   "execution_count": null,
   "metadata": {},
   "outputs": [],
   "source": []
  },
  {
   "cell_type": "markdown",
   "metadata": {},
   "source": [
    "<h2> Create TensorFlow model using TensorFlow's Estimator API </h2>\n",
    "<p>\n",
    "First, write an input_fn to read the data.\n",
    "<p>\n",
    "\n",
    "## Lab Task 1\n",
    "Verify that the headers match your CSV output"
   ]
  },
  {
   "cell_type": "code",
   "execution_count": 23,
   "metadata": {},
   "outputs": [],
   "source": [
    "import shutil\n",
    "import numpy as np\n",
    "import tensorflow as tf"
   ]
  },
  {
   "cell_type": "code",
   "execution_count": 24,
   "metadata": {},
   "outputs": [],
   "source": [
    "# Determine CSV, label, and key columns\n",
    "CSV_COLUMNS = 'weight_pounds,is_male,mother_age,plurality,gestation_weeks,key'.split(',')\n",
    "LABEL_COLUMN = 'weight_pounds'\n",
    "KEY_COLUMN = 'key'\n",
    "\n",
    "# Set default values for each CSV column\n",
    "DEFAULTS = [[0.0], ['null'], [0.0], ['null'], [0.0], ['nokey']]\n",
    "TRAIN_STEPS = 1000"
   ]
  },
  {
   "cell_type": "markdown",
   "metadata": {},
   "source": [
    "## Lab Task 2\n",
    "\n",
    "Fill out the details of the input function below"
   ]
  },
  {
   "cell_type": "code",
   "execution_count": 26,
   "metadata": {},
   "outputs": [
    {
     "name": "stdout",
     "output_type": "stream",
     "text": [
      "[<tf.Tensor 'DecodeCSV:0' shape=() dtype=float32>, <tf.Tensor 'DecodeCSV:1' shape=() dtype=string>, <tf.Tensor 'DecodeCSV:2' shape=() dtype=float32>, <tf.Tensor 'DecodeCSV:3' shape=() dtype=string>, <tf.Tensor 'DecodeCSV:4' shape=() dtype=float32>, <tf.Tensor 'DecodeCSV:5' shape=() dtype=string>]\n",
      "\n",
      "{'gestation_weeks': <tf.Tensor 'DecodeCSV:4' shape=() dtype=float32>, 'is_male': <tf.Tensor 'DecodeCSV:1' shape=() dtype=string>, 'key': <tf.Tensor 'DecodeCSV:5' shape=() dtype=string>, 'mother_age': <tf.Tensor 'DecodeCSV:2' shape=() dtype=float32>, 'plurality': <tf.Tensor 'DecodeCSV:3' shape=() dtype=string>}\n",
      "Tensor(\"DecodeCSV:0\", shape=(), dtype=float32)\n",
      "\n"
     ]
    }
   ],
   "source": [
    "## stuff to try out some of the code below:\n",
    "line_of_text = '5.43659938092,True,12,Single(1),39.0,1451354159195218418'\n",
    "parsed_line = tf.decode_csv(line_of_text, record_defaults = DEFAULTS, field_delim = ',')\n",
    "print(parsed_line)\n",
    "print()\n",
    "\n",
    "features = dict(zip(CSV_COLUMNS, parsed_line))\n",
    "label = features.pop(LABEL_COLUMN)\n",
    "print(features)\n",
    "print(label)\n",
    "print()\n",
    "\n",
    "def change_indent():\n",
    "  \"\"\"\n",
    "  ```javascript\n",
    "var cell = Jupyter.notebook.get_selected_cell();\n",
    "var config = cell.config;\n",
    "var patch = {\n",
    "      CodeCell:{\n",
    "        cm_config:{indentUnit:2}\n",
    "      }\n",
    "    }\n",
    "config.update(patch)\n",
    "  ```\n",
    "  ou can enter the previous snippet in your browser’s \n",
    "  JavaScript console once. Then reload the notebook page \n",
    "  in your browser. Now, the preferred indent unit should \n",
    "  be equal to two spaces. The custom setting persists and \n",
    "  you do not need to reissue the patch on new notebooks.\n",
    "  \"\"\"\n",
    "  return 1;\n",
    "  "
   ]
  },
  {
   "cell_type": "code",
   "execution_count": 27,
   "metadata": {},
   "outputs": [],
   "source": [
    "# Create an input function reading a file using the Dataset API\n",
    "# Then provide the results to the Estimator API\n",
    "def read_dataset(filename_pattern, mode, batch_size = 512):\n",
    "  def _input_fn():\n",
    "    tf.logging.info('Defining input function.')\n",
    "    def decode_csv(line_of_text):\n",
    "      #tf.logging.info('Parsing line {}'.format(line_of_text))\n",
    "      # TODO #1: Use tf.decode_csv to parse the provided line\n",
    "      parsed_line = tf.decode_csv(line_of_text, record_defaults = DEFAULTS, field_delim = ',')\n",
    "      # TODO #2: Make a Python dict.  The keys are the column names, the values are from the parsed data\n",
    "      features = dict(zip(CSV_COLUMNS, parsed_line))\n",
    "      # TODO #3: Return a tuple of features, label where features is a Python dict and label a float\n",
    "      label = features.pop(LABEL_COLUMN)\n",
    "      return features, label\n",
    "\n",
    "    # TODO #4: Use tf.gfile.Glob to create list of files that match pattern\n",
    "    file_list = tf.gfile.Glob(filename_pattern)\n",
    "    # Create dataset from file list\n",
    "    dataset = (tf.data.TextLineDataset(file_list)  # Read text file\n",
    "             .map(decode_csv))  # Transform each elem by applying decode_csv fn\n",
    "    # TODO #5: In training mode, shuffle the dataset and repeat indefinitely\n",
    "    #                (Look at the API for tf.data.dataset shuffle)\n",
    "    #          The mode input variable will be tf.estimator.ModeKeys.TRAIN if in training mode\n",
    "    #          Tell the dataset to provide data in batches of batch_size \n",
    "    if (mode == tf.estimator.ModeKeys.TRAIN):\n",
    "      num_epochs = None  ## train indefinitely\n",
    "      dataset = dataset.shuffle(buffer_size = 10 * batch_size)\n",
    "    else:\n",
    "      num_epochs = 1\n",
    "    \n",
    "    dataset = dataset.repeat(num_epochs).batch(batch_size)\n",
    "    # This will now return batches of features, label\n",
    "    # * features = dictionary of {<featurename> : <tensor>}\n",
    "    # * label = <tensor> of one or more labels\n",
    "    return dataset\n",
    "  return _input_fn"
   ]
  },
  {
   "cell_type": "markdown",
   "metadata": {},
   "source": [
    "## Lab Task 3\n",
    "\n",
    "Use the TensorFlow feature column API to define appropriate feature columns for your raw features that come from the CSV.\n",
    "\n",
    "<b> Bonus: </b> Separate your columns into wide columns (categorical, discrete, etc.) and deep columns (numeric, embedding, etc.)"
   ]
  },
  {
   "cell_type": "code",
   "execution_count": 38,
   "metadata": {},
   "outputs": [],
   "source": [
    "## define feature columns: wide-deep-model:\n",
    "\n",
    "def get_wide_deep_features():\n",
    "  tf.logging.info('Getting feature columns.')\n",
    "  ## define column types:\n",
    "  is_male = tf.feature_column.categorical_column_with_vocabulary_list(\n",
    "    'is_male',\n",
    "    ['True', 'False', 'Unknown'])\n",
    "  mother_age = tf.feature_column.numeric_column('mother_age')\n",
    "  plurality = tf.feature_column.categorical_column_with_vocabulary_list(\n",
    "    'plurality',\n",
    "    ['Single(1)', 'Twins(2)', 'Triplets(3)', 'Quadruplets(4)', \n",
    "     'Quintuplets(5), Multiple(2+)'])\n",
    "  gestation_weeks = tf.feature_column.numeric_column('gestation_weeks')\n",
    "  \n",
    "  ## feature transformations:\n",
    "  \n",
    "  ## bucketize mother_age:\n",
    "  age_buckets = tf.feature_column.bucketized_column(\n",
    "    mother_age,   ## input: tf.feature_column variable\n",
    "    boundaries = np.arange(15, 45, 1).tolist())\n",
    "  gestation_buckets = tf.feature_column.bucketized_column(\n",
    "    gestation_weeks,\n",
    "    boundaries = np.arange(17, 47, 1).tolist())\n",
    "  \n",
    "  ## define list of \"wide columns\", i.e., categorical variables\n",
    "  ## (linear relationships):\n",
    "  wide = [is_male,\n",
    "         plurality,\n",
    "         age_buckets,\n",
    "         gestation_buckets]\n",
    "  \n",
    "  ## feature cross all the wide columns [[?]]\n",
    "  ## and embed into a lower dimension:\n",
    "  crossed = tf.feature_column.crossed_column(wide, hash_bucket_size = 20000)\n",
    "  embed = tf.feature_column.embedding_column(crossed, 3)\n",
    "  \n",
    "  ## define list of continuous columns (plus embeded columns);\n",
    "  ## they have a \"deep\", complex relationship with the output:\n",
    "  deep = [mother_age,\n",
    "         gestation_weeks,\n",
    "         embed]\n",
    "  \n",
    "  return wide, deep\n",
    "\n",
    "## define feature columns: DNN-model: \n",
    "def get_features_dnn():\n",
    "  tf.logging.info('Getting feature columns (DNN).')\n",
    "  ## define column types:\n",
    "  is_male = tf.feature_column.indicator_column(\n",
    "    tf.feature_column.categorical_column_with_vocabulary_list(\n",
    "    'is_male', ['True', 'False', 'Unknown']))\n",
    "  mother_age = tf.feature_column.numeric_column('mother_age')\n",
    "  plurality = tf.feature_column.indicator_column(\n",
    "    tf.feature_column.categorical_column_with_vocabulary_list(\n",
    "    'plurality',\n",
    "    ['Single(1)', 'Twins(2)', 'Triplets(3)', 'Quadruplets(4)', \n",
    "     'Quintuplets(5), Multiple(2+)']))\n",
    "  gestation_weeks = tf.feature_column.numeric_column('gestation_weeks')\n",
    "  ## don't do any bucketing here, just return feature list:\n",
    "  features = [\\\n",
    "             is_male,\n",
    "             mother_age,\n",
    "             plurality,\n",
    "             gestation_weeks]\n",
    "  return features"
   ]
  },
  {
   "cell_type": "markdown",
   "metadata": {},
   "source": [
    "## Lab Task 4\n",
    "\n",
    "To predict with the TensorFlow model, we also need a serving input function (we'll use this in a later lab). We will want all the inputs from our user.\n",
    "\n",
    "Verify and change the column names and types here as appropriate. These should match your CSV_COLUMNS"
   ]
  },
  {
   "cell_type": "code",
   "execution_count": 39,
   "metadata": {},
   "outputs": [],
   "source": [
    "# Create serving input function to be able to serve predictions later using provided inputs\n",
    "def serving_input_fn():\n",
    "  tf.logging.info('Serving input (function).')\n",
    "  feature_placeholders = {\n",
    "    'is_male': tf.placeholder(tf.string, [None]),\n",
    "    'mother_age': tf.placeholder(tf.float32, [None]),\n",
    "    'plurality': tf.placeholder(tf.string, [None]),\n",
    "    'gestation_weeks': tf.placeholder(tf.float32, [None])\n",
    "  }\n",
    "  features = {\n",
    "    key: tf.expand_dims(tensor, -1)\n",
    "    for key, tensor in feature_placeholders.items()\n",
    "  }\n",
    "  input_receiver = tf.estimator.export.ServingInputReceiver(\n",
    "    features, feature_placeholders)\n",
    "  return input_receiver"
   ]
  },
  {
   "cell_type": "markdown",
   "metadata": {},
   "source": [
    "## Lab Task 5\n",
    "\n",
    "Complete the TODOs in this code:"
   ]
  },
  {
   "cell_type": "code",
   "execution_count": 40,
   "metadata": {},
   "outputs": [],
   "source": [
    "# Create estimator to train and evaluate\n",
    "def train_and_evaluate(output_dir):\n",
    "  tf.logging.info('Entering train and evaluate function.')\n",
    "  ## create a run configuration:\n",
    "  EVAL_INTERVAL = 300\n",
    "  run_config = tf.estimator.RunConfig(\n",
    "    save_checkpoints_secs = EVAL_INTERVAL,\n",
    "    keep_checkpoint_max = 3)\n",
    "\n",
    "  ## TODO #1: Create your model estimator:\n",
    "\n",
    "  ## Linear Classifier:\n",
    "  estimator = tf.estimator.LinearRegressor(\n",
    "    model_dir = output_dir,\n",
    "    feature_columns = get_features_dnn(),\n",
    "    config = run_config\n",
    "  )\n",
    "    \n",
    "  ## DNN Classifier:\n",
    "  estimator = tf.estimator.DNNRegressor(\n",
    "    model_dir = output_dir,\n",
    "    feature_columns = get_features_dnn(),\n",
    "    hidden_units = [64, 32],\n",
    "    config = run_config\n",
    "  )\n",
    "\n",
    "  ## Wide-and-Deep-Model:\n",
    "  #wide, deep = get_wide_deep_features()\n",
    "  #estimator = tf.estimator.DNNLinearCombinedRegressor(\n",
    "  #  model_dir = output_dir,\n",
    "  #  linear_feature_columns = wide,\n",
    "  #  dnn_feature_columns = deep,\n",
    "  #  dnn_hidden_units = [64, 32],\n",
    "  #  config = run_config\n",
    "  #)\n",
    "    \n",
    "  ## Training specification:\n",
    "  train_spec = tf.estimator.TrainSpec(\n",
    "                       # TODO #2: Call read_dataset passing in the training CSV file and the appropriate mode\n",
    "                       input_fn = read_dataset(    ## pass the function, not call it\n",
    "                           filename_pattern = 'train.csv',\n",
    "                           mode = tf.estimator.ModeKeys.TRAIN),  \n",
    "                       max_steps = TRAIN_STEPS)\n",
    "  exporter = tf.estimator.LatestExporter('exporter', serving_input_fn)\n",
    "  eval_spec = tf.estimator.EvalSpec(\n",
    "                       # TODO #3: Call read_dataset passing in the evaluation CSV file and the appropriate mode\n",
    "                       input_fn = read_dataset(\n",
    "                           filename_pattern = 'eval.csv',\n",
    "                           mode = tf.estimator.ModeKeys.EVAL),\n",
    "                       steps = None,\n",
    "                       start_delay_secs = 60, # start evaluating after N seconds\n",
    "                       throttle_secs = EVAL_INTERVAL,  # evaluate every N seconds\n",
    "                       exporters = exporter)\n",
    "  tf.estimator.train_and_evaluate(estimator, train_spec, eval_spec)"
   ]
  },
  {
   "cell_type": "markdown",
   "metadata": {},
   "source": [
    "Finally, train!"
   ]
  },
  {
   "cell_type": "code",
   "execution_count": 41,
   "metadata": {},
   "outputs": [
    {
     "name": "stdout",
     "output_type": "stream",
     "text": [
      "INFO:tensorflow:Entering train and evaluate function.\n",
      "INFO:tensorflow:Getting feature columns (DNN).\n",
      "INFO:tensorflow:Using config: {'_task_id': 0, '_session_config': None, '_global_id_in_cluster': 0, '_tf_random_seed': None, '_save_checkpoints_steps': None, '_is_chief': True, '_master': '', '_save_checkpoints_secs': 300, '_save_summary_steps': 100, '_train_distribute': None, '_task_type': 'worker', '_num_ps_replicas': 0, '_evaluation_master': '', '_log_step_count_steps': 100, '_cluster_spec': <tensorflow.python.training.server_lib.ClusterSpec object at 0x7fa7c5109860>, '_model_dir': 'babyweight_trained', '_keep_checkpoint_max': 3, '_keep_checkpoint_every_n_hours': 10000, '_service': None, '_num_worker_replicas': 1}\n",
      "INFO:tensorflow:Getting feature columns (DNN).\n",
      "INFO:tensorflow:Using config: {'_task_id': 0, '_session_config': None, '_global_id_in_cluster': 0, '_tf_random_seed': None, '_save_checkpoints_steps': None, '_is_chief': True, '_master': '', '_save_checkpoints_secs': 300, '_save_summary_steps': 100, '_train_distribute': None, '_task_type': 'worker', '_num_ps_replicas': 0, '_evaluation_master': '', '_log_step_count_steps': 100, '_cluster_spec': <tensorflow.python.training.server_lib.ClusterSpec object at 0x7fa7c5109828>, '_model_dir': 'babyweight_trained', '_keep_checkpoint_max': 3, '_keep_checkpoint_every_n_hours': 10000, '_service': None, '_num_worker_replicas': 1}\n",
      "INFO:tensorflow:Running training and evaluation locally (non-distributed).\n",
      "INFO:tensorflow:Start train and evaluate loop. The evaluate will happen after 300 secs (eval_spec.throttle_secs) or training is finished.\n",
      "INFO:tensorflow:Defining input function.\n",
      "INFO:tensorflow:Calling model_fn.\n",
      "INFO:tensorflow:Done calling model_fn.\n",
      "INFO:tensorflow:Create CheckpointSaverHook.\n",
      "INFO:tensorflow:Graph was finalized.\n",
      "INFO:tensorflow:Running local_init_op.\n",
      "INFO:tensorflow:Done running local_init_op.\n",
      "INFO:tensorflow:Saving checkpoints for 1 into babyweight_trained/model.ckpt.\n",
      "INFO:tensorflow:loss = 1233.0919, step = 1\n",
      "INFO:tensorflow:global_step/sec: 54.1768\n",
      "INFO:tensorflow:loss = 727.9286, step = 101 (1.853 sec)\n",
      "INFO:tensorflow:global_step/sec: 51.7923\n",
      "INFO:tensorflow:loss = 574.8458, step = 201 (1.932 sec)\n",
      "INFO:tensorflow:global_step/sec: 48.686\n",
      "INFO:tensorflow:loss = 594.77747, step = 301 (2.054 sec)\n",
      "INFO:tensorflow:global_step/sec: 47.6533\n",
      "INFO:tensorflow:loss = 662.7755, step = 401 (2.099 sec)\n",
      "INFO:tensorflow:global_step/sec: 47.6156\n",
      "INFO:tensorflow:loss = 596.45935, step = 501 (2.100 sec)\n",
      "INFO:tensorflow:global_step/sec: 47.5811\n",
      "INFO:tensorflow:loss = 581.6173, step = 601 (2.102 sec)\n",
      "INFO:tensorflow:global_step/sec: 47.9727\n",
      "INFO:tensorflow:loss = 550.4794, step = 701 (2.086 sec)\n",
      "INFO:tensorflow:global_step/sec: 50.1495\n",
      "INFO:tensorflow:loss = 611.7527, step = 801 (1.992 sec)\n",
      "INFO:tensorflow:global_step/sec: 55.2749\n",
      "INFO:tensorflow:loss = 619.5649, step = 901 (1.809 sec)\n",
      "INFO:tensorflow:Saving checkpoints for 1000 into babyweight_trained/model.ckpt.\n",
      "INFO:tensorflow:Loss for final step: 586.86176.\n",
      "INFO:tensorflow:Defining input function.\n",
      "INFO:tensorflow:Calling model_fn.\n",
      "INFO:tensorflow:Done calling model_fn.\n",
      "INFO:tensorflow:Starting evaluation at 2018-11-24-20:43:06\n",
      "INFO:tensorflow:Graph was finalized.\n",
      "INFO:tensorflow:Restoring parameters from babyweight_trained/model.ckpt-1000\n",
      "INFO:tensorflow:Running local_init_op.\n",
      "INFO:tensorflow:Done running local_init_op.\n",
      "INFO:tensorflow:Finished evaluation at 2018-11-24-20:43:07\n",
      "INFO:tensorflow:Saving dict for global step 1000: average_loss = 1.1778965, global_step = 1000, loss = 589.6731\n",
      "INFO:tensorflow:Serving input (function).\n",
      "INFO:tensorflow:Calling model_fn.\n",
      "INFO:tensorflow:Done calling model_fn.\n",
      "INFO:tensorflow:Signatures INCLUDED in export for Predict: ['predict']\n",
      "INFO:tensorflow:Signatures INCLUDED in export for Classify: None\n",
      "INFO:tensorflow:Signatures INCLUDED in export for Regress: None\n",
      "INFO:tensorflow:Signatures EXCLUDED from export because they cannot be be served via TensorFlow Serving APIs:\n",
      "INFO:tensorflow:'serving_default' : Regression input must be a single string Tensor; got {'gestation_weeks': <tf.Tensor 'Placeholder_3:0' shape=(?,) dtype=float32>, 'mother_age': <tf.Tensor 'Placeholder_1:0' shape=(?,) dtype=float32>, 'plurality': <tf.Tensor 'Placeholder_2:0' shape=(?,) dtype=string>, 'is_male': <tf.Tensor 'Placeholder:0' shape=(?,) dtype=string>}\n",
      "INFO:tensorflow:'regression' : Regression input must be a single string Tensor; got {'gestation_weeks': <tf.Tensor 'Placeholder_3:0' shape=(?,) dtype=float32>, 'mother_age': <tf.Tensor 'Placeholder_1:0' shape=(?,) dtype=float32>, 'plurality': <tf.Tensor 'Placeholder_2:0' shape=(?,) dtype=string>, 'is_male': <tf.Tensor 'Placeholder:0' shape=(?,) dtype=string>}\n",
      "WARNING:tensorflow:Export includes no default signature!\n",
      "INFO:tensorflow:Restoring parameters from babyweight_trained/model.ckpt-1000\n",
      "INFO:tensorflow:Assets added to graph.\n",
      "INFO:tensorflow:No assets to write.\n",
      "INFO:tensorflow:SavedModel written to: b\"babyweight_trained/export/exporter/temp-b'1543092187'/saved_model.pb\"\n"
     ]
    }
   ],
   "source": [
    "# Run the model\n",
    "shutil.rmtree('babyweight_trained', ignore_errors = True) # start fresh each time\n",
    "train_and_evaluate('babyweight_trained')"
   ]
  },
  {
   "cell_type": "markdown",
   "metadata": {},
   "source": [
    "When I ran it, the final lines of the output (above) were:\n",
    "<pre>\n",
    "INFO:tensorflow:Saving dict for global step 1000: average_loss = 1.2693067, global_step = 1000, loss = 635.9226\n",
    "INFO:tensorflow:Restoring parameters from babyweight_trained/model.ckpt-1000\n",
    "INFO:tensorflow:Assets added to graph.\n",
    "INFO:tensorflow:No assets to write.\n",
    "INFO:tensorflow:SavedModel written to: babyweight_trained/export/exporter/temp-1517899936/saved_model.pb\n",
    "</pre>\n",
    "The exporter directory contains the final model and the final RMSE (the average_loss) is 1.2693067"
   ]
  },
  {
   "cell_type": "markdown",
   "metadata": {},
   "source": [
    "<h2> Monitor and experiment with training </h2>"
   ]
  },
  {
   "cell_type": "code",
   "execution_count": 16,
   "metadata": {},
   "outputs": [
    {
     "data": {
      "text/html": [
       "<p>TensorBoard was started successfully with pid 4494. Click <a href=\"/_proxy/46185/\" target=\"_blank\">here</a> to access it.</p>"
      ]
     },
     "metadata": {},
     "output_type": "display_data"
    },
    {
     "data": {
      "text/plain": [
       "4494"
      ]
     },
     "execution_count": 16,
     "metadata": {},
     "output_type": "execute_result"
    }
   ],
   "source": [
    "from google.datalab.ml import TensorBoard\n",
    "TensorBoard().start('./babyweight_trained')"
   ]
  },
  {
   "cell_type": "code",
   "execution_count": 17,
   "metadata": {},
   "outputs": [
    {
     "name": "stdout",
     "output_type": "stream",
     "text": [
      "Stopped TensorBoard with pid 4494\n"
     ]
    }
   ],
   "source": [
    "for pid in TensorBoard.list()['pid']:\n",
    "  TensorBoard().stop(pid)\n",
    "  print('Stopped TensorBoard with pid {}'.format(pid))"
   ]
  },
  {
   "cell_type": "markdown",
   "metadata": {},
   "source": [
    "Copyright 2017-2018 Google Inc. Licensed under the Apache License, Version 2.0 (the \"License\"); you may not use this file except in compliance with the License. You may obtain a copy of the License at http://www.apache.org/licenses/LICENSE-2.0 Unless required by applicable law or agreed to in writing, software distributed under the License is distributed on an \"AS IS\" BASIS, WITHOUT WARRANTIES OR CONDITIONS OF ANY KIND, either express or implied. See the License for the specific language governing permissions and limitations under the License"
   ]
  }
 ],
 "metadata": {
  "kernelspec": {
   "display_name": "Python 3",
   "language": "python",
   "name": "python3"
  },
  "language_info": {
   "codemirror_mode": {
    "name": "ipython",
    "version": 3
   },
   "file_extension": ".py",
   "mimetype": "text/x-python",
   "name": "python",
   "nbconvert_exporter": "python",
   "pygments_lexer": "ipython3",
   "version": "3.5.5"
  }
 },
 "nbformat": 4,
 "nbformat_minor": 2
}
